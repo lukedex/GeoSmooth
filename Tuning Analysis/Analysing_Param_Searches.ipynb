{
 "cells": [
  {
   "cell_type": "markdown",
   "id": "b69ab4bd",
   "metadata": {},
   "source": [
    "#### Quickly investigating some of the outputs of the home rating area HP searches to determine the effect of fixing learning rate."
   ]
  },
  {
   "cell_type": "code",
   "execution_count": null,
   "id": "79ca16f5",
   "metadata": {},
   "outputs": [],
   "source": [
    "import pandas as pd\n",
    "import plotly.express as px\n",
    "import plotly as ply"
   ]
  },
  {
   "cell_type": "code",
   "execution_count": null,
   "id": "e44d099e",
   "metadata": {},
   "outputs": [],
   "source": [
    "fixed_lr = pd.read_csv(\"Files/BEOW_Freq_HPs_0.1_Learning_Rate.csv\")\n",
    "var_lr = pd.read_csv(\"Files/BEOW_Freq_HPs_Varied_Learning_Rate.csv\")"
   ]
  },
  {
   "cell_type": "markdown",
   "id": "97e4b7eb",
   "metadata": {},
   "source": [
    "##### Rounding all columns for easier analysis"
   ]
  },
  {
   "cell_type": "code",
   "execution_count": null,
   "id": "f116a00e",
   "metadata": {},
   "outputs": [],
   "source": [
    "for col in fixed_lr.columns:\n",
    "    fixed_lr[col]=fixed_lr[col].round(2)\n",
    "    \n",
    "for col in fixed_lr.columns:\n",
    "    var_lr[col]=var_lr[col].round(2)"
   ]
  },
  {
   "cell_type": "markdown",
   "id": "66ec0bcc",
   "metadata": {},
   "source": [
    "##### Creating Parallel Coordinates Graphs for each LR experiment"
   ]
  },
  {
   "cell_type": "code",
   "execution_count": null,
   "id": "c9c5233e",
   "metadata": {},
   "outputs": [],
   "source": [
    "fig = px.parallel_coordinates(var_lr[['learning_rate','max_depth','subsample','min_child_weight','colsample_bytree','alpha','lambda','gini_train','gini_val']], \n",
    "                             color='gini_val',\n",
    "                             color_continuous_scale=px.colors.diverging.Tealrose)\n",
    "\n",
    "ply.offline.plot(fig, filename='var_lr.html')"
   ]
  },
  {
   "cell_type": "code",
   "execution_count": null,
   "id": "55c861ef",
   "metadata": {},
   "outputs": [],
   "source": [
    "fig = px.parallel_coordinates(fixed_lr[['max_depth','subsample','min_child_weight','colsample_bytree','alpha','lambda','gini_train','gini_val']], \n",
    "                             color=\"gini_val\",\n",
    "                             color_continuous_scale=px.colors.diverging.Tealrose)\n",
    "\n",
    "ply.offline.plot(fig, filename='fixed_lr.html')"
   ]
  },
  {
   "cell_type": "markdown",
   "id": "8fa28642",
   "metadata": {},
   "source": [
    "##### Looking at average gini per few factors to see variations. Filtering only to where trainig gini is less than 0.45 to avoid some of the very overfit runs."
   ]
  },
  {
   "cell_type": "code",
   "execution_count": null,
   "id": "2d679130",
   "metadata": {},
   "outputs": [],
   "source": [
    "factor='max_depth'\n",
    "#factor='learning_rate'\n",
    "#factor='subsample'\n",
    "filtered_var_lr=fixed_lr[fixed_lr['gini_train']<0.45]\n",
    "filtered_var_lr[[factor,'gini_train','gini_val']].groupby(factor).mean()"
   ]
  },
  {
   "cell_type": "code",
   "execution_count": null,
   "id": "0b2c9b8c",
   "metadata": {},
   "outputs": [],
   "source": [
    "factor='max_depth'\n",
    "#factor='learning_rate'\n",
    "#factor='subsample'\n",
    "filtered_var_lr=var_lr[var_lr['gini_train']<0.45]\n",
    "filtered_var_lr[[factor,'gini_train','gini_val']].groupby(factor).mean()"
   ]
  },
  {
   "cell_type": "code",
   "execution_count": null,
   "id": "55b4cc3c",
   "metadata": {},
   "outputs": [],
   "source": [
    "fig = px.scatter(x=var_lr['trial_num'], y=var_lr['gini_val'])\n",
    "ply.offline.plot(fig, filename='scatter_var_lr.html')"
   ]
  },
  {
   "cell_type": "code",
   "execution_count": null,
   "id": "fda4ff45",
   "metadata": {},
   "outputs": [],
   "source": [
    "fig = px.scatter(x=fixed_lr['trial_num'], y=fixed_lr['gini_val'])\n",
    "ply.offline.plot(fig, filename='scatter_fixed_lr.html')"
   ]
  }
 ],
 "metadata": {
  "language_info": {
   "name": "python",
   "pygments_lexer": "ipython3"
  }
 },
 "nbformat": 4,
 "nbformat_minor": 5
}
