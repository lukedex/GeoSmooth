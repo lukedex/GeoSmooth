{
 "cells": [
  {
   "cell_type": "markdown",
   "metadata": {},
   "source": [
    "# GLM from Emblem"
   ]
  },
  {
   "cell_type": "code",
   "execution_count": null,
   "metadata": {},
   "outputs": [],
   "source": [
    "import statsmodels.api as sm\n",
    "import statsmodels.formula.api as smf\n",
    "\n",
    "import pandas as pd\n",
    "import numpy as np\n",
    "pd.set_option('display.max_columns', None)\n",
    "import sklearn\n",
    "\n",
    "from sklearn.preprocessing import OrdinalEncoder"
   ]
  },
  {
   "cell_type": "code",
   "execution_count": null,
   "metadata": {},
   "outputs": [],
   "source": [
    "Saga_NB_df_train = pd.read_csv(r\"R:\\Pricing & Actuarial\\Pricing\\Personal Lines Pricing - Motor\\Technical\\8. Optimisation\\6. CDL\\1. Jan22\\2. Modelling\\Python\\Cancellation_NB_Saga_Nov19-Nov21_train.csv\")\n",
    "Saga_NB_df_test = pd.read_csv(r\"R:\\Pricing & Actuarial\\Pricing\\Personal Lines Pricing - Motor\\Technical\\8. Optimisation\\6. CDL\\1. Jan22\\2. Modelling\\Python\\Cancellation_NB_Saga_Nov19-Nov21_test.csv\")"
   ]
  },
  {
   "cell_type": "code",
   "execution_count": null,
   "metadata": {},
   "outputs": [],
   "source": [
    "print('Train shape: ',Saga_NB_df_train.shape, 'Test shape: ', Saga_NB_df_test.shape)"
   ]
  },
  {
   "cell_type": "code",
   "execution_count": null,
   "metadata": {},
   "outputs": [],
   "source": [
    "Saga_NB_df_train.info()"
   ]
  },
  {
   "cell_type": "code",
   "execution_count": null,
   "metadata": {},
   "outputs": [],
   "source": [
    "Saga_NB_df_train.head()"
   ]
  },
  {
   "cell_type": "code",
   "execution_count": null,
   "metadata": {},
   "outputs": [],
   "source": []
  },
  {
   "cell_type": "code",
   "execution_count": null,
   "metadata": {},
   "outputs": [],
   "source": [
    "columns = Saga_NB_df_train.columns\n",
    "new_column_headers = []\n",
    "for val in columns:\n",
    "    altered_header = val.replace(\" \", \"_\")\n",
    "    #print(val)\n",
    "    #print(altered_header)\n",
    "    new_column_headers.append(altered_header)\n",
    "\n",
    "Saga_NB_df_train.columns = new_column_headers\n",
    "print(Saga_NB_df_train.columns)"
   ]
  },
  {
   "cell_type": "code",
   "execution_count": null,
   "metadata": {},
   "outputs": [],
   "source": [
    "#These are factors that either aren't GIPP compliant, allowed to be used in this stage of modelling  (may be added in overlays etc) or are part of the setup of the dataset, not important for modelling.\n",
    "Saga_NB_dropped_unnecessary_df = Saga_NB_df_train.drop(columns=['Weight', 'set', 'Add_Driver_Sex', 'Main_Driver_Sex', 'Main_Driver_Age_Months'])\n",
    "Saga_NB_dropped_unnecessary_df_test = Saga_NB_df_test.drop(columns=['Weight', 'set', 'Add_Driver_Sex', 'Main_Driver_Sex', 'Main_Driver_Age_Months'])"
   ]
  },
  {
   "cell_type": "markdown",
   "metadata": {},
   "source": [
    "## Banding features with Ordinal Encoder "
   ]
  },
  {
   "cell_type": "code",
   "execution_count": null,
   "metadata": {},
   "outputs": [],
   "source": [
    "## Encoding Training Data \n",
    "\n",
    "Saga_NB_transformed_df = Saga_NB_dropped_unnecessary_df[[\n",
    "                            'AgePassedTest', 'Cover', 'Duration', 'Garaged', 'NCDAllowed',\n",
    "                            'NCDDifference', 'RegistrationYear', 'VehicleAgeatPurchase', \n",
    "                            'YearsOwned', 'Class_of_Use', 'Annual_Mileage', 'Age_Difference',\n",
    "                            'Add_Driving_Experience', 'Add_Other_Vehs_Owned', 'Add_Driver_Age',\n",
    "                            'Add_Access_to_Other_Vehs', 'Access_to_Other_Vehs', 'PDR_Code',\n",
    "                            'Other_Vehs_Owned', 'NCD_Protected', 'NCD_Earned', 'Most_Severe_Conviction',\n",
    "                            'Main_UK_Residency', 'Main_Occupation', 'Main_Marital_Status', \n",
    "                            'Main_Licence_Type', 'Main_Full_Time_Employed', 'Main_Employment_Type',\n",
    "                            'Main_Driving_Experience_Months', 'Main_Employer_Business', 'Main_Driving_Experience',\n",
    "                            'Latest_Conviction', 'Latest_Fault_Accident_Claim','Latest_Non_Fault_Accident_Claim',\n",
    "                            'Latest_Windscreen_Claim','Main_Driver_Age', 'Transaction_Type', 'Tot_Windscreen_Claims', \n",
    "                            'Tot_Vandalism_Claims', 'Tot_Theft_Claims', 'Tot_Non_Fault_Accident_Claims', \n",
    "                            'Tot_Fire_Claims', 'Tot_Fault_Accident_Claims', 'Vehicle_Age', 'Vehicle_Keeper', \n",
    "                            'Vehicle_Owner', 'Vehicle_Value', 'Saga_Years_with_Broker', 'SagaCais', 'SagaFactor', 'SagaQuoteLag']]\n",
    "ordinal_encoder = OrdinalEncoder(categories=[[-1, 17, 18, 19, 20, 21, 22, 23, 24, 25, 26, 27, 28, 29, 30, 31, 32, 33, 34, 35, 36, 37, 38, 39, 40, 41, 42, 43, 44, 45, 46, 47, 48, 49, 50, 51, 52, 53, 54, 55, 56, 57, 58, 59, 60, 61, 62, 63, 64, 65, 66, 67, 68, 69, 70, 71, 72, 73, 74, 75, 76, 77, 78, 79, 80, 81, 82, 83, 84, 85, 86, 87],\n",
    "                                             ['Comp', 'TPFT'],\n",
    "                                             [0,1,2,3,4,5,6],\n",
    "                                             ['Car Park', 'Carport', 'Garaged', 'Locked Building', 'Locked Compound', 'On Drive', 'Private Property', 'Public Road', 'Third Party Premises', 'Unlocked Building', 'Unlocked Compund', 'Business Address', 'N/A'],\n",
    "                                             [0,1,2,3,4,5,6,7,8,9], #Missing? Can't mix int and strings... what to do?\n",
    "                                             [0,1,2,3,4,5,6,7,8,9],\n",
    "                                             [1997, 1998, 1999, 2000, 2001, 2002, 2003, 2004, 2005, 2006, 2007, 2008, 2009, 2010, 2011, 2012, 2013, 2014, 2015, 2016, 2017, 2018, 2019, 2020, 2021],\n",
    "                                             [0, 1, 2, 3, 4, 5, 6, 7, 8, 9, 10, 11, 12, 13, 14, 15, 16, 17, 18, 19, 20],\n",
    "                                             [0, 1, 2, 3, 4, 5, 6, 7, 8, 9, 10, 11, 12, 13, 14, 15],\n",
    "                                             ['SDP', 'SDP & C', 'Class 1', 'Class 2', 'Class 3', 'Class 1 (Policyholder Only)', 'Class 1 (Spouse Only)'],\n",
    "                                             ['1 - 1000', '1001 - 2000', '2001 - 3000', '3001 - 4000', '4001 - 5000', '5001 - 6000', '6001 - 7000', '7001 - 8000', '8001 - 9000', '9001 - 10000', '10001 - 11000', '11001 - 12000', '12001 - 13000', '13001 - 14000', '14001 - 15000', '15001 - 16000', '16001 - 17000', '17001 - 18000', '18001 - 19000', '19001 - 20000', '20001 - 21000', '21001 - 22000', '22001 - 23000', '23001 - 24000', '24001 - 25000', '25001 - 26000', '26001 - 27000', '27001 - 28000', '28001 - 29000', '29001 - 30000', 'Over 30000'],\n",
    "                                             ['IOD', '-15+', '-10 to -14', '-5 to -9', '0 to -4',  '1 to 5','6+'],\n",
    "                                             ['IOD', '0', '1', '2', '3', '4', '5', '6', '7', '8', '9'],\n",
    "                                             ['IOD', '0', '1', '2', '3', '4'],\n",
    "                                             ['IOD', '17 to 24', '25 to 29', '30-34', '35-39', '40-44', '45-49', '50-54', '55-59', '60-64', '65+'],\n",
    "                                             ['IOD', '0', '1', '2', '3', '4'],\n",
    "                                             [0,1,2,3,4,5],\n",
    "                                             ['Any', 'I&1', 'I&2', 'I&3', 'I&F', 'I&P', 'I&S', 'IOD'],\n",
    "                                             [0,1,2,3,4,5],\n",
    "                                             ['N', 'Y'],\n",
    "                                             [0,1,2,3,4,5,6,7,8,9], \n",
    "                                             ['No Conviction', 'A', 'B', 'C', 'D', 'E', 'F', 'G', 'H', 'I'],\n",
    "                                             [0,1,2,3],#Missing? Can't mix int and strings... what to do?\n",
    "                                             ['Not in Employment', 'Armed Services', 'Bar/Restaurant', 'Building & Construction', 'Driving/Motor Trade', 'Education/Research', 'Farming/Animals', 'Government/Public Services', 'Healthcare', 'Leisure/Beauty', 'Manual/Unskilled', 'Office/Professional', 'Other', 'Security Cash & Courier', 'Skilled', 'Sports/Entertainment'],\n",
    "                                             ['Common Law', 'Divorced', 'Married', 'Partnered', 'Separated', 'Single', 'N/A'],\n",
    "                                             ['Full (UK)', 'International', 'Provisional', 'Foreign', 'Restricted < 3 Years', 'Restricted >= 3 Years'],\n",
    "                                             ['N/A', 'N', 'Y'],\n",
    "                                             ['Employed', 'Employed (Temporary)','Financially Assisted', 'Household Duties', 'In Full Or Part Time Education', 'Independent Means', 'Unemployed', 'Own Company', 'Retired', 'Self Employed', 'Voluntary Work', 'Contractor', 'Missing'],\n",
    "                                             [0, 1, 2, 3, 4, 5, 6, 7, 8, 9, 10, 11, 12, 13, 14, 15, 16, 17, 18, 19, 20, 21, 22, 23, 24, 25, 26, 27, 28, 29, 30, 31, 32, 33, 34, 35, 36, 37, 38, 39, 40, 41, 42, 43, 44, 45, 46, 47, 48, 49, 50, 51, 52, 53, 54, 55, 56, 57, 58, 59, 60, 61, 62, 63, 64, 65, 66, 67, 68, 69, 70, 71, 72, 73, 74, 75, 76, 77, 78, 79, 80, 81, 82, 83, 84, 85, 86, 87, 88, 89, 90, 91, 92, 93, 94, 95, 96, 97, 98, 99, 100, 101, 102, 103, 104, 105, 106, 107, 108, 109, 110, 111, 112, 113, 114, 115, 116, 117, 118, 119],\n",
    "                                             ['Agriculture & Animals', 'Antique / Arts Trade', 'Armed Services', 'Aviation', 'Blue Collar', 'Business Professional', 'Cash Collector', 'Child Care', 'Construction', 'Courier', 'Craftsman', 'Design', 'Education and Training ', 'Electrical', 'Emergency Services', 'Engineering', 'Entertainment & Media', 'Finance & Insurance', 'Food', 'Government and Agencies', 'Healthcare', 'Holiday', 'Hotel Pub & Restaurant', 'Installation', 'IT', 'Leisure & Beauty', 'Maintenance & Repair', 'Manufacturing', 'Marketing', 'Mining and Fuel', 'Not in Employment', 'Office Administration', 'Other', 'Parks & Gardens', 'Photography', 'Property', 'Public Service', 'Publishing', 'Retail Food', 'Retail Sales', 'Science', 'Security', 'Social Services', 'Telecommunications', 'Tradesman', 'Transport', 'Missing'],\n",
    "                                             [0,1,2,3,4,5,6,7,8,9],\n",
    "                                             ['0 to 1', '1 to 2', '2 to 3', '3 to 4', '4 to 5', 'No Conviction'],\n",
    "                                             ['1 to 2', '2 to 3', '3 to 4', '4 to 5', '0 to 1', 'No Claim'],\n",
    "                                             ['1 to 2', '2 to 3', '3 to 4', '4 to 5', '0 to 1', 'No Claim'],\n",
    "                                             ['0 to 1', '1 to 2', '2 to 3', '3 to 4', '4 to 5', 'No Claim'],\n",
    "                                             [17, 18, 19, 20, 21, 22, 23, 24, 25, 26, 27, 28, 29, 30, 31, 32, 33, 34, 35, 36, 37, 38, 39, 40, 41, 42, 43, 44, 45, 46, 47, 48, 49, 50, 51, 52, 53, 54, 55, 56, 57, 58, 59, 60, 61, 62, 63, 64, 65, 66, 67, 68, 69, 70, 71, 72, 73, 74, 75, 76, 77, 78, 79, 80, 81, 82, 83, 84, 85, 86, 87, 88, 89, 90, 91, 92, 93, 94, 95, 96, 97, 98, 99, 100], \n",
    "                                             ['AJ-NB', 'AJ_RC', 'NB', 'RB', 'RC'],\n",
    "                                             ['No Claim', '1', '2', '3', '4', '5'],\n",
    "                                             ['No Claim', '1', '2', '3', '4', '5'],\n",
    "                                             ['No Claim', '1', '2', '3', '4', '5'],\n",
    "                                             ['No Claim', '1', '2', '3', '4', '5'],\n",
    "                                             ['No Claim', '1', '2', '3', '4', '5'],\n",
    "                                             ['No Claim', '1', '2', '3', '4', '5+'], \n",
    "                                             [0, 1, 2, 3, 4, 5, 6, 7, 8, 9, 10, 11, 12, 13, 14, 15, 16, 17, 18, 19, 20],\n",
    "                                             ['Proposer', 'Spouse', 'Common-Law Partner', 'Family', 'Company', 'Leased Vehicle', 'Other'],\n",
    "                                             ['Proposer', 'Spouse', 'Common-Law Partner', 'Family', 'Company', 'Leased Vehicle', 'Other'],\n",
    "                                             ['Under 1000', '1000 - 1999', '2000 - 2999', '3000 - 3999', '4000 - 4999', '5000 - 5999', '6000 - 6999', '7000 - 7999', '8000 - 8999', '9000 - 9999', '10000 - 10999', '11000 - 11999', '12000 - 12999', '13000 - 13999', '14000 - 14999', '15000 - 15999', '16000 - 16999', '17000 - 17999', '18000 - 18999', '19000 - 19999', '20000-20999', '21000-21999', '22000-22999', '23000-23999', '24000-24999', '25000-25999', '26000-26999', '27000-27999', '28000-28999', '29000-29999', '30000-30999', '31000-31999', '32000-32999', '33000-33999', '34000-34999', '35000-35999', '36000-36999', '37000-37999', '38000-38999', '39000-39999', '40000-40999', '41000-41999', '42000-42999', '43000-43999', '44000-44999', '45000-45999', '46000-46999', '47000-47999', '48000-48999', '49000-49999', '50000+'],\n",
    "                                             ['0', '1', '2', '3', '4', '5', '6+', 'Default'],\n",
    "                                             ['0 to 99', '100 to 199', '200+', 'Default'],\n",
    "                                             ['0-74', '75-84','85-94', '95-104', '105-114', '115-124', '125-134', '135-144', '145+', 'Default'],\n",
    "                                             ['0', '1', '2', '3', '4', '5', '6', '7', '8', '9', '10', '11', '12', '13', '14', '15', '16', '17', '18', '19', '20', '21', '22', '23', '24', '25', '26', '27', '28', '29', '30', 'Default']])\n",
    "vehicle_value_encoded = ordinal_encoder.fit_transform(Saga_NB_dropped_unnecessary_df[[\n",
    "                            'AgePassedTest', 'Cover', 'Duration', 'Garaged', 'NCDAllowed',\n",
    "                            'NCDDifference', 'RegistrationYear', 'VehicleAgeatPurchase', \n",
    "                            'YearsOwned', 'Class_of_Use', 'Annual_Mileage', 'Age_Difference',\n",
    "                            'Add_Driving_Experience', 'Add_Other_Vehs_Owned', 'Add_Driver_Age',\n",
    "                            'Add_Access_to_Other_Vehs', 'Access_to_Other_Vehs', 'PDR_Code',\n",
    "                            'Other_Vehs_Owned', 'NCD_Protected', 'NCD_Earned', 'Most_Severe_Conviction',\n",
    "                            'Main_UK_Residency', 'Main_Occupation', 'Main_Marital_Status', \n",
    "                            'Main_Licence_Type', 'Main_Full_Time_Employed', 'Main_Employment_Type',\n",
    "                            'Main_Driving_Experience_Months', 'Main_Employer_Business', 'Main_Driving_Experience',\n",
    "                            'Latest_Conviction', 'Latest_Fault_Accident_Claim','Latest_Non_Fault_Accident_Claim',\n",
    "                            'Latest_Windscreen_Claim','Main_Driver_Age', 'Transaction_Type', 'Tot_Windscreen_Claims', \n",
    "                            'Tot_Vandalism_Claims', 'Tot_Theft_Claims', 'Tot_Non_Fault_Accident_Claims', \n",
    "                            'Tot_Fire_Claims', 'Tot_Fault_Accident_Claims', 'Vehicle_Age', 'Vehicle_Keeper', \n",
    "                            'Vehicle_Owner', 'Vehicle_Value', 'Saga_Years_with_Broker', 'SagaCais', 'SagaFactor', 'SagaQuoteLag']])"
   ]
  },
  {
   "cell_type": "code",
   "execution_count": null,
   "metadata": {},
   "outputs": [],
   "source": [
    "## Encoding Testing Data \n",
    "\n",
    "Saga_NB_transformed_df_test = Saga_NB_dropped_unnecessary_df_test[[\n",
    "                            'AgePassedTest', 'Cover', 'Duration', 'Garaged', 'NCDAllowed',\n",
    "                            'NCDDifference', 'RegistrationYear', 'VehicleAgeatPurchase', \n",
    "                            'YearsOwned', 'Class_of_Use', 'Annual_Mileage', 'Age_Difference',\n",
    "                            'Add_Driving_Experience', 'Add_Other_Vehs_Owned', 'Add_Driver_Age',\n",
    "                            'Add_Access_to_Other_Vehs', 'Access_to_Other_Vehs', 'PDR_Code',\n",
    "                            'Other_Vehs_Owned', 'NCD_Protected', 'NCD_Earned', 'Most_Severe_Conviction',\n",
    "                            'Main_UK_Residency', 'Main_Occupation', 'Main_Marital_Status', \n",
    "                            'Main_Licence_Type', 'Main_Full_Time_Employed', 'Main_Employment_Type',\n",
    "                            'Main_Driving_Experience_Months', 'Main_Employer_Business', 'Main_Driving_Experience',\n",
    "                            'Latest_Conviction', 'Latest_Fault_Accident_Claim','Latest_Non_Fault_Accident_Claim',\n",
    "                            'Latest_Windscreen_Claim','Main_Driver_Age', 'Transaction_Type', 'Tot_Windscreen_Claims', \n",
    "                            'Tot_Vandalism_Claims', 'Tot_Theft_Claims', 'Tot_Non_Fault_Accident_Claims', \n",
    "                            'Tot_Fire_Claims', 'Tot_Fault_Accident_Claims', 'Vehicle_Age', 'Vehicle_Keeper', \n",
    "                            'Vehicle_Owner', 'Vehicle_Value', 'Saga_Years_with_Broker', 'SagaCais', 'SagaFactor', 'SagaQuoteLag']]\n",
    "ordinal_encoder = OrdinalEncoder(categories=[[-1, 17, 18, 19, 20, 21, 22, 23, 24, 25, 26, 27, 28, 29, 30, 31, 32, 33, 34, 35, 36, 37, 38, 39, 40, 41, 42, 43, 44, 45, 46, 47, 48, 49, 50, 51, 52, 53, 54, 55, 56, 57, 58, 59, 60, 61, 62, 63, 64, 65, 66, 67, 68, 69, 70, 71, 72, 73, 74, 75, 76, 77, 78, 79, 80, 81, 82, 83, 84, 85, 86, 87],\n",
    "                                             ['Comp', 'TPFT'],\n",
    "                                             [0,1,2,3,4,5,6],\n",
    "                                             ['Car Park', 'Carport', 'Garaged', 'Locked Building', 'Locked Compound', 'On Drive', 'Private Property', 'Public Road', 'Third Party Premises', 'Unlocked Building', 'Unlocked Compund', 'Business Address', 'N/A'],\n",
    "                                             [0,1,2,3,4,5,6,7,8,9], #Missing? Can't mix int and strings... what to do?\n",
    "                                             [0,1,2,3,4,5,6,7,8,9],\n",
    "                                             [1997, 1998, 1999, 2000, 2001, 2002, 2003, 2004, 2005, 2006, 2007, 2008, 2009, 2010, 2011, 2012, 2013, 2014, 2015, 2016, 2017, 2018, 2019, 2020, 2021],\n",
    "                                             [0, 1, 2, 3, 4, 5, 6, 7, 8, 9, 10, 11, 12, 13, 14, 15, 16, 17, 18, 19, 20],\n",
    "                                             [0, 1, 2, 3, 4, 5, 6, 7, 8, 9, 10, 11, 12, 13, 14, 15],\n",
    "                                             ['SDP', 'SDP & C', 'Class 1', 'Class 2', 'Class 3', 'Class 1 (Policyholder Only)', 'Class 1 (Spouse Only)'],\n",
    "                                             ['1 - 1000', '1001 - 2000', '2001 - 3000', '3001 - 4000', '4001 - 5000', '5001 - 6000', '6001 - 7000', '7001 - 8000', '8001 - 9000', '9001 - 10000', '10001 - 11000', '11001 - 12000', '12001 - 13000', '13001 - 14000', '14001 - 15000', '15001 - 16000', '16001 - 17000', '17001 - 18000', '18001 - 19000', '19001 - 20000', '20001 - 21000', '21001 - 22000', '22001 - 23000', '23001 - 24000', '24001 - 25000', '25001 - 26000', '26001 - 27000', '27001 - 28000', '28001 - 29000', '29001 - 30000', 'Over 30000'],\n",
    "                                             ['IOD', '-15+', '-10 to -14', '-5 to -9', '0 to -4',  '1 to 5','6+'],\n",
    "                                             ['IOD', '0', '1', '2', '3', '4', '5', '6', '7', '8', '9'],\n",
    "                                             ['IOD', '0', '1', '2', '3', '4'],\n",
    "                                             ['IOD', '17 to 24', '25 to 29', '30-34', '35-39', '40-44', '45-49', '50-54', '55-59', '60-64', '65+'],\n",
    "                                             ['IOD', '0', '1', '2', '3', '4'],\n",
    "                                             [0,1,2,3,4,5],\n",
    "                                             ['Any', 'I&1', 'I&2', 'I&3', 'I&F', 'I&P', 'I&S', 'IOD'],\n",
    "                                             [0,1,2,3,4,5],\n",
    "                                             ['N', 'Y'],\n",
    "                                             [0,1,2,3,4,5,6,7,8,9], \n",
    "                                             ['No Conviction', 'A', 'B', 'C', 'D', 'E', 'F', 'G', 'H', 'I'],\n",
    "                                             [0,1,2,3],#Missing? Can't mix int and strings... what to do?\n",
    "                                             ['Not in Employment', 'Armed Services', 'Bar/Restaurant', 'Building & Construction', 'Driving/Motor Trade', 'Education/Research', 'Farming/Animals', 'Government/Public Services', 'Healthcare', 'Leisure/Beauty', 'Manual/Unskilled', 'Office/Professional', 'Other', 'Security Cash & Courier', 'Skilled', 'Sports/Entertainment'],\n",
    "                                             ['Common Law', 'Divorced', 'Married', 'Partnered', 'Separated', 'Single', 'N/A'],\n",
    "                                             ['Full (UK)', 'International', 'Provisional', 'Foreign', 'Restricted < 3 Years', 'Restricted >= 3 Years'],\n",
    "                                             ['N/A', 'N', 'Y'],\n",
    "                                             ['Employed', 'Employed (Temporary)','Financially Assisted', 'Household Duties', 'In Full Or Part Time Education', 'Independent Means', 'Unemployed', 'Own Company', 'Retired', 'Self Employed', 'Voluntary Work', 'Contractor', 'Missing'],\n",
    "                                             [0, 1, 2, 3, 4, 5, 6, 7, 8, 9, 10, 11, 12, 13, 14, 15, 16, 17, 18, 19, 20, 21, 22, 23, 24, 25, 26, 27, 28, 29, 30, 31, 32, 33, 34, 35, 36, 37, 38, 39, 40, 41, 42, 43, 44, 45, 46, 47, 48, 49, 50, 51, 52, 53, 54, 55, 56, 57, 58, 59, 60, 61, 62, 63, 64, 65, 66, 67, 68, 69, 70, 71, 72, 73, 74, 75, 76, 77, 78, 79, 80, 81, 82, 83, 84, 85, 86, 87, 88, 89, 90, 91, 92, 93, 94, 95, 96, 97, 98, 99, 100, 101, 102, 103, 104, 105, 106, 107, 108, 109, 110, 111, 112, 113, 114, 115, 116, 117, 118, 119],\n",
    "                                             ['Agriculture & Animals', 'Antique / Arts Trade', 'Armed Services', 'Aviation', 'Blue Collar', 'Business Professional', 'Cash Collector', 'Child Care', 'Construction', 'Courier', 'Craftsman', 'Design', 'Education and Training ', 'Electrical', 'Emergency Services', 'Engineering', 'Entertainment & Media', 'Finance & Insurance', 'Food', 'Government and Agencies', 'Healthcare', 'Holiday', 'Hotel Pub & Restaurant', 'Installation', 'IT', 'Leisure & Beauty', 'Maintenance & Repair', 'Manufacturing', 'Marketing', 'Mining and Fuel', 'Not in Employment', 'Office Administration', 'Other', 'Parks & Gardens', 'Photography', 'Property', 'Public Service', 'Publishing', 'Retail Food', 'Retail Sales', 'Science', 'Security', 'Social Services', 'Telecommunications', 'Tradesman', 'Transport', 'Missing'],\n",
    "                                             [0,1,2,3,4,5,6,7,8,9],\n",
    "                                             ['0 to 1', '1 to 2', '2 to 3', '3 to 4', '4 to 5', 'No Conviction'],\n",
    "                                             ['1 to 2', '2 to 3', '3 to 4', '4 to 5', '0 to 1', 'No Claim'],\n",
    "                                             ['1 to 2', '2 to 3', '3 to 4', '4 to 5', '0 to 1', 'No Claim'],\n",
    "                                             ['0 to 1', '1 to 2', '2 to 3', '3 to 4', '4 to 5', 'No Claim'],\n",
    "                                             [17, 18, 19, 20, 21, 22, 23, 24, 25, 26, 27, 28, 29, 30, 31, 32, 33, 34, 35, 36, 37, 38, 39, 40, 41, 42, 43, 44, 45, 46, 47, 48, 49, 50, 51, 52, 53, 54, 55, 56, 57, 58, 59, 60, 61, 62, 63, 64, 65, 66, 67, 68, 69, 70, 71, 72, 73, 74, 75, 76, 77, 78, 79, 80, 81, 82, 83, 84, 85, 86, 87, 88, 89, 90, 91, 92, 93, 94, 95, 96, 97, 98, 99, 100], \n",
    "                                             ['AJ-NB', 'AJ_RC', 'NB', 'RB', 'RC'],\n",
    "                                             ['No Claim', '1', '2', '3', '4', '5'],\n",
    "                                             ['No Claim', '1', '2', '3', '4', '5'],\n",
    "                                             ['No Claim', '1', '2', '3', '4', '5'],\n",
    "                                             ['No Claim', '1', '2', '3', '4', '5'],\n",
    "                                             ['No Claim', '1', '2', '3', '4', '5'],\n",
    "                                             ['No Claim', '1', '2', '3', '4', '5+'], \n",
    "                                             [0, 1, 2, 3, 4, 5, 6, 7, 8, 9, 10, 11, 12, 13, 14, 15, 16, 17, 18, 19, 20],\n",
    "                                             ['Proposer', 'Spouse', 'Common-Law Partner', 'Family', 'Company', 'Leased Vehicle', 'Other'],\n",
    "                                             ['Proposer', 'Spouse', 'Common-Law Partner', 'Family', 'Company', 'Leased Vehicle', 'Other'],\n",
    "                                             ['Under 1000', '1000 - 1999', '2000 - 2999', '3000 - 3999', '4000 - 4999', '5000 - 5999', '6000 - 6999', '7000 - 7999', '8000 - 8999', '9000 - 9999', '10000 - 10999', '11000 - 11999', '12000 - 12999', '13000 - 13999', '14000 - 14999', '15000 - 15999', '16000 - 16999', '17000 - 17999', '18000 - 18999', '19000 - 19999', '20000-20999', '21000-21999', '22000-22999', '23000-23999', '24000-24999', '25000-25999', '26000-26999', '27000-27999', '28000-28999', '29000-29999', '30000-30999', '31000-31999', '32000-32999', '33000-33999', '34000-34999', '35000-35999', '36000-36999', '37000-37999', '38000-38999', '39000-39999', '40000-40999', '41000-41999', '42000-42999', '43000-43999', '44000-44999', '45000-45999', '46000-46999', '47000-47999', '48000-48999', '49000-49999', '50000+'],\n",
    "                                             ['0', '1', '2', '3', '4', '5', '6+', 'Default'],\n",
    "                                             ['0 to 99', '100 to 199', '200+', 'Default'],\n",
    "                                             ['0-74', '75-84','85-94', '95-104', '105-114', '115-124', '125-134', '135-144', '145+', 'Default'],\n",
    "                                             ['0', '1', '2', '3', '4', '5', '6', '7', '8', '9', '10', '11', '12', '13', '14', '15', '16', '17', '18', '19', '20', '21', '22', '23', '24', '25', '26', '27', '28', '29', '30', 'Default']])\n",
    "vehicle_value_encoded_test = ordinal_encoder.fit_transform(Saga_NB_dropped_unnecessary_df_test[[\n",
    "                            'AgePassedTest', 'Cover', 'Duration', 'Garaged', 'NCDAllowed',\n",
    "                            'NCDDifference', 'RegistrationYear', 'VehicleAgeatPurchase', \n",
    "                            'YearsOwned', 'Class_of_Use', 'Annual_Mileage', 'Age_Difference',\n",
    "                            'Add_Driving_Experience', 'Add_Other_Vehs_Owned', 'Add_Driver_Age',\n",
    "                            'Add_Access_to_Other_Vehs', 'Access_to_Other_Vehs', 'PDR_Code',\n",
    "                            'Other_Vehs_Owned', 'NCD_Protected', 'NCD_Earned', 'Most_Severe_Conviction',\n",
    "                            'Main_UK_Residency', 'Main_Occupation', 'Main_Marital_Status', \n",
    "                            'Main_Licence_Type', 'Main_Full_Time_Employed', 'Main_Employment_Type',\n",
    "                            'Main_Driving_Experience_Months', 'Main_Employer_Business', 'Main_Driving_Experience',\n",
    "                            'Latest_Conviction', 'Latest_Fault_Accident_Claim','Latest_Non_Fault_Accident_Claim',\n",
    "                            'Latest_Windscreen_Claim','Main_Driver_Age', 'Transaction_Type', 'Tot_Windscreen_Claims', \n",
    "                            'Tot_Vandalism_Claims', 'Tot_Theft_Claims', 'Tot_Non_Fault_Accident_Claims', \n",
    "                            'Tot_Fire_Claims', 'Tot_Fault_Accident_Claims', 'Vehicle_Age', 'Vehicle_Keeper', \n",
    "                            'Vehicle_Owner', 'Vehicle_Value', 'Saga_Years_with_Broker', 'SagaCais', 'SagaFactor', 'SagaQuoteLag']])"
   ]
  },
  {
   "cell_type": "code",
   "execution_count": null,
   "metadata": {},
   "outputs": [],
   "source": [
    "vehicle_value_encoded"
   ]
  },
  {
   "cell_type": "code",
   "execution_count": null,
   "metadata": {},
   "outputs": [],
   "source": [
    "vehicle_value_encoded_test"
   ]
  },
  {
   "cell_type": "code",
   "execution_count": null,
   "metadata": {},
   "outputs": [],
   "source": [
    "## Training Data \n",
    "\n",
    "Saga_NB_transformed_df[[\n",
    "                        'AgePassedTest', 'Cover', 'Duration', 'Garaged', 'NCDAllowed',\n",
    "                        'NCDDifference', 'RegistrationYear', 'VehicleAgeatPurchase', \n",
    "                        'YearsOwned', 'Class_of_Use', 'Annual_Mileage', 'Age_Difference',\n",
    "                        'Add_Driving_Experience', 'Add_Other_Vehs_Owned', 'Add_Driver_Age',\n",
    "                        'Add_Access_to_Other_Vehs', 'Access_to_Other_Vehs', 'PDR_Code',\n",
    "                        'Other_Vehs_Owned', 'NCD_Protected', 'NCD_Earned', 'Most_Severe_Conviction',\n",
    "                        'Main_UK_Residency', 'Main_Occupation', 'Main_Marital_Status', \n",
    "                        'Main_Licence_Type', 'Main_Full_Time_Employed', 'Main_Employment_Type',\n",
    "                        'Main_Driving_Experience_Months', 'Main_Employer_Business', 'Main_Driving_Experience',\n",
    "                        'Latest_Conviction', 'Latest_Fault_Accident_Claim','Latest_Non_Fault_Accident_Claim',\n",
    "                        'Latest_Windscreen_Claim','Main_Driver_Age', 'Transaction_Type', 'Tot_Windscreen_Claims', \n",
    "                        'Tot_Vandalism_Claims', 'Tot_Theft_Claims', 'Tot_Non_Fault_Accident_Claims', \n",
    "                        'Tot_Fire_Claims', 'Tot_Fault_Accident_Claims', 'Vehicle_Age', 'Vehicle_Keeper', \n",
    "                        'Vehicle_Owner', 'Vehicle_Value', 'Saga_Years_with_Broker', 'SagaCais', 'SagaFactor', 'SagaQuoteLag']] = vehicle_value_encoded\n",
    "Saga_NB_dropped_unnecessary_df[[\n",
    "                                'AgePassedTest', 'Cover', 'Duration', 'Garaged', 'NCDAllowed',\n",
    "                                'NCDDifference', 'RegistrationYear', 'VehicleAgeatPurchase', \n",
    "                                'YearsOwned', 'Class_of_Use', 'Annual_Mileage', 'Age_Difference',\n",
    "                                'Add_Driving_Experience', 'Add_Other_Vehs_Owned', 'Add_Driver_Age',\n",
    "                                'Add_Access_to_Other_Vehs', 'Access_to_Other_Vehs', 'PDR_Code',\n",
    "                                'Other_Vehs_Owned', 'NCD_Protected', 'NCD_Earned', 'Most_Severe_Conviction',\n",
    "                                'Main_UK_Residency', 'Main_Occupation', 'Main_Marital_Status', \n",
    "                                'Main_Licence_Type', 'Main_Full_Time_Employed', 'Main_Employment_Type',\n",
    "                                'Main_Driving_Experience_Months', 'Main_Employer_Business', 'Main_Driving_Experience',\n",
    "                                'Latest_Conviction', 'Latest_Fault_Accident_Claim','Latest_Non_Fault_Accident_Claim',\n",
    "                                'Latest_Windscreen_Claim','Main_Driver_Age', 'Transaction_Type', 'Tot_Windscreen_Claims', \n",
    "                                'Tot_Vandalism_Claims', 'Tot_Theft_Claims', 'Tot_Non_Fault_Accident_Claims', \n",
    "                                'Tot_Fire_Claims', 'Tot_Fault_Accident_Claims', 'Vehicle_Age', 'Vehicle_Keeper', \n",
    "                                'Vehicle_Owner', 'Vehicle_Value', 'Saga_Years_with_Broker', 'SagaCais', 'SagaFactor', 'SagaQuoteLag']] = Saga_NB_transformed_df[[\n",
    "                                                                                                                                                                'AgePassedTest', 'Cover', 'Duration', 'Garaged', 'NCDAllowed',\n",
    "                                                                                                                                                                'NCDDifference', 'RegistrationYear', 'VehicleAgeatPurchase', \n",
    "                                                                                                                                                                'YearsOwned', 'Class_of_Use', 'Annual_Mileage', 'Age_Difference',\n",
    "                                                                                                                                                                'Add_Driving_Experience', 'Add_Other_Vehs_Owned', 'Add_Driver_Age',\n",
    "                                                                                                                                                                'Add_Access_to_Other_Vehs', 'Access_to_Other_Vehs', 'PDR_Code',\n",
    "                                                                                                                                                                'Other_Vehs_Owned', 'NCD_Protected', 'NCD_Earned', 'Most_Severe_Conviction',\n",
    "                                                                                                                                                                'Main_UK_Residency', 'Main_Occupation', 'Main_Marital_Status', \n",
    "                                                                                                                                                                'Main_Licence_Type', 'Main_Full_Time_Employed', 'Main_Employment_Type',\n",
    "                                                                                                                                                                'Main_Driving_Experience_Months', 'Main_Employer_Business', 'Main_Driving_Experience',\n",
    "                                                                                                                                                                'Latest_Conviction', 'Latest_Fault_Accident_Claim','Latest_Non_Fault_Accident_Claim',\n",
    "                                                                                                                                                                'Latest_Windscreen_Claim','Main_Driver_Age', 'Transaction_Type', 'Tot_Windscreen_Claims', \n",
    "                                                                                                                                                                'Tot_Vandalism_Claims', 'Tot_Theft_Claims', 'Tot_Non_Fault_Accident_Claims', \n",
    "                                                                                                                                                                'Tot_Fire_Claims', 'Tot_Fault_Accident_Claims', 'Vehicle_Age', 'Vehicle_Keeper', \n",
    "                                                                                                                                                                'Vehicle_Owner', 'Vehicle_Value', 'Saga_Years_with_Broker', 'SagaCais', 'SagaFactor', 'SagaQuoteLag']]"
   ]
  },
  {
   "cell_type": "code",
   "execution_count": null,
   "metadata": {},
   "outputs": [],
   "source": [
    "## Testing Data \n",
    "\n",
    "Saga_NB_transformed_df_test[[\n",
    "                        'AgePassedTest', 'Cover', 'Duration', 'Garaged', 'NCDAllowed',\n",
    "                        'NCDDifference', 'RegistrationYear', 'VehicleAgeatPurchase', \n",
    "                        'YearsOwned', 'Class_of_Use', 'Annual_Mileage', 'Age_Difference',\n",
    "                        'Add_Driving_Experience', 'Add_Other_Vehs_Owned', 'Add_Driver_Age',\n",
    "                        'Add_Access_to_Other_Vehs', 'Access_to_Other_Vehs', 'PDR_Code',\n",
    "                        'Other_Vehs_Owned', 'NCD_Protected', 'NCD_Earned', 'Most_Severe_Conviction',\n",
    "                        'Main_UK_Residency', 'Main_Occupation', 'Main_Marital_Status', \n",
    "                        'Main_Licence_Type', 'Main_Full_Time_Employed', 'Main_Employment_Type',\n",
    "                        'Main_Driving_Experience_Months', 'Main_Employer_Business', 'Main_Driving_Experience',\n",
    "                        'Latest_Conviction', 'Latest_Fault_Accident_Claim','Latest_Non_Fault_Accident_Claim',\n",
    "                        'Latest_Windscreen_Claim','Main_Driver_Age', 'Transaction_Type', 'Tot_Windscreen_Claims', \n",
    "                        'Tot_Vandalism_Claims', 'Tot_Theft_Claims', 'Tot_Non_Fault_Accident_Claims', \n",
    "                        'Tot_Fire_Claims', 'Tot_Fault_Accident_Claims', 'Vehicle_Age', 'Vehicle_Keeper', \n",
    "                        'Vehicle_Owner', 'Vehicle_Value', 'Saga_Years_with_Broker', 'SagaCais', 'SagaFactor', 'SagaQuoteLag']] = vehicle_value_encoded_test\n",
    "Saga_NB_dropped_unnecessary_df_test[[\n",
    "                                'AgePassedTest', 'Cover', 'Duration', 'Garaged', 'NCDAllowed',\n",
    "                                'NCDDifference', 'RegistrationYear', 'VehicleAgeatPurchase', \n",
    "                                'YearsOwned', 'Class_of_Use', 'Annual_Mileage', 'Age_Difference',\n",
    "                                'Add_Driving_Experience', 'Add_Other_Vehs_Owned', 'Add_Driver_Age',\n",
    "                                'Add_Access_to_Other_Vehs', 'Access_to_Other_Vehs', 'PDR_Code',\n",
    "                                'Other_Vehs_Owned', 'NCD_Protected', 'NCD_Earned', 'Most_Severe_Conviction',\n",
    "                                'Main_UK_Residency', 'Main_Occupation', 'Main_Marital_Status', \n",
    "                                'Main_Licence_Type', 'Main_Full_Time_Employed', 'Main_Employment_Type',\n",
    "                                'Main_Driving_Experience_Months', 'Main_Employer_Business', 'Main_Driving_Experience',\n",
    "                                'Latest_Conviction', 'Latest_Fault_Accident_Claim','Latest_Non_Fault_Accident_Claim',\n",
    "                                'Latest_Windscreen_Claim','Main_Driver_Age', 'Transaction_Type', 'Tot_Windscreen_Claims', \n",
    "                                'Tot_Vandalism_Claims', 'Tot_Theft_Claims', 'Tot_Non_Fault_Accident_Claims', \n",
    "                                'Tot_Fire_Claims', 'Tot_Fault_Accident_Claims', 'Vehicle_Age', 'Vehicle_Keeper', \n",
    "                                'Vehicle_Owner', 'Vehicle_Value', 'Saga_Years_with_Broker', 'SagaCais', 'SagaFactor', 'SagaQuoteLag']] = Saga_NB_transformed_df_test[[\n",
    "                                                                                                                                                                'AgePassedTest', 'Cover', 'Duration', 'Garaged', 'NCDAllowed',\n",
    "                                                                                                                                                                'NCDDifference', 'RegistrationYear', 'VehicleAgeatPurchase', \n",
    "                                                                                                                                                                'YearsOwned', 'Class_of_Use', 'Annual_Mileage', 'Age_Difference',\n",
    "                                                                                                                                                                'Add_Driving_Experience', 'Add_Other_Vehs_Owned', 'Add_Driver_Age',\n",
    "                                                                                                                                                                'Add_Access_to_Other_Vehs', 'Access_to_Other_Vehs', 'PDR_Code',\n",
    "                                                                                                                                                                'Other_Vehs_Owned', 'NCD_Protected', 'NCD_Earned', 'Most_Severe_Conviction',\n",
    "                                                                                                                                                                'Main_UK_Residency', 'Main_Occupation', 'Main_Marital_Status', \n",
    "                                                                                                                                                                'Main_Licence_Type', 'Main_Full_Time_Employed', 'Main_Employment_Type',\n",
    "                                                                                                                                                                'Main_Driving_Experience_Months', 'Main_Employer_Business', 'Main_Driving_Experience',\n",
    "                                                                                                                                                                'Latest_Conviction', 'Latest_Fault_Accident_Claim','Latest_Non_Fault_Accident_Claim',\n",
    "                                                                                                                                                                'Latest_Windscreen_Claim','Main_Driver_Age', 'Transaction_Type', 'Tot_Windscreen_Claims', \n",
    "                                                                                                                                                                'Tot_Vandalism_Claims', 'Tot_Theft_Claims', 'Tot_Non_Fault_Accident_Claims', \n",
    "                                                                                                                                                                'Tot_Fire_Claims', 'Tot_Fault_Accident_Claims', 'Vehicle_Age', 'Vehicle_Keeper', \n",
    "                                                                                                                                                                'Vehicle_Owner', 'Vehicle_Value', 'Saga_Years_with_Broker', 'SagaCais', 'SagaFactor', 'SagaQuoteLag']]"
   ]
  },
  {
   "cell_type": "code",
   "execution_count": null,
   "metadata": {},
   "outputs": [],
   "source": [
    "## Encoded and Banded Training Data \n",
    "Saga_NB_dropped_unnecessary_df"
   ]
  },
  {
   "cell_type": "code",
   "execution_count": null,
   "metadata": {},
   "outputs": [],
   "source": [
    "## Encoded and Banded Testing Data \n",
    "Saga_NB_dropped_unnecessary_df_test"
   ]
  },
  {
   "cell_type": "markdown",
   "metadata": {},
   "source": [
    "## Scaling the Data "
   ]
  },
  {
   "cell_type": "code",
   "execution_count": null,
   "metadata": {},
   "outputs": [],
   "source": [
    "## Scaling Training Data \n",
    "from sklearn.preprocessing import MinMaxScaler\n",
    "trans = MinMaxScaler()\n",
    "Saga_NB_scaled_train = pd.DataFrame(trans.fit_transform(Saga_NB_dropped_unnecessary_df), index=Saga_NB_dropped_unnecessary_df.index, columns=Saga_NB_dropped_unnecessary_df.columns)\n",
    "Saga_NB_scaled_train.head()"
   ]
  },
  {
   "cell_type": "code",
   "execution_count": null,
   "metadata": {},
   "outputs": [],
   "source": [
    "## Scaling Testing Data \n",
    "from sklearn.preprocessing import MinMaxScaler\n",
    "trans = MinMaxScaler()\n",
    "Saga_NB_scaled_test = pd.DataFrame(trans.fit_transform(Saga_NB_dropped_unnecessary_df_test), index=Saga_NB_dropped_unnecessary_df_test.index, columns=Saga_NB_dropped_unnecessary_df_test.columns)\n",
    "Saga_NB_scaled_test.head()"
   ]
  },
  {
   "cell_type": "markdown",
   "metadata": {},
   "source": [
    "## Splitting Training and Testing Data "
   ]
  },
  {
   "cell_type": "code",
   "execution_count": null,
   "metadata": {},
   "outputs": [],
   "source": [
    "X_train = Saga_NB_scaled_train.drop(['cancelled'], axis=1)\n",
    "y_train = Saga_NB_scaled_train['cancelled'].copy()\n",
    "X_test = Saga_NB_scaled_test.drop(['cancelled'], axis=1)\n",
    "y_test = Saga_NB_scaled_test['cancelled'].copy()\n",
    "\n",
    "feature_names = [val for val in X_train]"
   ]
  },
  {
   "cell_type": "code",
   "execution_count": null,
   "metadata": {},
   "outputs": [],
   "source": [
    "Saga_NB_scaled_train.columns"
   ]
  },
  {
   "cell_type": "code",
   "execution_count": null,
   "metadata": {},
   "outputs": [],
   "source": [
    "factors_emblem_model = \"'AgePassedTest', 'YearsOwned', 'Class_of_Use', 'Annual_Mileage',  'Age_Difference', 'Add_Driver_Age', 'Access_to_Other_Vehs', 'PDR_Code', 'NCD_Protected', 'Main_Full_Time_Employed', 'Latest_Fault_Accident_Claim',  'Main_Driver_Age', 'Vehicle_Age',  'Vehicle_Value', 'Saga_Years_with_Broker',  'SagaCais',  'SagaFactor'\"\n",
    "factors_emblem_model.replace(\",\", \" +\").replace(\"'\",\"\")"
   ]
  },
  {
   "cell_type": "code",
   "execution_count": null,
   "metadata": {},
   "outputs": [],
   "source": [
    "##'C(AgePassedTest) + C(YearsOwned) + C(Class_of_Use) + C(Annual_Mileage) +  C(Age_Difference) + C(Add_Driver_Age) + C(Access_to_Other_Vehs) + C(PDR_Code) + C(NCD_Protected) + C(Main_Full_Time_Employed) + C(Latest_Fault_Accident_Claim) +  C(Main_Driver_Age) + C(Vehicle_Age) +  C(Vehicle_Value) + C(Saga_Years_with_Broker) +  C(SagaCais) +  C(SagaFactor) + C(SagaCais*AgePassedTest) + C(Vehicle_Age*YearsOwned) + C(Vehicle_Age*Age_Difference) + C(Add_Driver_Age*Main_Driver_Age) + C(Main_Full_Time_Employed*Main_Driver_Age)'"
   ]
  },
  {
   "cell_type": "code",
   "execution_count": null,
   "metadata": {},
   "outputs": [],
   "source": [
    "## Defining all possible levels for features \n",
    "all_AgePassedTest = sorted(set(Saga_NB_scaled_train[\"AgePassedTest\"]).union(set(Saga_NB_scaled_test[\"AgePassedTest\"])))\n",
    "all_YearsOwned = sorted(set(Saga_NB_scaled_train[\"YearsOwned\"]).union(set(Saga_NB_scaled_test[\"YearsOwned\"])))\n",
    "all_Class_of_Use = sorted(set(Saga_NB_scaled_train[\"Class_of_Use\"]).union(set(Saga_NB_scaled_test[\"Class_of_Use\"])))\n",
    "all_Annual_Mileage = sorted(set(Saga_NB_scaled_train[\"Annual_Mileage\"]).union(set(Saga_NB_scaled_test[\"Annual_Mileage\"])))\n",
    "all_Age_Difference = sorted(set(Saga_NB_scaled_train[\"Age_Difference\"]).union(set(Saga_NB_scaled_test[\"Age_Difference\"])))\n",
    "all_Add_Driver_Age = sorted(set(Saga_NB_scaled_train[\"Add_Driver_Age\"]).union(set(Saga_NB_scaled_test[\"Add_Driver_Age\"])))\n",
    "all_Access_to_Other_Vehs = sorted(set(Saga_NB_scaled_train[\"Access_to_Other_Vehs\"]).union(set(Saga_NB_scaled_test[\"Access_to_Other_Vehs\"])))\n",
    "all_PDR_Code = sorted(set(Saga_NB_scaled_train[\"PDR_Code\"]).union(set(Saga_NB_scaled_test[\"PDR_Code\"])))\n",
    "all_NCD_Protected = sorted(set(Saga_NB_scaled_train[\"NCD_Protected\"]).union(set(Saga_NB_scaled_test[\"NCD_Protected\"])))\n",
    "all_Main_Full_Time_Employed = sorted(set(Saga_NB_scaled_train[\"Main_Full_Time_Employed\"]).union(set(Saga_NB_scaled_test[\"Main_Full_Time_Employed\"])))\n",
    "all_Latest_Fault_Accident_Claim = sorted(set(Saga_NB_scaled_train[\"Latest_Fault_Accident_Claim\"]).union(set(Saga_NB_scaled_test[\"Latest_Fault_Accident_Claim\"])))\n",
    "all_Main_Driver_Age = sorted(set(Saga_NB_scaled_train[\"Main_Driver_Age\"]).union(set(Saga_NB_scaled_test[\"Main_Driver_Age\"])))\n",
    "all_Vehicle_Age = sorted(set(Saga_NB_scaled_train[\"Vehicle_Age\"]).union(set(Saga_NB_scaled_test[\"Vehicle_Age\"])))\n",
    "all_Vehicle_Value = sorted(set(Saga_NB_scaled_train[\"Vehicle_Value\"]).union(set(Saga_NB_scaled_test[\"Vehicle_Value\"])))\n",
    "all_Saga_Years_with_Broker = sorted(set(Saga_NB_scaled_train[\"Saga_Years_with_Broker\"]).union(set(Saga_NB_scaled_test[\"Saga_Years_with_Broker\"])))\n",
    "all_SagaCais = sorted(set(Saga_NB_scaled_train[\"SagaCais\"]).union(set(Saga_NB_scaled_test[\"SagaCais\"])))\n",
    "all_SagaFactor = sorted(set(Saga_NB_scaled_train[\"SagaFactor\"]).union(set(Saga_NB_scaled_test[\"SagaFactor\"])))"
   ]
  },
  {
   "cell_type": "code",
   "execution_count": null,
   "metadata": {},
   "outputs": [],
   "source": [
    "mod_banded_emblem_no_interactions = smf.glm(formula = \"cancelled ~ (C(AgePassedTest) + C(YearsOwned) + C(Class_of_Use) + C(Annual_Mileage) +  C(Age_Difference) + C(Add_Driver_Age) + C(Access_to_Other_Vehs) + C(PDR_Code) + C(NCD_Protected) + C(Main_Full_Time_Employed) + C(Latest_Fault_Accident_Claim) +  C(Main_Driver_Age) + C(Vehicle_Age) +  C(Vehicle_Value) + C(Saga_Years_with_Broker) +  C(SagaCais) +  C(SagaFactor))\", data =Saga_NB_scaled_train , family=sm.families.Binomial()).fit()\n",
    "mod_banded_emblem_no_interactions.summary()"
   ]
  },
  {
   "cell_type": "code",
   "execution_count": null,
   "metadata": {},
   "outputs": [],
   "source": [
    "from statsmodels.stats.outliers_influence import variance_inflation_factor\n",
    "X =  Saga_NB_scaled_train[['AgePassedTest', 'YearsOwned', 'Class_of_Use', 'Annual_Mileage',  'Age_Difference', 'Add_Driver_Age', 'Access_to_Other_Vehs', 'PDR_Code', 'NCD_Protected', 'Main_Full_Time_Employed', 'Latest_Fault_Accident_Claim',  'Main_Driver_Age', 'Vehicle_Age',  'Vehicle_Value', 'Saga_Years_with_Broker',  'SagaCais',  'SagaFactor']]\n",
    "X['Intercept'] = 1\n",
    "\n",
    "vif = pd.DataFrame()\n",
    "vif['Features'] = X.columns\n",
    "vif['VIF'] = [variance_inflation_factor(X.values, i) for i in range (X.shape[1])]\n",
    "vif.sort_values(by=\"VIF\", ascending=False) "
   ]
  },
  {
   "cell_type": "code",
   "execution_count": null,
   "metadata": {},
   "outputs": [],
   "source": [
    "## Removing Add_Driver_Age\n",
    "mod_banded_emblem_no_interactions_r1 = smf.glm(formula = \"cancelled ~ (C(AgePassedTest, levels=all_AgePassedTest) + C(YearsOwned, levels=all_YearsOwned) + C(Class_of_Use, levels=all_Class_of_Use) + C(Annual_Mileage, levels=all_Annual_Mileage) +  C(Age_Difference, levels=all_Age_Difference) + C(Access_to_Other_Vehs, levels=all_Access_to_Other_Vehs) + C(PDR_Code, levels=all_PDR_Code) + C(NCD_Protected, levels=all_NCD_Protected) + C(Main_Full_Time_Employed, levels=all_Main_Full_Time_Employed) + C(Latest_Fault_Accident_Claim, levels=all_Latest_Fault_Accident_Claim) +  C(Main_Driver_Age, levels=all_Main_Driver_Age) + C(Vehicle_Age, levels=all_Vehicle_Age) +  C(Vehicle_Value, levels=all_Vehicle_Value) + C(Saga_Years_with_Broker, levels=all_Saga_Years_with_Broker) +  C(SagaCais, levels=all_SagaCais) +  C(SagaFactor, levels=all_SagaFactor))\", data =Saga_NB_scaled_train , family=sm.families.Binomial()).fit()\n",
    "mod_banded_emblem_no_interactions_r1.summary()"
   ]
  },
  {
   "cell_type": "code",
   "execution_count": null,
   "metadata": {},
   "outputs": [],
   "source": [
    "from statsmodels.stats.outliers_influence import variance_inflation_factor\n",
    "X =  Saga_NB_scaled_train[['AgePassedTest', 'YearsOwned', 'Class_of_Use', 'Annual_Mileage',  'Age_Difference', 'Access_to_Other_Vehs', 'PDR_Code', 'NCD_Protected', 'Main_Full_Time_Employed', 'Latest_Fault_Accident_Claim',  'Main_Driver_Age', 'Vehicle_Age',  'Vehicle_Value', 'Saga_Years_with_Broker',  'SagaCais',  'SagaFactor']]\n",
    "X['Intercept'] = 1\n",
    "\n",
    "vif = pd.DataFrame()\n",
    "vif['Features'] = X.columns\n",
    "vif['VIF'] = [variance_inflation_factor(X.values, i) for i in range (X.shape[1])]\n",
    "vif.sort_values(by=\"VIF\", ascending=False) "
   ]
  },
  {
   "cell_type": "code",
   "execution_count": null,
   "metadata": {},
   "outputs": [],
   "source": [
    "from sklearn import metrics\n",
    "y_predict = mod_banded_emblem_no_interactions_r1.predict(X_test)\n",
    "roc_auc = metrics.roc_auc_score(y_test, y_predict)\n",
    "Gini = 2*roc_auc - 1\n",
    "print(Gini)"
   ]
  },
  {
   "cell_type": "code",
   "execution_count": null,
   "metadata": {},
   "outputs": [],
   "source": [
    "from sklearn import metrics\n",
    "y_predict = mod_banded_emblem_no_interactions_r1.predict(X_test)\n",
    "roc_auc = metrics.roc_auc_score(y_test, y_predict)\n",
    "Gini = 2*roc_auc - 1\n",
    "print(Gini)\n",
    "\n",
    "\n",
    "import matplotlib.pyplot as plt\n",
    "import scipy.interpolate\n",
    "import scipy.integrate\n",
    "\n",
    "def gini(actual, pred):\n",
    "    assert (len(actual) == len(pred))\n",
    "    all = np.asarray(np.c_[actual, pred, np.arange(len(actual))], dtype=np.float)\n",
    "    all = all[np.lexsort((all[:, 2], -1 * all[:, 1]))]\n",
    "    totalLosses = all[:, 0].sum()\n",
    "    giniSum = all[:, 0].cumsum().sum() / totalLosses\n",
    "\n",
    "    giniSum -= (len(actual) + 1) / 2.\n",
    "    return giniSum / len(actual)\n",
    "\n",
    "\n",
    "def gini_normalized(actual, pred):\n",
    "    return gini(actual, pred) / gini(actual, actual)\n",
    "\n",
    "gini_predictions = gini(y_test, y_predict)\n",
    "gini_max = gini(y_test, y_test)\n",
    "ngini= gini_normalized(y_test, y_predict)\n",
    "print('Gini: %.3f, Max. Gini: %.3f, Normalized Gini: %.3f' % (gini_predictions, gini_max, ngini))"
   ]
  },
  {
   "cell_type": "code",
   "execution_count": null,
   "metadata": {},
   "outputs": [],
   "source": [
    "auc_Saga_NB = metrics.roc_auc_score(y_test, y_predict)\n",
    "Gini = (2*auc_Saga_NB) - 1\n",
    "print(Gini)"
   ]
  },
  {
   "cell_type": "markdown",
   "metadata": {},
   "source": [
    "## Adding Interactions from Fitted Emblem Model"
   ]
  },
  {
   "cell_type": "markdown",
   "metadata": {},
   "source": [
    "- SagaCais and AgePassedTest \n",
    "- Vehicle Age and YearsOwned \n",
    "- Vehicle Age and Age Difference \n",
    "- Add Driver Age and Main Driver Age \n",
    "- Main Full Time Employment and Main Driver Age "
   ]
  },
  {
   "cell_type": "code",
   "execution_count": null,
   "metadata": {},
   "outputs": [],
   "source": []
  }
 ],
 "metadata": {
  "language_info": {
   "name": "python",
   "pygments_lexer": "ipython3"
  }
 },
 "nbformat": 4,
 "nbformat_minor": 4
}
