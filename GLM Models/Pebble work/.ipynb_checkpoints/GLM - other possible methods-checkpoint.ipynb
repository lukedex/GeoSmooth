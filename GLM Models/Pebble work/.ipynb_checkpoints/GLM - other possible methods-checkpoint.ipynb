{
 "cells": [
  {
   "cell_type": "code",
   "execution_count": null,
   "metadata": {},
   "outputs": [],
   "source": [
    "import pandas as pd\n",
    "from sklearn.linear_model import LogisticRegression\n",
    "import sklearn \n"
   ]
  },
  {
   "cell_type": "code",
   "execution_count": null,
   "metadata": {},
   "outputs": [],
   "source": [
    "#R:\\Pricing & Actuarial\\Pricing\\Personal Lines Pricing - Motor\\Technical\\8. Optimisation\\6. CDL\\1. Jan22\\2. Modelling\\1. Cancellation\\1. Data\n",
    "Saga_NB_df = pd.read_csv(r\"R:\\Pricing & Actuarial\\Pricing\\Personal Lines Pricing - Motor\\Technical\\8. Optimisation\\6. CDL\\1. Jan22\\2. Modelling\\Python\\Cancellation_NB_Saga_Nov19-Nov21_train.csv\")\n",
    "\n",
    "Saga_NB_test_df = pd.read_csv(r\"R:\\Pricing & Actuarial\\Pricing\\Personal Lines Pricing - Motor\\Technical\\8. Optimisation\\6. CDL\\1. Jan22\\2. Modelling\\Python\\Cancellation_NB_Saga_Nov19-Nov21_test.csv\")"
   ]
  },
  {
   "cell_type": "code",
   "execution_count": null,
   "metadata": {},
   "outputs": [],
   "source": [
    "columns = Saga_NB_df.columns\n",
    "new_column_headers = []\n",
    "for val in columns:\n",
    "    altered_header = val.replace(\" \", \"_\")\n",
    "    #print(val)\n",
    "    #print(altered_header)\n",
    "    new_column_headers.append(altered_header)\n",
    "\n",
    "Saga_NB_df.columns = new_column_headers\n",
    "print(Saga_NB_df.columns)"
   ]
  },
  {
   "cell_type": "code",
   "execution_count": null,
   "metadata": {},
   "outputs": [],
   "source": [
    "import pandas as pd\n",
    "import numpy as np\n",
    "from sklearn.feature_selection import SelectKBest\n",
    "from sklearn.feature_selection import chi2\n",
    "\n",
    "#These are factors that either aren't GIPP compliant, allowed to be used in this stage of modelling  (may be added in overlays etc) or are part of the setup of the dataset, not important for modelling.\n",
    "Saga_NB_dropped_unnecessary_df = Saga_NB_df.drop(columns=['Weight', 'set', 'Add_Driver_Sex', 'Main_Driver_Sex', 'Main_Driver_Age_Months'])\n",
    "\n",
    "Saga_NB_dropped_unnecessary_test_df = Saga_NB_test_df.drop(columns=['Weight', 'set', 'Add_Driver_Sex', 'Main_Driver_Sex', 'Main_Driver_Age_Months', 'validation_set'])\n",
    "\n",
    "#Check shapes of the dataframe.\n",
    "print(Saga_NB_dropped_unnecessary_df.shape, Saga_NB_dropped_unnecessary_test_df.shape)\n",
    "\n"
   ]
  },
  {
   "cell_type": "code",
   "execution_count": null,
   "metadata": {},
   "outputs": [],
   "source": [
    "from sklearn.preprocessing import OrdinalEncoder\n",
    "\n",
    "Saga_NB_transformed_df = Saga_NB_dropped_unnecessary_df[[\n",
    "                            'AgePassedTest', 'Cover', 'Duration', 'Garaged', 'NCDAllowed',\n",
    "                            'NCDDifference', 'RegistrationYear', 'VehicleAgeatPurchase', \n",
    "                            'YearsOwned', 'Class_of_Use', 'Annual_Mileage', 'Age_Difference',\n",
    "                            'Add_Driving_Experience', 'Add_Other_Vehs_Owned', 'Add_Driver_Age',\n",
    "                            'Add_Access_to_Other_Vehs', 'Access_to_Other_Vehs', 'PDR_Code',\n",
    "                            'Other_Vehs_Owned', 'NCD_Protected', 'NCD_Earned', 'Most_Severe_Conviction',\n",
    "                            'Main_UK_Residency', 'Main_Occupation', 'Main_Marital_Status', \n",
    "                            'Main_Licence_Type', 'Main_Full_Time_Employed', 'Main_Employment_Type',\n",
    "                            'Main_Driving_Experience_Months', 'Main_Employer_Business', 'Main_Driving_Experience',\n",
    "                            'Latest_Conviction', 'Latest_Fault_Accident_Claim','Latest_Non_Fault_Accident_Claim',\n",
    "                            'Latest_Windscreen_Claim','Main_Driver_Age', 'Transaction_Type', 'Tot_Windscreen_Claims', \n",
    "                            'Tot_Vandalism_Claims', 'Tot_Theft_Claims', 'Tot_Non_Fault_Accident_Claims', \n",
    "                            'Tot_Fire_Claims', 'Tot_Fault_Accident_Claims', 'Vehicle_Age', 'Vehicle_Keeper', \n",
    "                            'Vehicle_Owner', 'Vehicle_Value', 'Saga_Years_with_Broker', 'SagaCais', 'SagaFactor', 'SagaQuoteLag']]\n",
    "ordinal_encoder = OrdinalEncoder(categories=[[-1, 17, 18, 19, 20, 21, 22, 23, 24, 25, 26, 27, 28, 29, 30, 31, 32, 33, 34, 35, 36, 37, 38, 39, 40, 41, 42, 43, 44, 45, 46, 47, 48, 49, 50, 51, 52, 53, 54, 55, 56, 57, 58, 59, 60, 61, 62, 63, 64, 65, 66, 67, 68, 69, 70, 71, 72, 73, 74, 75, 76, 77, 78, 79, 80, 81, 82, 83, 84, 85, 86, 87],\n",
    "                                             ['Comp', 'TPFT'],\n",
    "                                             [0,1,2,3,4,5,6],\n",
    "                                             ['Car Park', 'Carport', 'Garaged', 'Locked Building', 'Locked Compound', 'On Drive', 'Private Property', 'Public Road', 'Third Party Premises', 'Unlocked Building', 'Unlocked Compund', 'Business Address', 'N/A'],\n",
    "                                             [0,1,2,3,4,5,6,7,8,9], #Missing? Can't mix int and strings... what to do?\n",
    "                                             [0,1,2,3,4,5,6,7,8,9],\n",
    "                                             [1997, 1998, 1999, 2000, 2001, 2002, 2003, 2004, 2005, 2006, 2007, 2008, 2009, 2010, 2011, 2012, 2013, 2014, 2015, 2016, 2017, 2018, 2019, 2020, 2021],\n",
    "                                             [0, 1, 2, 3, 4, 5, 6, 7, 8, 9, 10, 11, 12, 13, 14, 15, 16, 17, 18, 19, 20],\n",
    "                                             [0, 1, 2, 3, 4, 5, 6, 7, 8, 9, 10, 11, 12, 13, 14, 15],\n",
    "                                             ['SDP', 'SDP & C', 'Class 1', 'Class 2', 'Class 3', 'Class 1 (Policyholder Only)', 'Class 1 (Spouse Only)'],\n",
    "                                             ['1 - 1000', '1001 - 2000', '2001 - 3000', '3001 - 4000', '4001 - 5000', '5001 - 6000', '6001 - 7000', '7001 - 8000', '8001 - 9000', '9001 - 10000', '10001 - 11000', '11001 - 12000', '12001 - 13000', '13001 - 14000', '14001 - 15000', '15001 - 16000', '16001 - 17000', '17001 - 18000', '18001 - 19000', '19001 - 20000', '20001 - 21000', '21001 - 22000', '22001 - 23000', '23001 - 24000', '24001 - 25000', '25001 - 26000', '26001 - 27000', '27001 - 28000', '28001 - 29000', '29001 - 30000', 'Over 30000'],\n",
    "                                             ['IOD', '-15+', '-10 to -14', '-5 to -9', '0 to -4',  '1 to 5','6+'],\n",
    "                                             ['IOD', '0', '1', '2', '3', '4', '5', '6', '7', '8', '9'],\n",
    "                                             ['IOD', '0', '1', '2', '3', '4'],\n",
    "                                             ['IOD', '17 to 24', '25 to 29', '30-34', '35-39', '40-44', '45-49', '50-54', '55-59', '60-64', '65+'],\n",
    "                                             ['IOD', '0', '1', '2', '3', '4'],\n",
    "                                             [0,1,2,3,4,5],\n",
    "                                             ['Any', 'I&1', 'I&2', 'I&3', 'I&F', 'I&P', 'I&S', 'IOD'],\n",
    "                                             [0,1,2,3,4,5],\n",
    "                                             ['N', 'Y'],\n",
    "                                             [0,1,2,3,4,5,6,7,8,9], \n",
    "                                             ['No Conviction', 'A', 'B', 'C', 'D', 'E', 'F', 'G', 'H', 'I'],\n",
    "                                             [0,1,2,3],#Missing? Can't mix int and strings... what to do?\n",
    "                                             ['Not in Employment', 'Armed Services', 'Bar/Restaurant', 'Building & Construction', 'Driving/Motor Trade', 'Education/Research', 'Farming/Animals', 'Government/Public Services', 'Healthcare', 'Leisure/Beauty', 'Manual/Unskilled', 'Office/Professional', 'Other', 'Security Cash & Courier', 'Skilled', 'Sports/Entertainment'],\n",
    "                                             ['Common Law', 'Divorced', 'Married', 'Partnered', 'Separated', 'Single', 'N/A'],\n",
    "                                             ['Full (UK)', 'International', 'Provisional', 'Foreign', 'Restricted < 3 Years', 'Restricted >= 3 Years'],\n",
    "                                             ['N/A', 'N', 'Y'],\n",
    "                                             ['Employed', 'Employed (Temporary)','Financially Assisted', 'Household Duties', 'In Full Or Part Time Education', 'Independent Means', 'Unemployed', 'Own Company', 'Retired', 'Self Employed', 'Voluntary Work', 'Contractor', 'Missing'],\n",
    "                                             [0, 1, 2, 3, 4, 5, 6, 7, 8, 9, 10, 11, 12, 13, 14, 15, 16, 17, 18, 19, 20, 21, 22, 23, 24, 25, 26, 27, 28, 29, 30, 31, 32, 33, 34, 35, 36, 37, 38, 39, 40, 41, 42, 43, 44, 45, 46, 47, 48, 49, 50, 51, 52, 53, 54, 55, 56, 57, 58, 59, 60, 61, 62, 63, 64, 65, 66, 67, 68, 69, 70, 71, 72, 73, 74, 75, 76, 77, 78, 79, 80, 81, 82, 83, 84, 85, 86, 87, 88, 89, 90, 91, 92, 93, 94, 95, 96, 97, 98, 99, 100, 101, 102, 103, 104, 105, 106, 107, 108, 109, 110, 111, 112, 113, 114, 115, 116, 117, 118, 119],\n",
    "                                             ['Agriculture & Animals', 'Antique / Arts Trade', 'Armed Services', 'Aviation', 'Blue Collar', 'Business Professional', 'Cash Collector', 'Child Care', 'Construction', 'Courier', 'Craftsman', 'Design', 'Education and Training ', 'Electrical', 'Emergency Services', 'Engineering', 'Entertainment & Media', 'Finance & Insurance', 'Food', 'Government and Agencies', 'Healthcare', 'Holiday', 'Hotel Pub & Restaurant', 'Installation', 'IT', 'Leisure & Beauty', 'Maintenance & Repair', 'Manufacturing', 'Marketing', 'Mining and Fuel', 'Not in Employment', 'Office Administration', 'Other', 'Parks & Gardens', 'Photography', 'Property', 'Public Service', 'Publishing', 'Retail Food', 'Retail Sales', 'Science', 'Security', 'Social Services', 'Telecommunications', 'Tradesman', 'Transport', 'Missing'],\n",
    "                                             [0,1,2,3,4,5,6,7,8,9],\n",
    "                                             ['0 to 1', '1 to 2', '2 to 3', '3 to 4', '4 to 5', 'No Conviction'],\n",
    "                                             ['1 to 2', '2 to 3', '3 to 4', '4 to 5', '0 to 1', 'No Claim'],\n",
    "                                             ['1 to 2', '2 to 3', '3 to 4', '4 to 5', '0 to 1', 'No Claim'],\n",
    "                                             ['0 to 1', '1 to 2', '2 to 3', '3 to 4', '4 to 5', 'No Claim'],\n",
    "                                             [17, 18, 19, 20, 21, 22, 23, 24, 25, 26, 27, 28, 29, 30, 31, 32, 33, 34, 35, 36, 37, 38, 39, 40, 41, 42, 43, 44, 45, 46, 47, 48, 49, 50, 51, 52, 53, 54, 55, 56, 57, 58, 59, 60, 61, 62, 63, 64, 65, 66, 67, 68, 69, 70, 71, 72, 73, 74, 75, 76, 77, 78, 79, 80, 81, 82, 83, 84, 85, 86, 87, 88, 89, 90, 91, 92, 93, 94, 95, 96, 97, 98, 99, 100], \n",
    "                                             ['AJ-NB', 'AJ_RC', 'NB', 'RB', 'RC'],\n",
    "                                             ['No Claim', '1', '2', '3', '4', '5'],\n",
    "                                             ['No Claim', '1', '2', '3', '4', '5'],\n",
    "                                             ['No Claim', '1', '2', '3', '4', '5'],\n",
    "                                             ['No Claim', '1', '2', '3', '4', '5'],\n",
    "                                             ['No Claim', '1', '2', '3', '4', '5'],\n",
    "                                             ['No Claim', '1', '2', '3', '4', '5+'], \n",
    "                                             [0, 1, 2, 3, 4, 5, 6, 7, 8, 9, 10, 11, 12, 13, 14, 15, 16, 17, 18, 19, 20],\n",
    "                                             ['Proposer', 'Spouse', 'Common-Law Partner', 'Family', 'Company', 'Leased Vehicle', 'Other'],\n",
    "                                             ['Proposer', 'Spouse', 'Common-Law Partner', 'Family', 'Company', 'Leased Vehicle', 'Other'],\n",
    "                                             ['Under 1000', '1000 - 1999', '2000 - 2999', '3000 - 3999', '4000 - 4999', '5000 - 5999', '6000 - 6999', '7000 - 7999', '8000 - 8999', '9000 - 9999', '10000 - 10999', '11000 - 11999', '12000 - 12999', '13000 - 13999', '14000 - 14999', '15000 - 15999', '16000 - 16999', '17000 - 17999', '18000 - 18999', '19000 - 19999', '20000-20999', '21000-21999', '22000-22999', '23000-23999', '24000-24999', '25000-25999', '26000-26999', '27000-27999', '28000-28999', '29000-29999', '30000-30999', '31000-31999', '32000-32999', '33000-33999', '34000-34999', '35000-35999', '36000-36999', '37000-37999', '38000-38999', '39000-39999', '40000-40999', '41000-41999', '42000-42999', '43000-43999', '44000-44999', '45000-45999', '46000-46999', '47000-47999', '48000-48999', '49000-49999', '50000+'],\n",
    "                                             ['0', '1', '2', '3', '4', '5', '6+', 'Default'],\n",
    "                                             ['0 to 99', '100 to 199', '200+', 'Default'],\n",
    "                                             ['0-74', '75-84','85-94', '95-104', '105-114', '115-124', '125-134', '135-144', '145+', 'Default'],\n",
    "                                             ['0', '1', '2', '3', '4', '5', '6', '7', '8', '9', '10', '11', '12', '13', '14', '15', '16', '17', '18', '19', '20', '21', '22', '23', '24', '25', '26', '27', '28', '29', '30', 'Default']])\n",
    "vehicle_value_encoded = ordinal_encoder.fit_transform(Saga_NB_dropped_unnecessary_df[[\n",
    "                            'AgePassedTest', 'Cover', 'Duration', 'Garaged', 'NCDAllowed',\n",
    "                            'NCDDifference', 'RegistrationYear', 'VehicleAgeatPurchase', \n",
    "                            'YearsOwned', 'Class_of_Use', 'Annual_Mileage', 'Age_Difference',\n",
    "                            'Add_Driving_Experience', 'Add_Other_Vehs_Owned', 'Add_Driver_Age',\n",
    "                            'Add_Access_to_Other_Vehs', 'Access_to_Other_Vehs', 'PDR_Code',\n",
    "                            'Other_Vehs_Owned', 'NCD_Protected', 'NCD_Earned', 'Most_Severe_Conviction',\n",
    "                            'Main_UK_Residency', 'Main_Occupation', 'Main_Marital_Status', \n",
    "                            'Main_Licence_Type', 'Main_Full_Time_Employed', 'Main_Employment_Type',\n",
    "                            'Main_Driving_Experience_Months', 'Main_Employer_Business', 'Main_Driving_Experience',\n",
    "                            'Latest_Conviction', 'Latest_Fault_Accident_Claim','Latest_Non_Fault_Accident_Claim',\n",
    "                            'Latest_Windscreen_Claim','Main_Driver_Age', 'Transaction_Type', 'Tot_Windscreen_Claims', \n",
    "                            'Tot_Vandalism_Claims', 'Tot_Theft_Claims', 'Tot_Non_Fault_Accident_Claims', \n",
    "                            'Tot_Fire_Claims', 'Tot_Fault_Accident_Claims', 'Vehicle_Age', 'Vehicle_Keeper', \n",
    "                            'Vehicle_Owner', 'Vehicle_Value', 'Saga_Years_with_Broker', 'SagaCais', 'SagaFactor', 'SagaQuoteLag']])"
   ]
  },
  {
   "cell_type": "code",
   "execution_count": null,
   "metadata": {},
   "outputs": [],
   "source": [
    "Saga_NB_transformed_df[[\n",
    "                        'AgePassedTest', 'Cover', 'Duration', 'Garaged', 'NCDAllowed',\n",
    "                        'NCDDifference', 'RegistrationYear', 'VehicleAgeatPurchase', \n",
    "                        'YearsOwned', 'Class_of_Use', 'Annual_Mileage', 'Age_Difference',\n",
    "                        'Add_Driving_Experience', 'Add_Other_Vehs_Owned', 'Add_Driver_Age',\n",
    "                        'Add_Access_to_Other_Vehs', 'Access_to_Other_Vehs', 'PDR_Code',\n",
    "                        'Other_Vehs_Owned', 'NCD_Protected', 'NCD_Earned', 'Most_Severe_Conviction',\n",
    "                        'Main_UK_Residency', 'Main_Occupation', 'Main_Marital_Status', \n",
    "                        'Main_Licence_Type', 'Main_Full_Time_Employed', 'Main_Employment_Type',\n",
    "                        'Main_Driving_Experience_Months', 'Main_Employer_Business', 'Main_Driving_Experience',\n",
    "                        'Latest_Conviction', 'Latest_Fault_Accident_Claim','Latest_Non_Fault_Accident_Claim',\n",
    "                        'Latest_Windscreen_Claim','Main_Driver_Age', 'Transaction_Type', 'Tot_Windscreen_Claims', \n",
    "                        'Tot_Vandalism_Claims', 'Tot_Theft_Claims', 'Tot_Non_Fault_Accident_Claims', \n",
    "                        'Tot_Fire_Claims', 'Tot_Fault_Accident_Claims', 'Vehicle_Age', 'Vehicle_Keeper', \n",
    "                        'Vehicle_Owner', 'Vehicle_Value', 'Saga_Years_with_Broker', 'SagaCais', 'SagaFactor', 'SagaQuoteLag']] = vehicle_value_encoded\n",
    "Saga_NB_dropped_unnecessary_df[[\n",
    "                                'AgePassedTest', 'Cover', 'Duration', 'Garaged', 'NCDAllowed',\n",
    "                                'NCDDifference', 'RegistrationYear', 'VehicleAgeatPurchase', \n",
    "                                'YearsOwned', 'Class_of_Use', 'Annual_Mileage', 'Age_Difference',\n",
    "                                'Add_Driving_Experience', 'Add_Other_Vehs_Owned', 'Add_Driver_Age',\n",
    "                                'Add_Access_to_Other_Vehs', 'Access_to_Other_Vehs', 'PDR_Code',\n",
    "                                'Other_Vehs_Owned', 'NCD_Protected', 'NCD_Earned', 'Most_Severe_Conviction',\n",
    "                                'Main_UK_Residency', 'Main_Occupation', 'Main_Marital_Status', \n",
    "                                'Main_Licence_Type', 'Main_Full_Time_Employed', 'Main_Employment_Type',\n",
    "                                'Main_Driving_Experience_Months', 'Main_Employer_Business', 'Main_Driving_Experience',\n",
    "                                'Latest_Conviction', 'Latest_Fault_Accident_Claim','Latest_Non_Fault_Accident_Claim',\n",
    "                                'Latest_Windscreen_Claim','Main_Driver_Age', 'Transaction_Type', 'Tot_Windscreen_Claims', \n",
    "                                'Tot_Vandalism_Claims', 'Tot_Theft_Claims', 'Tot_Non_Fault_Accident_Claims', \n",
    "                                'Tot_Fire_Claims', 'Tot_Fault_Accident_Claims', 'Vehicle_Age', 'Vehicle_Keeper', \n",
    "                                'Vehicle_Owner', 'Vehicle_Value', 'Saga_Years_with_Broker', 'SagaCais', 'SagaFactor', 'SagaQuoteLag']] = Saga_NB_transformed_df[[\n",
    "                                                                                                                                                                'AgePassedTest', 'Cover', 'Duration', 'Garaged', 'NCDAllowed',\n",
    "                                                                                                                                                                'NCDDifference', 'RegistrationYear', 'VehicleAgeatPurchase', \n",
    "                                                                                                                                                                'YearsOwned', 'Class_of_Use', 'Annual_Mileage', 'Age_Difference',\n",
    "                                                                                                                                                                'Add_Driving_Experience', 'Add_Other_Vehs_Owned', 'Add_Driver_Age',\n",
    "                                                                                                                                                                'Add_Access_to_Other_Vehs', 'Access_to_Other_Vehs', 'PDR_Code',\n",
    "                                                                                                                                                                'Other_Vehs_Owned', 'NCD_Protected', 'NCD_Earned', 'Most_Severe_Conviction',\n",
    "                                                                                                                                                                'Main_UK_Residency', 'Main_Occupation', 'Main_Marital_Status', \n",
    "                                                                                                                                                                'Main_Licence_Type', 'Main_Full_Time_Employed', 'Main_Employment_Type',\n",
    "                                                                                                                                                                'Main_Driving_Experience_Months', 'Main_Employer_Business', 'Main_Driving_Experience',\n",
    "                                                                                                                                                                'Latest_Conviction', 'Latest_Fault_Accident_Claim','Latest_Non_Fault_Accident_Claim',\n",
    "                                                                                                                                                                'Latest_Windscreen_Claim','Main_Driver_Age', 'Transaction_Type', 'Tot_Windscreen_Claims', \n",
    "                                                                                                                                                                'Tot_Vandalism_Claims', 'Tot_Theft_Claims', 'Tot_Non_Fault_Accident_Claims', \n",
    "                                                                                                                                                                'Tot_Fire_Claims', 'Tot_Fault_Accident_Claims', 'Vehicle_Age', 'Vehicle_Keeper', \n",
    "                                                                                                                                                                'Vehicle_Owner', 'Vehicle_Value', 'Saga_Years_with_Broker', 'SagaCais', 'SagaFactor', 'SagaQuoteLag']]"
   ]
  },
  {
   "cell_type": "code",
   "execution_count": null,
   "metadata": {},
   "outputs": [],
   "source": [
    "\n",
    "Saga_NB_transformed_test_df = Saga_NB_dropped_unnecessary_test_df[[\n",
    "                            'AgePassedTest', 'Cover', 'Duration', 'Garaged', 'NCDAllowed',\n",
    "                            'NCDDifference', 'RegistrationYear', 'VehicleAgeatPurchase', \n",
    "                            'YearsOwned', 'Class_of_Use', 'Annual_Mileage', 'Age_Difference',\n",
    "                            'Add_Driving_Experience', 'Add_Other_Vehs_Owned', 'Add_Driver_Age',\n",
    "                            'Add_Access_to_Other_Vehs', 'Access_to_Other_Vehs', 'PDR_Code',\n",
    "                            'Other_Vehs_Owned', 'NCD_Protected', 'NCD_Earned', 'Most_Severe_Conviction',\n",
    "                            'Main_UK_Residency', 'Main_Occupation', 'Main_Marital_Status', \n",
    "                            'Main_Licence_Type', 'Main_Full_Time_Employed', 'Main_Employment_Type',\n",
    "                            'Main_Driving_Experience_Months', 'Main_Employer_Business', 'Main_Driving_Experience',\n",
    "                            'Latest_Conviction', 'Latest_Fault_Accident_Claim','Latest_Non_Fault_Accident_Claim',\n",
    "                            'Latest_Windscreen_Claim','Main_Driver_Age', 'Transaction_Type', 'Tot_Windscreen_Claims', \n",
    "                            'Tot_Vandalism_Claims', 'Tot_Theft_Claims', 'Tot_Non_Fault_Accident_Claims', \n",
    "                            'Tot_Fire_Claims', 'Tot_Fault_Accident_Claims', 'Vehicle_Age', 'Vehicle_Keeper', \n",
    "                            'Vehicle_Owner', 'Vehicle_Value', 'Saga_Years_with_Broker', 'SagaCais', 'SagaFactor', 'SagaQuoteLag']]\n",
    "\n",
    "\n",
    "vehicle_value_encoded_test = ordinal_encoder.fit_transform(Saga_NB_dropped_unnecessary_test_df[[\n",
    "                                                                                                'AgePassedTest', 'Cover', 'Duration', 'Garaged', 'NCDAllowed',\n",
    "                                                                                                'NCDDifference', 'RegistrationYear', 'VehicleAgeatPurchase', \n",
    "                                                                                                'YearsOwned', 'Class_of_Use', 'Annual_Mileage', 'Age_Difference',\n",
    "                                                                                                'Add_Driving_Experience', 'Add_Other_Vehs_Owned', 'Add_Driver_Age',\n",
    "                                                                                                'Add_Access_to_Other_Vehs', 'Access_to_Other_Vehs', 'PDR_Code',\n",
    "                                                                                                'Other_Vehs_Owned', 'NCD_Protected', 'NCD_Earned', 'Most_Severe_Conviction',\n",
    "                                                                                                'Main_UK_Residency', 'Main_Occupation', 'Main_Marital_Status', \n",
    "                                                                                                'Main_Licence_Type', 'Main_Full_Time_Employed', 'Main_Employment_Type',\n",
    "                                                                                                'Main_Driving_Experience_Months', 'Main_Employer_Business', 'Main_Driving_Experience',\n",
    "                                                                                                'Latest_Conviction', 'Latest_Fault_Accident_Claim','Latest_Non_Fault_Accident_Claim',\n",
    "                                                                                                'Latest_Windscreen_Claim','Main_Driver_Age', 'Transaction_Type', 'Tot_Windscreen_Claims', \n",
    "                                                                                                'Tot_Vandalism_Claims', 'Tot_Theft_Claims', 'Tot_Non_Fault_Accident_Claims', \n",
    "                                                                                                'Tot_Fire_Claims', 'Tot_Fault_Accident_Claims', 'Vehicle_Age', 'Vehicle_Keeper', \n",
    "                                                                                                'Vehicle_Owner', 'Vehicle_Value', 'Saga_Years_with_Broker', 'SagaCais', 'SagaFactor', 'SagaQuoteLag']])\n",
    "\n",
    "Saga_NB_transformed_test_df[[\n",
    "                            'AgePassedTest', 'Cover', 'Duration', 'Garaged', 'NCDAllowed',\n",
    "                            'NCDDifference', 'RegistrationYear', 'VehicleAgeatPurchase', \n",
    "                            'YearsOwned', 'Class_of_Use', 'Annual_Mileage', 'Age_Difference',\n",
    "                            'Add_Driving_Experience', 'Add_Other_Vehs_Owned', 'Add_Driver_Age',\n",
    "                            'Add_Access_to_Other_Vehs', 'Access_to_Other_Vehs', 'PDR_Code',\n",
    "                            'Other_Vehs_Owned', 'NCD_Protected', 'NCD_Earned', 'Most_Severe_Conviction',\n",
    "                            'Main_UK_Residency', 'Main_Occupation', 'Main_Marital_Status', \n",
    "                            'Main_Licence_Type', 'Main_Full_Time_Employed', 'Main_Employment_Type',\n",
    "                            'Main_Driving_Experience_Months', 'Main_Employer_Business', 'Main_Driving_Experience',\n",
    "                            'Latest_Conviction', 'Latest_Fault_Accident_Claim','Latest_Non_Fault_Accident_Claim',\n",
    "                            'Latest_Windscreen_Claim','Main_Driver_Age', 'Transaction_Type', 'Tot_Windscreen_Claims', \n",
    "                            'Tot_Vandalism_Claims', 'Tot_Theft_Claims', 'Tot_Non_Fault_Accident_Claims', \n",
    "                            'Tot_Fire_Claims', 'Tot_Fault_Accident_Claims', 'Vehicle_Age', 'Vehicle_Keeper', \n",
    "                            'Vehicle_Owner', 'Vehicle_Value', 'Saga_Years_with_Broker', 'SagaCais', 'SagaFactor', 'SagaQuoteLag']] = vehicle_value_encoded_test\n",
    "Saga_NB_dropped_unnecessary_test_df[[\n",
    "                                    'AgePassedTest', 'Cover', 'Duration', 'Garaged', 'NCDAllowed',\n",
    "                                    'NCDDifference', 'RegistrationYear', 'VehicleAgeatPurchase', \n",
    "                                    'YearsOwned', 'Class_of_Use', 'Annual_Mileage', 'Age_Difference',\n",
    "                                    'Add_Driving_Experience', 'Add_Other_Vehs_Owned', 'Add_Driver_Age',\n",
    "                                    'Add_Access_to_Other_Vehs', 'Access_to_Other_Vehs', 'PDR_Code',\n",
    "                                    'Other_Vehs_Owned', 'NCD_Protected', 'NCD_Earned', 'Most_Severe_Conviction',\n",
    "                                    'Main_UK_Residency', 'Main_Occupation', 'Main_Marital_Status', \n",
    "                                    'Main_Licence_Type', 'Main_Full_Time_Employed', 'Main_Employment_Type',\n",
    "                                    'Main_Driving_Experience_Months', 'Main_Employer_Business', 'Main_Driving_Experience',\n",
    "                                    'Latest_Conviction', 'Latest_Fault_Accident_Claim','Latest_Non_Fault_Accident_Claim',\n",
    "                                    'Latest_Windscreen_Claim','Main_Driver_Age', 'Transaction_Type', 'Tot_Windscreen_Claims', \n",
    "                                    'Tot_Vandalism_Claims', 'Tot_Theft_Claims', 'Tot_Non_Fault_Accident_Claims', \n",
    "                                    'Tot_Fire_Claims', 'Tot_Fault_Accident_Claims', 'Vehicle_Age', 'Vehicle_Keeper', \n",
    "                                    'Vehicle_Owner', 'Vehicle_Value', 'Saga_Years_with_Broker', 'SagaCais', 'SagaFactor', 'SagaQuoteLag']] = Saga_NB_transformed_test_df[[\n",
    "                                                                                                                                                                        'AgePassedTest', 'Cover', 'Duration', 'Garaged', 'NCDAllowed',\n",
    "                                                                                                                                                                        'NCDDifference', 'RegistrationYear', 'VehicleAgeatPurchase', \n",
    "                                                                                                                                                                        'YearsOwned', 'Class_of_Use', 'Annual_Mileage', 'Age_Difference',\n",
    "                                                                                                                                                                        'Add_Driving_Experience', 'Add_Other_Vehs_Owned', 'Add_Driver_Age',\n",
    "                                                                                                                                                                        'Add_Access_to_Other_Vehs', 'Access_to_Other_Vehs', 'PDR_Code',\n",
    "                                                                                                                                                                        'Other_Vehs_Owned', 'NCD_Protected', 'NCD_Earned', 'Most_Severe_Conviction',\n",
    "                                                                                                                                                                        'Main_UK_Residency', 'Main_Occupation', 'Main_Marital_Status', \n",
    "                                                                                                                                                                        'Main_Licence_Type', 'Main_Full_Time_Employed', 'Main_Employment_Type',\n",
    "                                                                                                                                                                        'Main_Driving_Experience_Months', 'Main_Employer_Business', 'Main_Driving_Experience',\n",
    "                                                                                                                                                                        'Latest_Conviction', 'Latest_Fault_Accident_Claim','Latest_Non_Fault_Accident_Claim',\n",
    "                                                                                                                                                                        'Latest_Windscreen_Claim','Main_Driver_Age', 'Transaction_Type', 'Tot_Windscreen_Claims', \n",
    "                                                                                                                                                                        'Tot_Vandalism_Claims', 'Tot_Theft_Claims', 'Tot_Non_Fault_Accident_Claims', \n",
    "                                                                                                                                                                        'Tot_Fire_Claims', 'Tot_Fault_Accident_Claims', 'Vehicle_Age', 'Vehicle_Keeper', \n",
    "                                                                                                                                                                        'Vehicle_Owner', 'Vehicle_Value', 'Saga_Years_with_Broker', 'SagaCais', 'SagaFactor', 'SagaQuoteLag']]"
   ]
  },
  {
   "cell_type": "code",
   "execution_count": null,
   "metadata": {},
   "outputs": [],
   "source": [
    "scaler = sklearn.preprocessing.MinMaxScaler()\n",
    "#Saga_NB_dropped_unnecessary_arr = Saga_NB_dropped_unnecessary_df.to_numpy()\n",
    "Saga_NB_dropped_unnecessary_scaled = scaler.fit_transform(Saga_NB_dropped_unnecessary_df)\n",
    "Saga_NB_dropped_unnecessary_scaled_df = pd.DataFrame(Saga_NB_dropped_unnecessary_scaled)\n",
    "Saga_NB_dropped_unnecessary_scaled_df.columns = Saga_NB_dropped_unnecessary_df.columns\n",
    "\n",
    "Saga_NB_dropped_unnecessary_test_scaled = scaler.transform(Saga_NB_dropped_unnecessary_test_df)\n",
    "Saga_NB_dropped_unnecessary_scaled_test_df = pd.DataFrame(Saga_NB_dropped_unnecessary_test_scaled)\n",
    "Saga_NB_dropped_unnecessary_scaled_test_df.columns = Saga_NB_dropped_unnecessary_test_df.columns"
   ]
  },
  {
   "attachments": {},
   "cell_type": "markdown",
   "metadata": {},
   "source": [
    "## Defining X and y train and test"
   ]
  },
  {
   "cell_type": "code",
   "execution_count": null,
   "metadata": {},
   "outputs": [],
   "source": [
    "X_train = Saga_NB_dropped_unnecessary_scaled_df.drop(columns=['cancelled'])\n",
    "\n",
    "X_test = Saga_NB_dropped_unnecessary_scaled_test_df.drop(columns=['cancelled'])\n",
    "\n",
    "y_train = Saga_NB_dropped_unnecessary_scaled_df['cancelled']\n",
    "\n",
    "y_test = Saga_NB_dropped_unnecessary_scaled_test_df['cancelled']\n"
   ]
  },
  {
   "cell_type": "code",
   "execution_count": null,
   "metadata": {},
   "outputs": [],
   "source": [
    "import seaborn as sn\n",
    "\n",
    "sn.lineplot(X_test['Main_Driver_Age'], y_test)\n",
    "\n",
    "sn.lineplot(X_test['Main_Driver_Age'], y_predict)"
   ]
  },
  {
   "attachments": {},
   "cell_type": "markdown",
   "metadata": {},
   "source": [
    "## Possible factor levels"
   ]
  },
  {
   "cell_type": "code",
   "execution_count": null,
   "metadata": {},
   "outputs": [],
   "source": [
    "all_AgePassedTest = sorted(set(Saga_NB_dropped_unnecessary_scaled_df[\"AgePassedTest\"]).union(set(Saga_NB_dropped_unnecessary_scaled_test_df[\"AgePassedTest\"])))\n",
    "\n",
    "all_Main_Driver_Age = sorted(set(Saga_NB_dropped_unnecessary_scaled_df[\"Main_Driver_Age\"]).union(set(Saga_NB_dropped_unnecessary_scaled_test_df[\"Main_Driver_Age\"])))\n"
   ]
  },
  {
   "attachments": {},
   "cell_type": "markdown",
   "metadata": {},
   "source": [
    "## Sklearn logistic regression function"
   ]
  },
  {
   "cell_type": "code",
   "execution_count": null,
   "metadata": {},
   "outputs": [],
   "source": [
    "model = LogisticRegression(fit_intercept=True, penalty = 'none' )\n",
    "model.fit(X_train, y_train)"
   ]
  },
  {
   "cell_type": "code",
   "execution_count": null,
   "metadata": {},
   "outputs": [],
   "source": [
    "y_predict = model.predict(X_test)"
   ]
  },
  {
   "cell_type": "code",
   "execution_count": null,
   "metadata": {},
   "outputs": [],
   "source": [
    "gini = 2*sklearn.metrics.roc_auc_score(y_predict, y_test)-1\n",
    "\n",
    "print(gini)\n",
    "\n",
    "model_accuracy = (len(y_test) - len(y_test[y_predict!=y_test]))/len(y_test)\n",
    "\n",
    "print(model_accuracy)"
   ]
  },
  {
   "cell_type": "code",
   "execution_count": null,
   "metadata": {},
   "outputs": [],
   "source": [
    "all_interaction_SagaCais_AgePassedTest = np.array([])\n",
    "for val in all_SagaCais:\n",
    "    for val2 in all_AgePassedTest:\n",
    "        all_interaction_SagaCais_AgePassedTest = np.append(all_interaction_SagaCais_AgePassedTest, [val*val2], axis = 0)\n",
    "all_interaction_SagaCais_AgePassedTest = list(all_interaction_SagaCais_AgePassedTest)\n",
    "\n",
    "# C(SagaCais*AgePassedTest, levels = all_interaction_SagaCais_AgePassedTest) +\n"
   ]
  },
  {
   "cell_type": "code",
   "execution_count": null,
   "metadata": {},
   "outputs": [],
   "source": [
    "model_features = list(Saga_NB_dropped_unnecessary_scaled_test_df.columns)\n",
    "model_features"
   ]
  },
  {
   "cell_type": "code",
   "execution_count": null,
   "metadata": {},
   "outputs": [],
   "source": [
    "model.coef_[0]"
   ]
  },
  {
   "cell_type": "code",
   "execution_count": null,
   "metadata": {},
   "outputs": [],
   "source": [
    "print(list(zip(model.coef_[0], model_features)))"
   ]
  },
  {
   "cell_type": "markdown",
   "metadata": {},
   "source": [
    "##  Using custom formula"
   ]
  },
  {
   "cell_type": "code",
   "execution_count": null,
   "metadata": {},
   "outputs": [],
   "source": [
    "import matplotlib.pyplot as plt\n",
    "import scipy.interpolate\n",
    "import scipy.integrate\n",
    "\n",
    "def gini(actual, pred):\n",
    "    assert (len(actual) == len(pred))\n",
    "    all = np.asarray(np.c_[actual, pred, np.arange(len(actual))], dtype=np.float)\n",
    "    all = all[np.lexsort((all[:, 2], -1 * all[:, 1]))]\n",
    "    totalLosses = all[:, 0].sum()\n",
    "    giniSum = all[:, 0].cumsum().sum() / totalLosses\n",
    "\n",
    "    giniSum -= (len(actual) + 1) / 2.\n",
    "    return giniSum / len(actual)\n",
    "\n",
    "\n",
    "def gini_normalized(actual, pred):\n",
    "    return gini(actual, pred) / gini(actual, actual)"
   ]
  },
  {
   "cell_type": "code",
   "execution_count": null,
   "metadata": {},
   "outputs": [],
   "source": [
    "gini_predictions = gini(y_test, y_predict)\n",
    "gini_max = gini(y_test, y_test)\n",
    "ngini= gini_normalized(y_test, y_predict)\n",
    "print('Gini: %.3f, Max. Gini: %.3f, Normalized Gini: %.3f' % (gini_predictions, gini_max, ngini))"
   ]
  }
 ],
 "metadata": {
  "language_info": {
   "name": "python",
   "pygments_lexer": "ipython3"
  }
 },
 "nbformat": 4,
 "nbformat_minor": 2
}
