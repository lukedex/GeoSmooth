{
 "cells": [
  {
   "cell_type": "code",
   "execution_count": null,
   "metadata": {},
   "outputs": [],
   "source": [
    "import statsmodels.api as sm\n",
    "import pandas as pd\n",
    "import numpy as np\n",
    "pd.set_option('display.max_columns', None)\n",
    "import sklearn\n",
    "import matplotlib as plt\n",
    "import matplotlib.pyplot as plt\n",
    "import seaborn as sns \n",
    "\n",
    "from IPython.core.interactiveshell import InteractiveShell\n",
    "InteractiveShell.ast_node_interactivity = \"all\""
   ]
  },
  {
   "cell_type": "code",
   "execution_count": null,
   "metadata": {},
   "outputs": [],
   "source": [
    "import pandas as pd\n",
    "import numpy as np\n",
    "from sklearn.feature_selection import SelectKBest\n",
    "from sklearn.feature_selection import chi2\n",
    "from sklearn.preprocessing import OrdinalEncoder\n",
    "\n",
    "saga_nb_df = pd.read_csv(r\"R:\\Pricing & Actuarial\\Pricing\\Personal Lines Pricing - Motor\\Technical\\8. Optimisation\\6. CDL\\1. Jan22\\2. Modelling\\Python\\Cancellation_NB_Saga_Nov19-Nov21_train.csv\")\n",
    "\n",
    "# split data into X and y\n",
    "X = saga_nb_df.drop(['cancelled', 'Add_Driver_Sex', 'set', 'Main_Driver_Sex', 'Weight'], axis = 1)\n",
    "X_transformed = X\n",
    "\n",
    "y = saga_nb_df['cancelled']"
   ]
  },
  {
   "cell_type": "code",
   "execution_count": null,
   "metadata": {},
   "outputs": [],
   "source": [
    "X.columns"
   ]
  },
  {
   "cell_type": "code",
   "execution_count": null,
   "metadata": {},
   "outputs": [],
   "source": [
    "X.info()"
   ]
  },
  {
   "cell_type": "code",
   "execution_count": null,
   "metadata": {},
   "outputs": [],
   "source": [
    "X.head()"
   ]
  },
  {
   "cell_type": "code",
   "execution_count": null,
   "metadata": {},
   "outputs": [],
   "source": [
    "X_Transformed = saga_nb_df[['Latest_Conviction', 'Latest_Fault_Accident_Claim',\n",
    "                            'Latest_Non_Fault_Accident_Claim', 'Latest_Windscreen_Claim',\n",
    "                            'Main_Driver_Age', 'Transaction_Type', 'Tot_Windscreen_Claims', \n",
    "                            'Tot_Vandalism_Claims', 'Tot_Theft_Claims', 'Tot_Non_Fault_Accident_Claims', \n",
    "                            'Tot_Fire_Claims', 'Tot_Fault_Accident_Claims', 'Vehicle_Age', 'Vehicle_Keeper', \n",
    "                            'Vehicle_Owner', 'Saga_Years_with_Broker', 'SagaCais', 'Main_Employer_Business']]\n",
    "ordinal_encoder = OrdinalEncoder(categories=[['0 to 1', '1 to 2', '2 to 3', '3 to 4', '4 to 5', 'No Conviction'],\n",
    "                                             ['1 to 2', '2 to 3', '3 to 4', '4 to 5', '0 to 1', 'No Claim'],\n",
    "                                             ['1 to 2', '2 to 3', '3 to 4', '4 to 5', '0 to 1', 'No Claim'],\n",
    "                                             ['0 to 1', '1 to 2', '2 to 3', '3 to 4', '4 to 5', 'No Claim'],\n",
    "                                             [17, 18, 19, 20, 21, 22, 23, 24, 25, 26, 27, 28, 29, 30, 31, 32, 33, 34, 35, 36, 37, 38, 39, 40, 41, 42, 43, 44, 45, 46, 47, 48, 49, 50, 51, 52, 53, 54, 55, 56, 57, 58, 59, 60, 61, 62, 63, 64, 65, 66, 67, 68, 69, 70, 71, 72, 73, 74, 75, 76, 77, 78, 79, 80, 81, 82, 83, 84, 85, 86, 87, 88, 89, 90, 91, 92, 93, 94, 95, 96, 97, 98, 99, 100], \n",
    "                                             ['AJ-NB', 'AJ_RC', 'NB', 'RB', 'RC'],\n",
    "                                             ['No Claim', '1', '2', '3', '4', '5'],\n",
    "                                             ['No Claim', '1', '2', '3', '4', '5'],\n",
    "                                             ['No Claim', '1', '2', '3', '4', '5'],\n",
    "                                             ['No Claim', '1', '2', '3', '4', '5'],\n",
    "                                             ['No Claim', '1', '2', '3', '4', '5'],\n",
    "                                             ['No Claim', '1', '2', '3', '4', '5+'], \n",
    "                                             [0, 1, 2, 3, 4, 5, 6, 7, 8, 9, 10, 11, 12, 13, 14, 15, 16, 17, 18, 19, 20],\n",
    "                                             ['Proposer', 'Spouse', 'Common-Law Partner', 'Family', 'Company', 'Leased Vehicle', 'Other'],\n",
    "                                             ['Proposer', 'Spouse', 'Common-Law Partner', 'Family', 'Company', 'Leased Vehicle', 'Other'],\n",
    "                                             ['0', '1', '2', '3', '4', '5', '6+', 'Default'],\n",
    "                                             ['0 to 99', '100 to 199', '200+', 'Default'],\n",
    "                                             ['Agriculture & Animals', 'Antique / Arts Trade', 'Armed Services', 'Aviation', 'Blue Collar', 'Business Professional', 'Cash Collector', 'Child Care', 'Construction', 'Courier', 'Craftsman', 'Design', 'Education and Training ', 'Electrical', 'Emergency Services', 'Engineering', 'Entertainment & Media', 'Finance & Insurance', 'Food', 'Government and Agencies', 'Healthcare', 'Holiday', 'Hotel Pub & Restaurant', 'Installation', 'IT', 'Leisure & Beauty', 'Maintenance & Repair', 'Manufacturing', 'Marketing', 'Mining and Fuel', 'Not in Employment', 'Office Administration', 'Other', 'Parks & Gardens', 'Photography', 'Property', 'Public Service', 'Publishing', 'Retail Food', 'Retail Sales', 'Science', 'Security', 'Social Services', 'Telecommunications', 'Tradesman', 'Transport', 'Missing']])\n",
    "vehicle_value_encoded = ordinal_encoder.fit_transform(X_Transformed[['Latest_Conviction', 'Latest_Fault_Accident_Claim', \n",
    "                                                                     'Latest_Non_Fault_Accident_Claim',\n",
    "                                                                     'Latest_Windscreen_Claim', 'Main_Driver_Age',\n",
    "                                                                     'Transaction_Type', 'Tot_Windscreen_Claims', \n",
    "                                                                     'Tot_Vandalism_Claims', 'Tot_Theft_Claims',\n",
    "                                                                     'Tot_Non_Fault_Accident_Claims', 'Tot_Fire_Claims',\n",
    "                                                                     'Tot_Fault_Accident_Claims', 'Vehicle_Age',\n",
    "                                                                     'Vehicle_Keeper', 'Vehicle_Owner',\n",
    "                                                                     'Saga_Years_with_Broker', 'SagaCais', 'Main_Employer_Business']])"
   ]
  },
  {
   "cell_type": "code",
   "execution_count": null,
   "metadata": {},
   "outputs": [],
   "source": []
  },
  {
   "cell_type": "code",
   "execution_count": null,
   "metadata": {},
   "outputs": [],
   "source": [
    "## Main_Employer_Business \n",
    "#'Agriculture & Animals (1)', 'Antique / Arts Trade (2)', 'Armed Services (3)', 'Aviation (4)', 'Blue Collar (5)', 'Business Professional (6)', 'Cash Collector (7)', 'Child Care (8)', 'COnstruction (9)', 'Courier (10)', 'Craftsman (11)', 'Design (12)', 'Education and Training (13)', 'Electrical (14)', 'Emergency Services (15)', 'Engineering (16)', 'Entertainment and Media (17)', 'Finance and Insurance (18)', 'Food (19)', 'Government and Agencies (20)', 'Healthcare (21)', 'Holiday (22)', 'Hotel Pub & Restaurant (23) ', 'Installation (24)', 'IT (25)', 'Leisure and Beauty (26)', 'Maintenance & Repair (27)', 'Manufacturing (28)', 'Marketing (29)', 'Mining and Fuel (30)', 'Not in Employment (31)', 'Office Administration (32)', 'Other (33)', 'Parks & Gardens (34)', 'Photography (35)', 'Property (36)', 'Public Service (37)', 'Publishing (38)', 'Retail Food (39)', 'Retail Sales (40)', 'Science (41)', 'Security (42)', 'Social Services (43)', 'Telecommunications (44)', 'Tradesman (45)', 'Transport (46)', 'Missing (47)'    "
   ]
  },
  {
   "cell_type": "code",
   "execution_count": null,
   "metadata": {},
   "outputs": [],
   "source": [
    "main_driver_age_months_strings = []\n",
    "for i in range(26,2512):\n",
    "    string_val = str(i) \n",
    "    main_driver_age_months_strings.append(string_val)\n",
    "print(main_driver_age_months_strings)"
   ]
  },
  {
   "cell_type": "code",
   "execution_count": null,
   "metadata": {},
   "outputs": [],
   "source": []
  }
 ],
 "metadata": {
  "language_info": {
   "name": "python",
   "pygments_lexer": "ipython3"
  }
 },
 "nbformat": 4,
 "nbformat_minor": 4
}
