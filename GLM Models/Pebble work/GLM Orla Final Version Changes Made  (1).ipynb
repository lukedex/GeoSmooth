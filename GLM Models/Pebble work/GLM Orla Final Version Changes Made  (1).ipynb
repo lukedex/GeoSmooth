{
 "cells": [
  {
   "cell_type": "code",
   "execution_count": null,
   "metadata": {},
   "outputs": [],
   "source": [
    "import statsmodels.api as sm\n",
    "import statsmodels.formula.api as smf\n",
    "\n",
    "import pandas as pd\n",
    "import numpy as np\n",
    "pd.set_option('display.max_columns', None)\n",
    "import sklearn"
   ]
  },
  {
   "cell_type": "markdown",
   "metadata": {},
   "source": [
    "## When loading in the data to ensure like for like comparisons to the models built in Emblem we loaded the training and testing sets in separately.\n",
    "\n",
    "This is as they were produced for Emblem data files, however if this process was to be used in future the full dataset could be loaded in all at once and suitable splits (80/20 etc) could be performed using the 'train_test_split' function-this is standard procedure for such python based models"
   ]
  },
  {
   "cell_type": "code",
   "execution_count": null,
   "metadata": {},
   "outputs": [],
   "source": [
    "#R:\\Pricing & Actuarial\\Pricing\\Personal Lines Pricing - Motor\\Technical\\8. Optimisation\\6. CDL\\1. Jan22\\2. Modelling\\1. Cancellation\\1. Data\n",
    "Saga_NB_df = pd.read_csv(r\"R:\\Pricing & Actuarial\\Pricing\\Personal Lines Pricing - Motor\\Technical\\8. Optimisation\\6. CDL\\1. Jan22\\2. Modelling\\Python\\Cancellation_NB_Saga_Nov19-Nov21_train.csv\")\n",
    "\n",
    "Saga_NB_test_df = pd.read_csv(r\"R:\\Pricing & Actuarial\\Pricing\\Personal Lines Pricing - Motor\\Technical\\8. Optimisation\\6. CDL\\1. Jan22\\2. Modelling\\Python\\Cancellation_NB_Saga_Nov19-Nov21_test.csv\")\n",
    "\n"
   ]
  },
  {
   "cell_type": "markdown",
   "metadata": {},
   "source": [
    "### Looking at the shapes of the training and testing datasets (80/20 split), the test data set has an extra column 'validation_set'"
   ]
  },
  {
   "cell_type": "code",
   "execution_count": null,
   "metadata": {},
   "outputs": [],
   "source": [
    "print('Train set shape: ',Saga_NB_df.shape)\n",
    "\n",
    "print('Test set shape: ',Saga_NB_test_df.shape)"
   ]
  },
  {
   "cell_type": "markdown",
   "metadata": {},
   "source": [
    "## The library (and Python in general) doesn't work well with spaces in the column names, so must replace any of the names with underscores or similar convention."
   ]
  },
  {
   "cell_type": "code",
   "execution_count": null,
   "metadata": {},
   "outputs": [],
   "source": [
    "columns = Saga_NB_df.columns\n",
    "new_column_headers = []\n",
    "for val in columns:\n",
    "    altered_header = val.replace(\" \", \"_\")\n",
    "    #print(val)\n",
    "    #print(altered_header)\n",
    "    new_column_headers.append(altered_header)\n",
    "\n",
    "Saga_NB_df.columns = new_column_headers\n",
    "print(Saga_NB_df.columns)"
   ]
  },
  {
   "cell_type": "markdown",
   "metadata": {},
   "source": [
    "## Performing feature importance analysis. To decide which features should be included. \n",
    "\n",
    "This is an automated script that will on any dataset (different response variables: Conversion, Retention etc) with the same factor sets and bandings. This can help to give a base starting point to work from, similar to the stepwise regression tool in Emblem. Combining this with knowledge of the data and model types will help to include the most important features for prediction."
   ]
  },
  {
   "cell_type": "markdown",
   "metadata": {},
   "source": [
    "## Dropping columns from the dataset that are unecessary-could be that they aren't GIPP compliant or that they were used in production of the train/test datasets and arent useful for model production."
   ]
  },
  {
   "cell_type": "code",
   "execution_count": null,
   "metadata": {},
   "outputs": [],
   "source": [
    "import pandas as pd\n",
    "import numpy as np\n",
    "from sklearn.feature_selection import SelectKBest\n",
    "from sklearn.feature_selection import chi2\n",
    "\n",
    "#These are factors that either aren't GIPP compliant, allowed to be used in this stage of modelling  (may be added in overlays etc) or are part of the setup of the dataset, not important for modelling.\n",
    "Saga_NB_dropped_unnecessary_df = Saga_NB_df.drop(columns=['Weight', 'set', 'Add_Driver_Sex', 'Main_Driver_Sex', 'Main_Driver_Age_Months'])\n",
    "\n",
    "Saga_NB_dropped_unnecessary_test_df = Saga_NB_test_df.drop(columns=['Weight', 'set', 'Add_Driver_Sex', 'Main_Driver_Sex', 'Main_Driver_Age_Months', 'validation_set'])\n",
    "\n",
    "#Check shapes of the dataframe.\n",
    "print(Saga_NB_dropped_unnecessary_df.shape, Saga_NB_dropped_unnecessary_test_df.shape)\n",
    "\n"
   ]
  },
  {
   "cell_type": "markdown",
   "metadata": {},
   "source": [
    "## Encode the categorical variables-required for feature importance"
   ]
  },
  {
   "cell_type": "markdown",
   "metadata": {},
   "source": [
    "### Producing the list of bandings in correct order like from Radar/Emblem. This must be done for all factors!!!\n",
    "\n",
    "Using Ordinal Encoder, generally not the best practice for factors with no meaningful order however the script was build to fit in the Radar architecture.\n",
    "\n",
    "Was completed for Broker factors but missing some from Direct/John Lewis.\n"
   ]
  },
  {
   "cell_type": "markdown",
   "metadata": {},
   "source": [
    "------------------------------------------------------------------------------------------------------------------------------------------------------------"
   ]
  },
  {
   "cell_type": "markdown",
   "metadata": {},
   "source": [
    "\n",
    "This code is to produce the bandings (as they are in Radar)for annual mileage and can be adapted for the various features not included. For features with string based levels this banding list requires a manual approach."
   ]
  },
  {
   "cell_type": "code",
   "execution_count": null,
   "metadata": {},
   "outputs": [],
   "source": [
    "annual_mileage_strings = []\n",
    "for i in range(0,31,1):\n",
    "    annual_mileage_strings.append(str(i))\n",
    "print(annual_mileage_strings)\n"
   ]
  },
  {
   "cell_type": "markdown",
   "metadata": {},
   "source": [
    "### Viewing the trainign dataset after the unnecessary columns have been dropped-to ensure all looks correct"
   ]
  },
  {
   "cell_type": "code",
   "execution_count": null,
   "metadata": {},
   "outputs": [],
   "source": [
    "Saga_NB_dropped_unnecessary_df"
   ]
  },
  {
   "cell_type": "markdown",
   "metadata": {},
   "source": [
    "## This is where the Ordinal encoding function was used (forced for some un-ordered feature levels) to mimic the creation of bandings that occurs in Radar.\n",
    "\n",
    "This is the list of factors from the Saga NB dataset that will be used to create the Cancellation GLM, the list of bandings created for each factor are also seen (created using the for loop seen above or manually for the text levels)."
   ]
  },
  {
   "cell_type": "code",
   "execution_count": null,
   "metadata": {},
   "outputs": [],
   "source": [
    "from sklearn.preprocessing import OrdinalEncoder\n",
    "\n",
    "Saga_NB_transformed_df = Saga_NB_dropped_unnecessary_df[[\n",
    "                            'AgePassedTest', 'Cover', 'Duration', 'Garaged', 'NCDAllowed',\n",
    "                            'NCDDifference', 'RegistrationYear', 'VehicleAgeatPurchase', \n",
    "                            'YearsOwned', 'Class_of_Use', 'Annual_Mileage', 'Age_Difference',\n",
    "                            'Add_Driving_Experience', 'Add_Other_Vehs_Owned', 'Add_Driver_Age',\n",
    "                            'Add_Access_to_Other_Vehs', 'Access_to_Other_Vehs', 'PDR_Code',\n",
    "                            'Other_Vehs_Owned', 'NCD_Protected', 'NCD_Earned', 'Most_Severe_Conviction',\n",
    "                            'Main_UK_Residency', 'Main_Occupation', 'Main_Marital_Status', \n",
    "                            'Main_Licence_Type', 'Main_Full_Time_Employed', 'Main_Employment_Type',\n",
    "                            'Main_Driving_Experience_Months', 'Main_Employer_Business', 'Main_Driving_Experience',\n",
    "                            'Latest_Conviction', 'Latest_Fault_Accident_Claim','Latest_Non_Fault_Accident_Claim',\n",
    "                            'Latest_Windscreen_Claim','Main_Driver_Age', 'Transaction_Type', 'Tot_Windscreen_Claims', \n",
    "                            'Tot_Vandalism_Claims', 'Tot_Theft_Claims', 'Tot_Non_Fault_Accident_Claims', \n",
    "                            'Tot_Fire_Claims', 'Tot_Fault_Accident_Claims', 'Vehicle_Age', 'Vehicle_Keeper', \n",
    "                            'Vehicle_Owner', 'Vehicle_Value', 'Saga_Years_with_Broker', 'SagaCais', 'SagaFactor', 'SagaQuoteLag']]\n",
    "ordinal_encoder = OrdinalEncoder(categories=[[-1, 17, 18, 19, 20, 21, 22, 23, 24, 25, 26, 27, 28, 29, 30, 31, 32, 33, 34, 35, 36, 37, 38, 39, 40, 41, 42, 43, 44, 45, 46, 47, 48, 49, 50, 51, 52, 53, 54, 55, 56, 57, 58, 59, 60, 61, 62, 63, 64, 65, 66, 67, 68, 69, 70, 71, 72, 73, 74, 75, 76, 77, 78, 79, 80, 81, 82, 83, 84, 85, 86, 87],\n",
    "                                             ['Comp', 'TPFT'],\n",
    "                                             [0,1,2,3,4,5,6],\n",
    "                                             ['Car Park', 'Carport', 'Garaged', 'Locked Building', 'Locked Compound', 'On Drive', 'Private Property', 'Public Road', 'Third Party Premises', 'Unlocked Building', 'Unlocked Compund', 'Business Address', 'N/A'],\n",
    "                                             [0,1,2,3,4,5,6,7,8,9], #Missing? Can't mix int and strings... what to do?\n",
    "                                             [0,1,2,3,4,5,6,7,8,9],\n",
    "                                             [1997, 1998, 1999, 2000, 2001, 2002, 2003, 2004, 2005, 2006, 2007, 2008, 2009, 2010, 2011, 2012, 2013, 2014, 2015, 2016, 2017, 2018, 2019, 2020, 2021],\n",
    "                                             [0, 1, 2, 3, 4, 5, 6, 7, 8, 9, 10, 11, 12, 13, 14, 15, 16, 17, 18, 19, 20],\n",
    "                                             [0, 1, 2, 3, 4, 5, 6, 7, 8, 9, 10, 11, 12, 13, 14, 15],\n",
    "                                             ['SDP', 'SDP & C', 'Class 1', 'Class 2', 'Class 3', 'Class 1 (Policyholder Only)', 'Class 1 (Spouse Only)'],\n",
    "                                             ['1 - 1000', '1001 - 2000', '2001 - 3000', '3001 - 4000', '4001 - 5000', '5001 - 6000', '6001 - 7000', '7001 - 8000', '8001 - 9000', '9001 - 10000', '10001 - 11000', '11001 - 12000', '12001 - 13000', '13001 - 14000', '14001 - 15000', '15001 - 16000', '16001 - 17000', '17001 - 18000', '18001 - 19000', '19001 - 20000', '20001 - 21000', '21001 - 22000', '22001 - 23000', '23001 - 24000', '24001 - 25000', '25001 - 26000', '26001 - 27000', '27001 - 28000', '28001 - 29000', '29001 - 30000', 'Over 30000'],\n",
    "                                             ['IOD', '-15+', '-10 to -14', '-5 to -9', '0 to -4',  '1 to 5','6+'],\n",
    "                                             ['IOD', '0', '1', '2', '3', '4', '5', '6', '7', '8', '9'],\n",
    "                                             ['IOD', '0', '1', '2', '3', '4'],\n",
    "                                             ['IOD', '17 to 24', '25 to 29', '30-34', '35-39', '40-44', '45-49', '50-54', '55-59', '60-64', '65+'],\n",
    "                                             ['IOD', '0', '1', '2', '3', '4'],\n",
    "                                             [0,1,2,3,4,5],\n",
    "                                             ['Any', 'I&1', 'I&2', 'I&3', 'I&F', 'I&P', 'I&S', 'IOD'],\n",
    "                                             [0,1,2,3,4,5],\n",
    "                                             ['N', 'Y'],\n",
    "                                             [0,1,2,3,4,5,6,7,8,9], \n",
    "                                             ['No Conviction', 'A', 'B', 'C', 'D', 'E', 'F', 'G', 'H', 'I'],\n",
    "                                             [0,1,2,3],#Missing? Can't mix int and strings... what to do?\n",
    "                                             ['Not in Employment', 'Armed Services', 'Bar/Restaurant', 'Building & Construction', 'Driving/Motor Trade', 'Education/Research', 'Farming/Animals', 'Government/Public Services', 'Healthcare', 'Leisure/Beauty', 'Manual/Unskilled', 'Office/Professional', 'Other', 'Security Cash & Courier', 'Skilled', 'Sports/Entertainment'],\n",
    "                                             ['Common Law', 'Divorced', 'Married', 'Partnered', 'Separated', 'Single', 'N/A'],\n",
    "                                             ['Full (UK)', 'International', 'Provisional', 'Foreign', 'Restricted < 3 Years', 'Restricted >= 3 Years'],\n",
    "                                             ['N/A', 'N', 'Y'],\n",
    "                                             ['Employed', 'Employed (Temporary)','Financially Assisted', 'Household Duties', 'In Full Or Part Time Education', 'Independent Means', 'Unemployed', 'Own Company', 'Retired', 'Self Employed', 'Voluntary Work', 'Contractor', 'Missing'],\n",
    "                                             [0, 1, 2, 3, 4, 5, 6, 7, 8, 9, 10, 11, 12, 13, 14, 15, 16, 17, 18, 19, 20, 21, 22, 23, 24, 25, 26, 27, 28, 29, 30, 31, 32, 33, 34, 35, 36, 37, 38, 39, 40, 41, 42, 43, 44, 45, 46, 47, 48, 49, 50, 51, 52, 53, 54, 55, 56, 57, 58, 59, 60, 61, 62, 63, 64, 65, 66, 67, 68, 69, 70, 71, 72, 73, 74, 75, 76, 77, 78, 79, 80, 81, 82, 83, 84, 85, 86, 87, 88, 89, 90, 91, 92, 93, 94, 95, 96, 97, 98, 99, 100, 101, 102, 103, 104, 105, 106, 107, 108, 109, 110, 111, 112, 113, 114, 115, 116, 117, 118, 119],\n",
    "                                             ['Agriculture & Animals', 'Antique / Arts Trade', 'Armed Services', 'Aviation', 'Blue Collar', 'Business Professional', 'Cash Collector', 'Child Care', 'Construction', 'Courier', 'Craftsman', 'Design', 'Education and Training ', 'Electrical', 'Emergency Services', 'Engineering', 'Entertainment & Media', 'Finance & Insurance', 'Food', 'Government and Agencies', 'Healthcare', 'Holiday', 'Hotel Pub & Restaurant', 'Installation', 'IT', 'Leisure & Beauty', 'Maintenance & Repair', 'Manufacturing', 'Marketing', 'Mining and Fuel', 'Not in Employment', 'Office Administration', 'Other', 'Parks & Gardens', 'Photography', 'Property', 'Public Service', 'Publishing', 'Retail Food', 'Retail Sales', 'Science', 'Security', 'Social Services', 'Telecommunications', 'Tradesman', 'Transport', 'Missing'],\n",
    "                                             [0,1,2,3,4,5,6,7,8,9],\n",
    "                                             ['0 to 1', '1 to 2', '2 to 3', '3 to 4', '4 to 5', 'No Conviction'],\n",
    "                                             ['1 to 2', '2 to 3', '3 to 4', '4 to 5', '0 to 1', 'No Claim'],\n",
    "                                             ['1 to 2', '2 to 3', '3 to 4', '4 to 5', '0 to 1', 'No Claim'],\n",
    "                                             ['0 to 1', '1 to 2', '2 to 3', '3 to 4', '4 to 5', 'No Claim'],\n",
    "                                             [17, 18, 19, 20, 21, 22, 23, 24, 25, 26, 27, 28, 29, 30, 31, 32, 33, 34, 35, 36, 37, 38, 39, 40, 41, 42, 43, 44, 45, 46, 47, 48, 49, 50, 51, 52, 53, 54, 55, 56, 57, 58, 59, 60, 61, 62, 63, 64, 65, 66, 67, 68, 69, 70, 71, 72, 73, 74, 75, 76, 77, 78, 79, 80, 81, 82, 83, 84, 85, 86, 87, 88, 89, 90, 91, 92, 93, 94, 95, 96, 97, 98, 99, 100], \n",
    "                                             ['AJ-NB', 'AJ_RC', 'NB', 'RB', 'RC'],\n",
    "                                             ['No Claim', '1', '2', '3', '4', '5'],\n",
    "                                             ['No Claim', '1', '2', '3', '4', '5'],\n",
    "                                             ['No Claim', '1', '2', '3', '4', '5'],\n",
    "                                             ['No Claim', '1', '2', '3', '4', '5'],\n",
    "                                             ['No Claim', '1', '2', '3', '4', '5'],\n",
    "                                             ['No Claim', '1', '2', '3', '4', '5+'], \n",
    "                                             [0, 1, 2, 3, 4, 5, 6, 7, 8, 9, 10, 11, 12, 13, 14, 15, 16, 17, 18, 19, 20],\n",
    "                                             ['Proposer', 'Spouse', 'Common-Law Partner', 'Family', 'Company', 'Leased Vehicle', 'Other'],\n",
    "                                             ['Proposer', 'Spouse', 'Common-Law Partner', 'Family', 'Company', 'Leased Vehicle', 'Other'],\n",
    "                                             ['Under 1000', '1000 - 1999', '2000 - 2999', '3000 - 3999', '4000 - 4999', '5000 - 5999', '6000 - 6999', '7000 - 7999', '8000 - 8999', '9000 - 9999', '10000 - 10999', '11000 - 11999', '12000 - 12999', '13000 - 13999', '14000 - 14999', '15000 - 15999', '16000 - 16999', '17000 - 17999', '18000 - 18999', '19000 - 19999', '20000-20999', '21000-21999', '22000-22999', '23000-23999', '24000-24999', '25000-25999', '26000-26999', '27000-27999', '28000-28999', '29000-29999', '30000-30999', '31000-31999', '32000-32999', '33000-33999', '34000-34999', '35000-35999', '36000-36999', '37000-37999', '38000-38999', '39000-39999', '40000-40999', '41000-41999', '42000-42999', '43000-43999', '44000-44999', '45000-45999', '46000-46999', '47000-47999', '48000-48999', '49000-49999', '50000+'],\n",
    "                                             ['0', '1', '2', '3', '4', '5', '6+', 'Default'],\n",
    "                                             ['0 to 99', '100 to 199', '200+', 'Default'],\n",
    "                                             ['0-74', '75-84','85-94', '95-104', '105-114', '115-124', '125-134', '135-144', '145+', 'Default'],\n",
    "                                             ['0', '1', '2', '3', '4', '5', '6', '7', '8', '9', '10', '11', '12', '13', '14', '15', '16', '17', '18', '19', '20', '21', '22', '23', '24', '25', '26', '27', '28', '29', '30', 'Default']])\n",
    "vehicle_value_encoded = ordinal_encoder.fit_transform(Saga_NB_dropped_unnecessary_df[[\n",
    "                            'AgePassedTest', 'Cover', 'Duration', 'Garaged', 'NCDAllowed',\n",
    "                            'NCDDifference', 'RegistrationYear', 'VehicleAgeatPurchase', \n",
    "                            'YearsOwned', 'Class_of_Use', 'Annual_Mileage', 'Age_Difference',\n",
    "                            'Add_Driving_Experience', 'Add_Other_Vehs_Owned', 'Add_Driver_Age',\n",
    "                            'Add_Access_to_Other_Vehs', 'Access_to_Other_Vehs', 'PDR_Code',\n",
    "                            'Other_Vehs_Owned', 'NCD_Protected', 'NCD_Earned', 'Most_Severe_Conviction',\n",
    "                            'Main_UK_Residency', 'Main_Occupation', 'Main_Marital_Status', \n",
    "                            'Main_Licence_Type', 'Main_Full_Time_Employed', 'Main_Employment_Type',\n",
    "                            'Main_Driving_Experience_Months', 'Main_Employer_Business', 'Main_Driving_Experience',\n",
    "                            'Latest_Conviction', 'Latest_Fault_Accident_Claim','Latest_Non_Fault_Accident_Claim',\n",
    "                            'Latest_Windscreen_Claim','Main_Driver_Age', 'Transaction_Type', 'Tot_Windscreen_Claims', \n",
    "                            'Tot_Vandalism_Claims', 'Tot_Theft_Claims', 'Tot_Non_Fault_Accident_Claims', \n",
    "                            'Tot_Fire_Claims', 'Tot_Fault_Accident_Claims', 'Vehicle_Age', 'Vehicle_Keeper', \n",
    "                            'Vehicle_Owner', 'Vehicle_Value', 'Saga_Years_with_Broker', 'SagaCais', 'SagaFactor', 'SagaQuoteLag']])"
   ]
  },
  {
   "cell_type": "markdown",
   "metadata": {},
   "source": [
    "## Viewing the array of encoded values to initially check the process"
   ]
  },
  {
   "cell_type": "code",
   "execution_count": null,
   "metadata": {},
   "outputs": [],
   "source": [
    "vehicle_value_encoded"
   ]
  },
  {
   "cell_type": "markdown",
   "metadata": {},
   "source": [
    "## Applying the encoded columns to the overall dataset (has the unecessary columns removed)"
   ]
  },
  {
   "cell_type": "code",
   "execution_count": null,
   "metadata": {},
   "outputs": [],
   "source": [
    "Saga_NB_transformed_df[[\n",
    "                        'AgePassedTest', 'Cover', 'Duration', 'Garaged', 'NCDAllowed',\n",
    "                        'NCDDifference', 'RegistrationYear', 'VehicleAgeatPurchase', \n",
    "                        'YearsOwned', 'Class_of_Use', 'Annual_Mileage', 'Age_Difference',\n",
    "                        'Add_Driving_Experience', 'Add_Other_Vehs_Owned', 'Add_Driver_Age',\n",
    "                        'Add_Access_to_Other_Vehs', 'Access_to_Other_Vehs', 'PDR_Code',\n",
    "                        'Other_Vehs_Owned', 'NCD_Protected', 'NCD_Earned', 'Most_Severe_Conviction',\n",
    "                        'Main_UK_Residency', 'Main_Occupation', 'Main_Marital_Status', \n",
    "                        'Main_Licence_Type', 'Main_Full_Time_Employed', 'Main_Employment_Type',\n",
    "                        'Main_Driving_Experience_Months', 'Main_Employer_Business', 'Main_Driving_Experience',\n",
    "                        'Latest_Conviction', 'Latest_Fault_Accident_Claim','Latest_Non_Fault_Accident_Claim',\n",
    "                        'Latest_Windscreen_Claim','Main_Driver_Age', 'Transaction_Type', 'Tot_Windscreen_Claims', \n",
    "                        'Tot_Vandalism_Claims', 'Tot_Theft_Claims', 'Tot_Non_Fault_Accident_Claims', \n",
    "                        'Tot_Fire_Claims', 'Tot_Fault_Accident_Claims', 'Vehicle_Age', 'Vehicle_Keeper', \n",
    "                        'Vehicle_Owner', 'Vehicle_Value', 'Saga_Years_with_Broker', 'SagaCais', 'SagaFactor', 'SagaQuoteLag']] = vehicle_value_encoded\n",
    "Saga_NB_dropped_unnecessary_df[[\n",
    "                                'AgePassedTest', 'Cover', 'Duration', 'Garaged', 'NCDAllowed',\n",
    "                                'NCDDifference', 'RegistrationYear', 'VehicleAgeatPurchase', \n",
    "                                'YearsOwned', 'Class_of_Use', 'Annual_Mileage', 'Age_Difference',\n",
    "                                'Add_Driving_Experience', 'Add_Other_Vehs_Owned', 'Add_Driver_Age',\n",
    "                                'Add_Access_to_Other_Vehs', 'Access_to_Other_Vehs', 'PDR_Code',\n",
    "                                'Other_Vehs_Owned', 'NCD_Protected', 'NCD_Earned', 'Most_Severe_Conviction',\n",
    "                                'Main_UK_Residency', 'Main_Occupation', 'Main_Marital_Status', \n",
    "                                'Main_Licence_Type', 'Main_Full_Time_Employed', 'Main_Employment_Type',\n",
    "                                'Main_Driving_Experience_Months', 'Main_Employer_Business', 'Main_Driving_Experience',\n",
    "                                'Latest_Conviction', 'Latest_Fault_Accident_Claim','Latest_Non_Fault_Accident_Claim',\n",
    "                                'Latest_Windscreen_Claim','Main_Driver_Age', 'Transaction_Type', 'Tot_Windscreen_Claims', \n",
    "                                'Tot_Vandalism_Claims', 'Tot_Theft_Claims', 'Tot_Non_Fault_Accident_Claims', \n",
    "                                'Tot_Fire_Claims', 'Tot_Fault_Accident_Claims', 'Vehicle_Age', 'Vehicle_Keeper', \n",
    "                                'Vehicle_Owner', 'Vehicle_Value', 'Saga_Years_with_Broker', 'SagaCais', 'SagaFactor', 'SagaQuoteLag']] = Saga_NB_transformed_df[[\n",
    "                                                                                                                                                                'AgePassedTest', 'Cover', 'Duration', 'Garaged', 'NCDAllowed',\n",
    "                                                                                                                                                                'NCDDifference', 'RegistrationYear', 'VehicleAgeatPurchase', \n",
    "                                                                                                                                                                'YearsOwned', 'Class_of_Use', 'Annual_Mileage', 'Age_Difference',\n",
    "                                                                                                                                                                'Add_Driving_Experience', 'Add_Other_Vehs_Owned', 'Add_Driver_Age',\n",
    "                                                                                                                                                                'Add_Access_to_Other_Vehs', 'Access_to_Other_Vehs', 'PDR_Code',\n",
    "                                                                                                                                                                'Other_Vehs_Owned', 'NCD_Protected', 'NCD_Earned', 'Most_Severe_Conviction',\n",
    "                                                                                                                                                                'Main_UK_Residency', 'Main_Occupation', 'Main_Marital_Status', \n",
    "                                                                                                                                                                'Main_Licence_Type', 'Main_Full_Time_Employed', 'Main_Employment_Type',\n",
    "                                                                                                                                                                'Main_Driving_Experience_Months', 'Main_Employer_Business', 'Main_Driving_Experience',\n",
    "                                                                                                                                                                'Latest_Conviction', 'Latest_Fault_Accident_Claim','Latest_Non_Fault_Accident_Claim',\n",
    "                                                                                                                                                                'Latest_Windscreen_Claim','Main_Driver_Age', 'Transaction_Type', 'Tot_Windscreen_Claims', \n",
    "                                                                                                                                                                'Tot_Vandalism_Claims', 'Tot_Theft_Claims', 'Tot_Non_Fault_Accident_Claims', \n",
    "                                                                                                                                                                'Tot_Fire_Claims', 'Tot_Fault_Accident_Claims', 'Vehicle_Age', 'Vehicle_Keeper', \n",
    "                                                                                                                                                                'Vehicle_Owner', 'Vehicle_Value', 'Saga_Years_with_Broker', 'SagaCais', 'SagaFactor', 'SagaQuoteLag']]"
   ]
  },
  {
   "cell_type": "markdown",
   "metadata": {},
   "source": [
    "## Viewing the training dataset where the Ordinal Encoder has been appplied."
   ]
  },
  {
   "cell_type": "code",
   "execution_count": null,
   "metadata": {},
   "outputs": [],
   "source": [
    "Saga_NB_dropped_unnecessary_df"
   ]
  },
  {
   "cell_type": "markdown",
   "metadata": {},
   "source": [
    "## Same for Test dataset"
   ]
  },
  {
   "cell_type": "code",
   "execution_count": null,
   "metadata": {},
   "outputs": [],
   "source": [
    "\n",
    "Saga_NB_transformed_test_df = Saga_NB_dropped_unnecessary_test_df[[\n",
    "                            'AgePassedTest', 'Cover', 'Duration', 'Garaged', 'NCDAllowed',\n",
    "                            'NCDDifference', 'RegistrationYear', 'VehicleAgeatPurchase', \n",
    "                            'YearsOwned', 'Class_of_Use', 'Annual_Mileage', 'Age_Difference',\n",
    "                            'Add_Driving_Experience', 'Add_Other_Vehs_Owned', 'Add_Driver_Age',\n",
    "                            'Add_Access_to_Other_Vehs', 'Access_to_Other_Vehs', 'PDR_Code',\n",
    "                            'Other_Vehs_Owned', 'NCD_Protected', 'NCD_Earned', 'Most_Severe_Conviction',\n",
    "                            'Main_UK_Residency', 'Main_Occupation', 'Main_Marital_Status', \n",
    "                            'Main_Licence_Type', 'Main_Full_Time_Employed', 'Main_Employment_Type',\n",
    "                            'Main_Driving_Experience_Months', 'Main_Employer_Business', 'Main_Driving_Experience',\n",
    "                            'Latest_Conviction', 'Latest_Fault_Accident_Claim','Latest_Non_Fault_Accident_Claim',\n",
    "                            'Latest_Windscreen_Claim','Main_Driver_Age', 'Transaction_Type', 'Tot_Windscreen_Claims', \n",
    "                            'Tot_Vandalism_Claims', 'Tot_Theft_Claims', 'Tot_Non_Fault_Accident_Claims', \n",
    "                            'Tot_Fire_Claims', 'Tot_Fault_Accident_Claims', 'Vehicle_Age', 'Vehicle_Keeper', \n",
    "                            'Vehicle_Owner', 'Vehicle_Value', 'Saga_Years_with_Broker', 'SagaCais', 'SagaFactor', 'SagaQuoteLag']]\n",
    "\n",
    "\n",
    "vehicle_value_encoded_test = ordinal_encoder.fit_transform(Saga_NB_dropped_unnecessary_test_df[[\n",
    "                                                                                                'AgePassedTest', 'Cover', 'Duration', 'Garaged', 'NCDAllowed',\n",
    "                                                                                                'NCDDifference', 'RegistrationYear', 'VehicleAgeatPurchase', \n",
    "                                                                                                'YearsOwned', 'Class_of_Use', 'Annual_Mileage', 'Age_Difference',\n",
    "                                                                                                'Add_Driving_Experience', 'Add_Other_Vehs_Owned', 'Add_Driver_Age',\n",
    "                                                                                                'Add_Access_to_Other_Vehs', 'Access_to_Other_Vehs', 'PDR_Code',\n",
    "                                                                                                'Other_Vehs_Owned', 'NCD_Protected', 'NCD_Earned', 'Most_Severe_Conviction',\n",
    "                                                                                                'Main_UK_Residency', 'Main_Occupation', 'Main_Marital_Status', \n",
    "                                                                                                'Main_Licence_Type', 'Main_Full_Time_Employed', 'Main_Employment_Type',\n",
    "                                                                                                'Main_Driving_Experience_Months', 'Main_Employer_Business', 'Main_Driving_Experience',\n",
    "                                                                                                'Latest_Conviction', 'Latest_Fault_Accident_Claim','Latest_Non_Fault_Accident_Claim',\n",
    "                                                                                                'Latest_Windscreen_Claim','Main_Driver_Age', 'Transaction_Type', 'Tot_Windscreen_Claims', \n",
    "                                                                                                'Tot_Vandalism_Claims', 'Tot_Theft_Claims', 'Tot_Non_Fault_Accident_Claims', \n",
    "                                                                                                'Tot_Fire_Claims', 'Tot_Fault_Accident_Claims', 'Vehicle_Age', 'Vehicle_Keeper', \n",
    "                                                                                                'Vehicle_Owner', 'Vehicle_Value', 'Saga_Years_with_Broker', 'SagaCais', 'SagaFactor', 'SagaQuoteLag']])\n",
    "\n",
    "Saga_NB_transformed_test_df[[\n",
    "                            'AgePassedTest', 'Cover', 'Duration', 'Garaged', 'NCDAllowed',\n",
    "                            'NCDDifference', 'RegistrationYear', 'VehicleAgeatPurchase', \n",
    "                            'YearsOwned', 'Class_of_Use', 'Annual_Mileage', 'Age_Difference',\n",
    "                            'Add_Driving_Experience', 'Add_Other_Vehs_Owned', 'Add_Driver_Age',\n",
    "                            'Add_Access_to_Other_Vehs', 'Access_to_Other_Vehs', 'PDR_Code',\n",
    "                            'Other_Vehs_Owned', 'NCD_Protected', 'NCD_Earned', 'Most_Severe_Conviction',\n",
    "                            'Main_UK_Residency', 'Main_Occupation', 'Main_Marital_Status', \n",
    "                            'Main_Licence_Type', 'Main_Full_Time_Employed', 'Main_Employment_Type',\n",
    "                            'Main_Driving_Experience_Months', 'Main_Employer_Business', 'Main_Driving_Experience',\n",
    "                            'Latest_Conviction', 'Latest_Fault_Accident_Claim','Latest_Non_Fault_Accident_Claim',\n",
    "                            'Latest_Windscreen_Claim','Main_Driver_Age', 'Transaction_Type', 'Tot_Windscreen_Claims', \n",
    "                            'Tot_Vandalism_Claims', 'Tot_Theft_Claims', 'Tot_Non_Fault_Accident_Claims', \n",
    "                            'Tot_Fire_Claims', 'Tot_Fault_Accident_Claims', 'Vehicle_Age', 'Vehicle_Keeper', \n",
    "                            'Vehicle_Owner', 'Vehicle_Value', 'Saga_Years_with_Broker', 'SagaCais', 'SagaFactor', 'SagaQuoteLag']] = vehicle_value_encoded_test\n",
    "Saga_NB_dropped_unnecessary_test_df[[\n",
    "                                    'AgePassedTest', 'Cover', 'Duration', 'Garaged', 'NCDAllowed',\n",
    "                                    'NCDDifference', 'RegistrationYear', 'VehicleAgeatPurchase', \n",
    "                                    'YearsOwned', 'Class_of_Use', 'Annual_Mileage', 'Age_Difference',\n",
    "                                    'Add_Driving_Experience', 'Add_Other_Vehs_Owned', 'Add_Driver_Age',\n",
    "                                    'Add_Access_to_Other_Vehs', 'Access_to_Other_Vehs', 'PDR_Code',\n",
    "                                    'Other_Vehs_Owned', 'NCD_Protected', 'NCD_Earned', 'Most_Severe_Conviction',\n",
    "                                    'Main_UK_Residency', 'Main_Occupation', 'Main_Marital_Status', \n",
    "                                    'Main_Licence_Type', 'Main_Full_Time_Employed', 'Main_Employment_Type',\n",
    "                                    'Main_Driving_Experience_Months', 'Main_Employer_Business', 'Main_Driving_Experience',\n",
    "                                    'Latest_Conviction', 'Latest_Fault_Accident_Claim','Latest_Non_Fault_Accident_Claim',\n",
    "                                    'Latest_Windscreen_Claim','Main_Driver_Age', 'Transaction_Type', 'Tot_Windscreen_Claims', \n",
    "                                    'Tot_Vandalism_Claims', 'Tot_Theft_Claims', 'Tot_Non_Fault_Accident_Claims', \n",
    "                                    'Tot_Fire_Claims', 'Tot_Fault_Accident_Claims', 'Vehicle_Age', 'Vehicle_Keeper', \n",
    "                                    'Vehicle_Owner', 'Vehicle_Value', 'Saga_Years_with_Broker', 'SagaCais', 'SagaFactor', 'SagaQuoteLag']] = Saga_NB_transformed_test_df[[\n",
    "                                                                                                                                                                        'AgePassedTest', 'Cover', 'Duration', 'Garaged', 'NCDAllowed',\n",
    "                                                                                                                                                                        'NCDDifference', 'RegistrationYear', 'VehicleAgeatPurchase', \n",
    "                                                                                                                                                                        'YearsOwned', 'Class_of_Use', 'Annual_Mileage', 'Age_Difference',\n",
    "                                                                                                                                                                        'Add_Driving_Experience', 'Add_Other_Vehs_Owned', 'Add_Driver_Age',\n",
    "                                                                                                                                                                        'Add_Access_to_Other_Vehs', 'Access_to_Other_Vehs', 'PDR_Code',\n",
    "                                                                                                                                                                        'Other_Vehs_Owned', 'NCD_Protected', 'NCD_Earned', 'Most_Severe_Conviction',\n",
    "                                                                                                                                                                        'Main_UK_Residency', 'Main_Occupation', 'Main_Marital_Status', \n",
    "                                                                                                                                                                        'Main_Licence_Type', 'Main_Full_Time_Employed', 'Main_Employment_Type',\n",
    "                                                                                                                                                                        'Main_Driving_Experience_Months', 'Main_Employer_Business', 'Main_Driving_Experience',\n",
    "                                                                                                                                                                        'Latest_Conviction', 'Latest_Fault_Accident_Claim','Latest_Non_Fault_Accident_Claim',\n",
    "                                                                                                                                                                        'Latest_Windscreen_Claim','Main_Driver_Age', 'Transaction_Type', 'Tot_Windscreen_Claims', \n",
    "                                                                                                                                                                        'Tot_Vandalism_Claims', 'Tot_Theft_Claims', 'Tot_Non_Fault_Accident_Claims', \n",
    "                                                                                                                                                                        'Tot_Fire_Claims', 'Tot_Fault_Accident_Claims', 'Vehicle_Age', 'Vehicle_Keeper', \n",
    "                                                                                                                                                                        'Vehicle_Owner', 'Vehicle_Value', 'Saga_Years_with_Broker', 'SagaCais', 'SagaFactor', 'SagaQuoteLag']]"
   ]
  },
  {
   "cell_type": "markdown",
   "metadata": {},
   "source": [
    "## Scaling the features\n",
    "\n",
    "This step is important to bring all the factors onto the same scale-this is to ensure that all factors are given the opportunity to be predictive even if the levels within the factor are on a smaller scale.\n",
    "\n",
    "For example Main_Driver_Age is a on a scale from 17-100 whereas NCD_Earned is on a scale from 0-9 however an increase in NCD_Earned from 0 years to 9 years is a larger change than Main_Driver_Age increasing from 17-26 (same 9 years) relative to the factor in question."
   ]
  },
  {
   "cell_type": "code",
   "execution_count": null,
   "metadata": {},
   "outputs": [],
   "source": [
    "scaler = sklearn.preprocessing.MinMaxScaler()\n",
    "#Saga_NB_dropped_unnecessary_arr = Saga_NB_dropped_unnecessary_df.to_numpy()\n",
    "Saga_NB_dropped_unnecessary_scaled = scaler.fit_transform(Saga_NB_dropped_unnecessary_df)\n",
    "Saga_NB_dropped_unnecessary_scaled_df = pd.DataFrame(Saga_NB_dropped_unnecessary_scaled)\n",
    "Saga_NB_dropped_unnecessary_scaled_df.columns = Saga_NB_dropped_unnecessary_df.columns\n"
   ]
  },
  {
   "cell_type": "markdown",
   "metadata": {},
   "source": [
    "## Viewing the scaled train data-ensuring all factors have been scaled the same."
   ]
  },
  {
   "cell_type": "code",
   "execution_count": null,
   "metadata": {},
   "outputs": [],
   "source": [
    "Saga_NB_dropped_unnecessary_scaled_df"
   ]
  },
  {
   "cell_type": "markdown",
   "metadata": {},
   "source": [
    "## Same for test dataset \n",
    "We don't want to re-define the scaler for this dataset, or fit it to it just use the transform from the training data"
   ]
  },
  {
   "cell_type": "code",
   "execution_count": null,
   "metadata": {},
   "outputs": [],
   "source": [
    "Saga_NB_dropped_unnecessary_test_scaled = scaler.transform(Saga_NB_dropped_unnecessary_test_df)\n",
    "Saga_NB_dropped_unnecessary_scaled_test_df = pd.DataFrame(Saga_NB_dropped_unnecessary_test_scaled)\n",
    "Saga_NB_dropped_unnecessary_scaled_test_df.columns = Saga_NB_dropped_unnecessary_test_df.columns"
   ]
  },
  {
   "cell_type": "markdown",
   "metadata": {},
   "source": [
    "------------------------------------------------------------------------------------------------------------------------------------------------------------"
   ]
  },
  {
   "cell_type": "markdown",
   "metadata": {},
   "source": [
    "# Feature selection approaches"
   ]
  },
  {
   "cell_type": "markdown",
   "metadata": {},
   "source": [
    "### Correlated factors"
   ]
  },
  {
   "cell_type": "markdown",
   "metadata": {},
   "source": [
    "### Simple plot including all factors"
   ]
  },
  {
   "cell_type": "code",
   "execution_count": null,
   "metadata": {},
   "outputs": [],
   "source": [
    "import matplotlib.pyplot as plt\n",
    "import seaborn as sn\n",
    "\n",
    "corr_matrix = Saga_NB_dropped_unnecessary_scaled_df.corr()\n",
    "\n",
    "plt.figure(figsize=(15,12))\n",
    "sn.heatmap(corr_matrix, annot=False)\n",
    "plt.show()"
   ]
  },
  {
   "cell_type": "markdown",
   "metadata": {},
   "source": [
    "## A visual representation of the factors with the highest correlation coefficients.\n",
    "If two factors are highly correlated only one most likely needs to be included.\n",
    "\n",
    "Add interactivity so the names of the factors come up when you hover over it."
   ]
  },
  {
   "cell_type": "code",
   "execution_count": null,
   "metadata": {},
   "outputs": [],
   "source": [
    "dfCorr = Saga_NB_dropped_unnecessary_scaled_df.corr()\n",
    "filteredDf = dfCorr[((dfCorr >= 0.5) | (dfCorr <= -0.5)) & (dfCorr !=1.000)]\n",
    "#This line can check to see if it is only the same factors that have a correlation equal to 1.\n",
    "#filteredDf = dfCorr[(dfCorr == 1.000)]\n",
    "\n",
    "plt.figure(figsize=(30,15))\n",
    "sn.heatmap(filteredDf, annot=True, cmap=\"Reds\")\n",
    "plt.show()"
   ]
  },
  {
   "cell_type": "markdown",
   "metadata": {},
   "source": [
    "## Listing the highest correlated factors"
   ]
  },
  {
   "cell_type": "code",
   "execution_count": null,
   "metadata": {},
   "outputs": [],
   "source": [
    "def corrFilter(x: pd.DataFrame, bound: float):\n",
    "    xCorr = x.corr()\n",
    "    xFiltered = xCorr[((xCorr >= bound) | (xCorr <= -bound)) & (xCorr !=1.000)]\n",
    "    xFlattened = xFiltered.unstack().sort_values().drop_duplicates().dropna()\n",
    "    return xFlattened\n",
    "\n",
    "corrFilter(Saga_NB_dropped_unnecessary_scaled_df, 0.7)"
   ]
  },
  {
   "attachments": {
    "image.png": {
     "image/png": "[encoded data removed]"
    }
   },
   "cell_type": "markdown",
   "metadata": {},
   "source": [
    "## Variance Inflation Factor (VIF) \n",
    "\n",
    "Multicollinearity occurs when variables are correlated with each other. Including highly correlated variables in leads to an inflation of standard errors which can result in a coefficient not being statistically significant. There are different ways to check for multicolinearity but the most widely used diagnostic for multicolinearity is the variance inflation factor for each explanatory variable. The **statsmodel** library in Python can compute the VIF directly using the variance inflation factor function. \n",
    "\n",
    "Below is a code snippet that computes the VIF value for each of the variables listed. \n",
    "![image.png](attachment:image.png)"
   ]
  },
  {
   "attachments": {
    "image.png": {
     "image/png": "[encoded data removed]"
    }
   },
   "cell_type": "markdown",
   "metadata": {},
   "source": [
    "The code output displays a table which lists the variables and their calculated VIF value. \n",
    "![image.png](attachment:image.png)\n",
    "\n",
    "By removing the variable with the highest VIF value and computing the VIF value for variables again the VIF value decreases for the other variables "
   ]
  },
  {
   "cell_type": "markdown",
   "metadata": {},
   "source": [
    "## Multicollinearity Note\n",
    "\n",
    "Typically a VIF value > 5 for variables indicates that they're suffering from multicollinearity. If multicollinearity is detected then the next step is to figure out if it you need to resolve it. The goal of the regression analysis will determine whether or not you actually need to resolve the multicollinearity issue. \n",
    "\n",
    "Multicollinearity impacts the coefficient estimates and the p-values but it doesn't impact predictions or goodness-of-fit statistics. If the exact relationship between the predictor variables and the resposne variable then the multicollinearity issue needs to be fixed. One way to do this is to remove one or more of the highly correlated variables and is the quickest fix. In the example above the variable with the highest VIF value was removed which led to a decrease in the other variables VIF values. \n",
    "\n",
    "A general rule of thumb for interpreting VIFs is a value between 1 and 5 indicates moderate correaltion between a predictor variable and other predictor variables in the model but is not severe enough to require attention. "
   ]
  },
  {
   "cell_type": "markdown",
   "metadata": {},
   "source": [
    "## Dropping the response variable to perform the feature importance"
   ]
  },
  {
   "cell_type": "code",
   "execution_count": null,
   "metadata": {},
   "outputs": [],
   "source": [
    "Saga_NB_feature_importance = Saga_NB_dropped_unnecessary_scaled_df.drop(columns = ['cancelled'])"
   ]
  },
  {
   "cell_type": "markdown",
   "metadata": {},
   "source": [
    "## Univariate feature importance"
   ]
  },
  {
   "cell_type": "code",
   "execution_count": null,
   "metadata": {},
   "outputs": [],
   "source": [
    "from sklearn.feature_selection import SelectKBest \n",
    "from sklearn.feature_selection import f_regression \n",
    "\n",
    "kbest = SelectKBest(score_func=f_regression, k=15)\n",
    "kbest.fit(Saga_NB_feature_importance, Saga_NB_dropped_unnecessary_scaled_df['cancelled'])\n",
    "\n",
    "#print(\"Feature scores\", kbest.scores_)\n",
    "\n",
    "features_selected_k_best = list(Saga_NB_feature_importance.columns[kbest.get_support()])\n",
    "\n",
    "print(\"Selected Features\", features_selected_k_best)\n",
    "print()\n",
    "print(\"Removed Features\", list(Saga_NB_feature_importance.columns[~kbest.get_support()]))\n"
   ]
  },
  {
   "cell_type": "markdown",
   "metadata": {},
   "source": [
    "## Using Random Forest built in feature ranking"
   ]
  },
  {
   "cell_type": "code",
   "execution_count": null,
   "metadata": {},
   "outputs": [],
   "source": [
    "from sklearn.model_selection import train_test_split\n",
    "from sklearn.ensemble import RandomForestClassifier\n",
    "from sklearn.ensemble import GradientBoostingClassifier\n",
    "\n",
    "import time\n"
   ]
  },
  {
   "cell_type": "markdown",
   "metadata": {},
   "source": [
    "# Split data into X and y for train and test data."
   ]
  },
  {
   "cell_type": "code",
   "execution_count": null,
   "metadata": {},
   "outputs": [],
   "source": [
    "X_train = Saga_NB_dropped_unnecessary_scaled_df.drop(columns=['cancelled'])\n",
    "\n",
    "\n",
    "y_train = Saga_NB_dropped_unnecessary_scaled_df['cancelled']\n",
    "\n",
    "X_test = Saga_NB_dropped_unnecessary_scaled_test_df.drop(columns=['cancelled'])\n",
    "\n",
    "y_test = Saga_NB_dropped_unnecessary_scaled_test_df['cancelled']\n",
    "\n",
    "feature_names = [val for val in X_train]\n",
    "\n"
   ]
  },
  {
   "cell_type": "markdown",
   "metadata": {},
   "source": [
    "## RandomForestClassifier-default hyperparameter build."
   ]
  },
  {
   "cell_type": "code",
   "execution_count": null,
   "metadata": {},
   "outputs": [],
   "source": [
    "forest = RandomForestClassifier(random_state=0)\n",
    "forest.fit(X_train, y_train)"
   ]
  },
  {
   "cell_type": "markdown",
   "metadata": {},
   "source": [
    "### Standard feature importance (Mean Decrease Impurity)"
   ]
  },
  {
   "cell_type": "code",
   "execution_count": null,
   "metadata": {},
   "outputs": [],
   "source": [
    "importances = forest.feature_importances_\n",
    "\n",
    "std = np.std([tree.feature_importances_ for tree in forest.estimators_], axis=0)\n",
    "\n",
    "forest_importances = pd.Series(importances, index=feature_names)\n",
    "\n",
    "fig, ax = plt.subplots()\n",
    "fig.set_figwidth(12)\n",
    "fig.set_figheight(8)\n",
    "forest_importances.nlargest(len(Saga_NB_transformed_df)).plot.bar(yerr=std, ax=ax)\n",
    "ax.set_title(\"Feature importances using MDI\")\n",
    "ax.set_ylabel(\"Mean decrease in impurity\")\n",
    "fig.tight_layout()"
   ]
  },
  {
   "cell_type": "markdown",
   "metadata": {},
   "source": [
    "## Can change the value withink the nlargest() function to give the top n most 'important' features."
   ]
  },
  {
   "cell_type": "code",
   "execution_count": null,
   "metadata": {},
   "outputs": [],
   "source": [
    "RF_MDI = []\n",
    "for val in forest_importances.nlargest(20).index:\n",
    "    RF_MDI.append(val)\n",
    "\n",
    "RF_MDI_interaction_check = []\n",
    "for val in forest_importances.nlargest(5).index:\n",
    "    RF_MDI_interaction_check.append(val)"
   ]
  },
  {
   "cell_type": "markdown",
   "metadata": {},
   "source": [
    "### Feature importance based on feature permutation-this helps to remove the bias to high cardinality (features with lots of factor levels) features."
   ]
  },
  {
   "cell_type": "code",
   "execution_count": null,
   "metadata": {},
   "outputs": [],
   "source": [
    "from sklearn.inspection import permutation_importance\n",
    "\n",
    "start_time = time.time()\n",
    "result = permutation_importance(\n",
    "    forest, X_test, y_test, n_repeats=10, random_state=42, n_jobs=2\n",
    ")\n",
    "elapsed_time = time.time() - start_time\n",
    "print(f\"Elapsed time to compute the importances: {elapsed_time:.3f} seconds\")\n",
    "\n",
    "forest_importances = pd.Series(result.importances_mean, index=feature_names)\n",
    "\n",
    "fig, ax = plt.subplots()\n",
    "fig.set_figwidth(12)\n",
    "fig.set_figheight(8)\n",
    "\n",
    "forest_importances.nlargest(len(Saga_NB_transformed_df)).plot.bar(yerr=result.importances_std, ax=ax)\n",
    "ax.set_title(\"Feature importances using permutation on full model\")\n",
    "ax.set_ylabel(\"Mean accuracy decrease\")\n",
    "fig.tight_layout()\n",
    "plt.show()"
   ]
  },
  {
   "cell_type": "code",
   "execution_count": null,
   "metadata": {},
   "outputs": [],
   "source": [
    "RF_perm = []\n",
    "for val in forest_importances.nlargest(20).index:\n",
    "    RF_perm.append(val)\n",
    "    \n",
    "RF_perm_interaction_check = []\n",
    "for val in forest_importances.nlargest(5).index:\n",
    "    RF_perm_interaction_check.append(val)"
   ]
  },
  {
   "cell_type": "markdown",
   "metadata": {},
   "source": [
    "## GradientBoostingClassifier"
   ]
  },
  {
   "cell_type": "markdown",
   "metadata": {},
   "source": [
    "### Look at hyperparameters to tune them."
   ]
  },
  {
   "cell_type": "code",
   "execution_count": null,
   "metadata": {},
   "outputs": [],
   "source": [
    "#Again change Saga_NB_transformed_df to Saga_NB_dropped_unnecessary_df\n",
    "\n",
    "feature_names = [val for val in X_train]\n",
    "gbm = GradientBoostingClassifier(random_state=0)\n",
    "gbm.fit(X_train, y_train)"
   ]
  },
  {
   "cell_type": "code",
   "execution_count": null,
   "metadata": {},
   "outputs": [],
   "source": [
    "importances_gbm = gbm.feature_importances_\n",
    "#std = np.std([tree.feature_importances_ for tree in gbm.estimators_], axis=0)\n",
    "\n",
    "gbm_importances = pd.Series(importances_gbm, index=feature_names)\n",
    "\n",
    "fig, ax = plt.subplots()\n",
    "fig.set_figwidth(12)\n",
    "fig.set_figheight(8)\n",
    "gbm_importances.nlargest(len(Saga_NB_transformed_df)).plot.bar(ax=ax)\n",
    "ax.set_title(\"Feature importances using MDI\")\n",
    "ax.set_ylabel(\"Mean decrease in impurity\")\n",
    "fig.tight_layout()"
   ]
  },
  {
   "cell_type": "code",
   "execution_count": null,
   "metadata": {},
   "outputs": [],
   "source": [
    "GBM_MDI = []\n",
    "for val in forest_importances.nlargest(20).index:\n",
    "    GBM_MDI.append(val)\n",
    "    \n",
    "GBM_MDI_interaction_check = []\n",
    "for val in forest_importances.nlargest(5).index:\n",
    "    GBM_MDI_interaction_check.append(val)"
   ]
  },
  {
   "cell_type": "markdown",
   "metadata": {},
   "source": [
    "## Sklearn permutation_importance"
   ]
  },
  {
   "cell_type": "code",
   "execution_count": null,
   "metadata": {},
   "outputs": [],
   "source": [
    "from sklearn.inspection import permutation_importance"
   ]
  },
  {
   "cell_type": "markdown",
   "metadata": {},
   "source": [
    "## Combining the factors identified by each Model and method.\n",
    "\n",
    "Copy is required to search for interactions..."
   ]
  },
  {
   "cell_type": "code",
   "execution_count": null,
   "metadata": {},
   "outputs": [],
   "source": [
    "important_factors=[]\n",
    "for val in RF_MDI:\n",
    "    if val not in important_factors:\n",
    "        important_factors.append(val)\n",
    "    else:\n",
    "        pass\n",
    "for val in RF_perm:\n",
    "    if val not in important_factors:\n",
    "        important_factors.append(val)\n",
    "    else:\n",
    "        pass\n",
    "for val in GBM_MDI:\n",
    "    if val not in important_factors:\n",
    "        important_factors.append(val)\n",
    "    else:\n",
    "        pass\n",
    "for val in features_selected_k_best:\n",
    "    if val not in important_factors:\n",
    "        important_factors.append(val)\n",
    "    else:\n",
    "        pass\n",
    "        \n",
    "important_factors_copy = important_factors"
   ]
  },
  {
   "cell_type": "code",
   "execution_count": null,
   "metadata": {},
   "outputs": [],
   "source": [
    "print(important_factors)\n",
    "print(len(important_factors))"
   ]
  },
  {
   "attachments": {
    "image.png": {
     "image/png": "[encoded data removed]"
    }
   },
   "cell_type": "markdown",
   "metadata": {},
   "source": [
    "## Wrapper Feature Selection Methods \n",
    "\n",
    "Python has built-in functions capable of implementing these two feature selection methods below in only a few lines of code. The **mlxtend** library contains built-in implementation for most wrapper methods based feature selection techniques. \n",
    "![image.png](attachment:image.png)"
   ]
  },
  {
   "cell_type": "markdown",
   "metadata": {},
   "source": [
    "Unfortunately there were difficulties importing this library and a couple of other into Python on both laptops therefore a manual function implementation had to be used to extract features from each wrapper method."
   ]
  },
  {
   "cell_type": "markdown",
   "metadata": {},
   "source": [
    "## Forward Feature Selection "
   ]
  },
  {
   "cell_type": "code",
   "execution_count": null,
   "metadata": {},
   "outputs": [],
   "source": [
    "## Function accepts data, target and significance level as arguments and returns the final list of significant features \n",
    "## based on p-values\n",
    "import statsmodels.api as sm\n",
    "data = Saga_NB_dropped_unnecessary_scaled \n",
    "target = Saga_NB_dropped_unnecessary_scaled_df['cancelled']\n",
    "\n",
    "def forward_selection(data, target, significance_level=0.05):\n",
    "    initial_features = data.columns.tolist()\n",
    "    best_features = []\n",
    "    while (len(initial_features)>0):\n",
    "        remaining_features = list(set(initial_features)-set(best_features))\n",
    "        new_pval = pd.Series(index=remaining_features)\n",
    "        for new_column in remaining_features:\n",
    "            model = sm.OLS(target, sm.add_constant(data[best_features+[new_column]])).fit()\n",
    "            new_pval[new_column] = model.pvalues[new_column]\n",
    "        min_p_value = new_pval.min()\n",
    "        if(min_p_value<significance_level):\n",
    "            best_features.append(new_pval.idxmin())\n",
    "        else:\n",
    "            break\n",
    "    return best_features"
   ]
  },
  {
   "cell_type": "code",
   "execution_count": null,
   "metadata": {},
   "outputs": [],
   "source": [
    "forward_selection(X_train, y_train)"
   ]
  },
  {
   "cell_type": "code",
   "execution_count": null,
   "metadata": {},
   "outputs": [],
   "source": [
    "factors_string_fs15 = \"'Main_Employment_Type', 'SagaCais', 'VehicleAgeatPurchase', 'NCD_Protected', 'PDR_Code', 'SagaQuoteLag', 'Add_Driver_Age', 'Add_Other_Vehs_Owned', 'Class_of_Use', 'Vehicle_Age', 'Main_Full_Time_Employed', 'Annual_Mileage', 'Vehicle_Value', 'Transaction_Type', 'Vehicle_Owner'\"\n",
    "factors_string_fs15.replace(\",\", \" +\").replace(\"'\",\"\")"
   ]
  },
  {
   "cell_type": "markdown",
   "metadata": {},
   "source": [
    "## Backward Elimination  "
   ]
  },
  {
   "cell_type": "code",
   "execution_count": null,
   "metadata": {},
   "outputs": [],
   "source": [
    "import statsmodels.api as sm\n",
    "data = Saga_NB_dropped_unnecessary_scaled \n",
    "target = Saga_NB_dropped_unnecessary_scaled_df['cancelled']\n",
    "\n",
    "def backward_elimination(data, target,significance_level = 0.05):\n",
    "    features = data.columns.tolist()\n",
    "    while(len(features)>0):\n",
    "        features_with_constant = sm.add_constant(data[features])\n",
    "        p_values = sm.OLS(target, features_with_constant).fit().pvalues[1:]\n",
    "        max_p_value = p_values.max()\n",
    "        if(max_p_value >= significance_level):\n",
    "            excluded_feature = p_values.idxmax()\n",
    "            features.remove(excluded_feature)\n",
    "        else:\n",
    "            break \n",
    "    return features"
   ]
  },
  {
   "cell_type": "code",
   "execution_count": null,
   "metadata": {},
   "outputs": [],
   "source": [
    "backward_elimination(X_train, y_train)"
   ]
  },
  {
   "cell_type": "code",
   "execution_count": null,
   "metadata": {},
   "outputs": [],
   "source": [
    "factors_string_bs15 = \"'AgePassedTest', 'Cover', 'Garaged', 'VehicleAgeatPurchase', 'Class_of_Use', 'Annual_Mileage', 'Age_Difference', 'Add_Other_Vehs_Owned', 'Add_Driver_Age', 'Add_Access_to_Other_Vehs', 'PDR_Code', 'NCD_Protected', 'Main_UK_Residency', 'Main_Occupation', 'Main_Full_Time_Employed'\"\n",
    "factors_string_bs15.replace(\",\", \" +\").replace(\"'\",\"\")"
   ]
  },
  {
   "cell_type": "markdown",
   "metadata": {},
   "source": [
    "## Features to Use in GLM model \n",
    "\n",
    "Observed similar features returned for the different feature selection techniques used.\n",
    "\n",
    "The GLM model built in this notebook used a combination of the features from the forward selection wrapper method, features from the tree based feature importance implementation and the experience from building models in the Emblem software."
   ]
  },
  {
   "cell_type": "markdown",
   "metadata": {},
   "source": [
    "# Interactions"
   ]
  },
  {
   "cell_type": "markdown",
   "metadata": {},
   "source": [
    "## Looking for interactions"
   ]
  },
  {
   "cell_type": "code",
   "execution_count": null,
   "metadata": {},
   "outputs": [],
   "source": [
    "from sklearn.preprocessing import PolynomialFeatures\n",
    "poly = PolynomialFeatures(include_bias=False, interaction_only=True)"
   ]
  },
  {
   "cell_type": "markdown",
   "metadata": {},
   "source": [
    "## Chi squared tests"
   ]
  },
  {
   "cell_type": "code",
   "execution_count": null,
   "metadata": {},
   "outputs": [],
   "source": [
    "# chi-squared test with similar proportions\n",
    "from scipy.stats import chi2_contingency\n",
    "from scipy.stats import chi2"
   ]
  },
  {
   "cell_type": "markdown",
   "metadata": {},
   "source": [
    "### Can alter the confidence level (set at maximum to 95%) by being more lenient to view more factors interacting."
   ]
  },
  {
   "cell_type": "code",
   "execution_count": null,
   "metadata": {},
   "outputs": [],
   "source": [
    "highest_chances_of_interactions = []\n",
    "#Producing a contingency table from the dataset\n",
    "for var_1 in important_factors:\n",
    "    for var_2 in important_factors_copy:\n",
    "        if var_1 != var_2:\n",
    "            contigency_pct = pd.crosstab(Saga_NB_dropped_unnecessary_df[var_1], Saga_NB_dropped_unnecessary_df[var_2], normalize='index')\n",
    "            c, p, dof, expected = chi2_contingency(contigency_pct)\n",
    "            if p<0.05:\n",
    "                highest_chances_of_interactions.append([var_1, var_2])"
   ]
  },
  {
   "cell_type": "code",
   "execution_count": null,
   "metadata": {},
   "outputs": [],
   "source": [
    "highest_chances_of_interactions"
   ]
  },
  {
   "cell_type": "markdown",
   "metadata": {},
   "source": [
    "## These just seem to be the small categorical variables..."
   ]
  },
  {
   "cell_type": "markdown",
   "metadata": {},
   "source": [
    "## Plot based \n",
    "\n",
    "Look at most likely ranked interaction by Chi squared testing and look at top 5 factors from each factor importance."
   ]
  },
  {
   "cell_type": "code",
   "execution_count": null,
   "metadata": {},
   "outputs": [],
   "source": [
    "important_factors_interaction_check=[]\n",
    "for val in RF_MDI_interaction_check:\n",
    "    if val not in important_factors_interaction_check:\n",
    "        important_factors_interaction_check.append(val)\n",
    "    else:\n",
    "        pass\n",
    "for val in RF_perm_interaction_check:\n",
    "    if val not in important_factors_interaction_check:\n",
    "        important_factors_interaction_check.append(val)\n",
    "    else:\n",
    "        pass\n",
    "for val in GBM_MDI_interaction_check:\n",
    "    if val not in important_factors_interaction_check:\n",
    "        important_factors_interaction_check.append(val)\n",
    "    else:\n",
    "        pass\n",
    "    "
   ]
  },
  {
   "cell_type": "code",
   "execution_count": null,
   "metadata": {},
   "outputs": [],
   "source": [
    "important_factors_interaction_check"
   ]
  },
  {
   "cell_type": "code",
   "execution_count": null,
   "metadata": {},
   "outputs": [],
   "source": [
    "sn.pairplot(Saga_NB_dropped_unnecessary_df[important_factors_interaction_check], palette=sn.color_palette(\"rocket\"))"
   ]
  },
  {
   "cell_type": "code",
   "execution_count": null,
   "metadata": {},
   "outputs": [],
   "source": [
    "import math"
   ]
  },
  {
   "cell_type": "code",
   "execution_count": null,
   "metadata": {},
   "outputs": [],
   "source": [
    "fig, axis = plt.subplots(2, math.ceil(len(highest_chances_of_interactions)/2), figsize=(25, 10), sharey=True)\n",
    "i=0\n",
    "j=0\n",
    "\n",
    "for pair in highest_chances_of_interactions:\n",
    "    if j==int(len(highest_chances_of_interactions)/2):\n",
    "        j=0\n",
    "        i+=1\n",
    "    plt.xlabel(pair[0])\n",
    "    plt.ylabel(pair[1])\n",
    "    axis[i,j].plot(Saga_NB_dropped_unnecessary_df[pair[0]], Saga_NB_dropped_unnecessary_df[pair[1]])\n",
    "    \n",
    "    j+=1\n",
    "    \n"
   ]
  },
  {
   "attachments": {
    "image.png": {
     "image/png": "[encoded data removed]"
    }
   },
   "cell_type": "markdown",
   "metadata": {},
   "source": [
    "## Statsmodel in Python \n",
    "\n",
    "This is a Python library built specifically for statistics. Statsmodels is built on top of other Python libraries (NumPy, SciPy and matplotlib) but it contains more advanced functions for statistical testing and modelling. This library also supports specifying models usinf R-style formulas and pandas DataFrames.\n",
    "\n",
    "In Python, libraries are used to refer to a collection of modules that are used repeatedly in various programs without the need of writing them from scratch. To import a library in Python the keyword **import** should be used. Python also allows us to change the names of modules and functions and name them as we want.The name given to the module or library in place of the original name is known as the alias and the keyword **as** should be used. \n",
    "\n",
    "For fitting a GLM the following statsmodels libraries need to be imported. \n",
    "![image.png](attachment:image.png)"
   ]
  },
  {
   "cell_type": "markdown",
   "metadata": {},
   "source": [
    "## Fitting the GLM model"
   ]
  },
  {
   "cell_type": "markdown",
   "metadata": {},
   "source": [
    "The process of fitting a GLM model in Python. \n",
    "1. Describe the model -> smf.glm(\"formula\")\n",
    "2. Fit the model -> .fit( ) \n",
    "3. Summarise the model -> .summary( ) \n",
    "4. Make model predictions -> .predict( ) \n",
    "\n",
    "\n",
    "Two ways in Python to describe the model used to build the GLM, use a formula or an array. The method chosen for the GLM building is the formula approach, which uses R-style formulas. \n",
    "\n",
    "\n",
    "Fitting the GLM takes three key arguements. \n",
    "\n",
    "## Fitting the GLM -  glm_model = smf.glm(**formula**, **data**, **family**) \n"
   ]
  },
  {
   "cell_type": "markdown",
   "metadata": {},
   "source": [
    "--------------------------------------------------------------------------------------------------------------------------------\n",
    "### **formula** argument \n",
    "\n",
    "- The **formula** is where the response is modeled as a function of the explantory variables. In this case our model response is \"cancelled\". \n",
    "\n",
    "- Each explanatory variable is specified and separated with a plus sign. An important note is that the formula must be enclosed in quotation marks. \n",
    "\n",
    "An example formula is shown below.\n",
    "### \"cancelled ~ Tot_Non_Fault_Accident_Claims + YearsOwned + Saga_Years_with_Broker + Main_Driver_Age\"\n",
    "\n",
    "There are different ways that the explantory variables can be represented in the model. The two used for this GLM build are described below.\n",
    "- **C(x1)**: treat x1 as a categorical variable \n",
    "- **x1*x2**: an interaction between x1 and x2 and the individual variables \n",
    "\n",
    "The example formula adjusted to how the explantory variables have been represented in this GLM model \n",
    "\n",
    "### \"cancelled ~ C(Tot_Non_Fault_Accident_Claims) + C( YearsOwned) + C(Saga_Years_with_Broker) + C(Main_Driver_Age) + C(Vehicle_Age*Age_Difference)\"\n",
    "\n",
    "Note the reason for all variables fitted in the GML model being represented as categorical using C( ) is due to the bandings created at the start of this notebook where the Ordinal encoding function was used (forced for some un-ordered feature levels) to mimic the creation of bandings that occurs in Radar.\n",
    "\n",
    "-------------------------------------------------------------------------------------------------------------------------------"
   ]
  },
  {
   "cell_type": "markdown",
   "metadata": {},
   "source": [
    "### data arguement\n",
    "\n",
    "This should be set as equal to the dataframe to be used in the model. When building models the traning dataset should be used and not the testing to avoid misleading results. \n",
    "\n",
    "For the GLM build in this notebook the testing data is in the dataframe **Saga_NB_dropped_unnecessary_scaled_df** so the data argument should be set as\n",
    "\n",
    "### **data = Saga_NB_dropped_unnecessary_scaled_df**\n",
    "\n",
    "-------------------------------------------------------------------------------------------------------------------------------"
   ]
  },
  {
   "cell_type": "markdown",
   "metadata": {},
   "source": [
    "### family arguement\n",
    "\n",
    "Family distributions are in the families namespace. The data used for this model is a Binary Data Type since 0, 1 and the family for this data type is Binomial( ). Each family has a default link but other link functions are available for each distribution. In this case the default link function for Binomial is .logit( ) and since it is the default it does not need to be specified in the GLM fit. \n",
    "\n",
    "### family = sm.families.Binomial( )\n",
    "\n",
    "-------------------------------------------------------------------------------------------------------------------------------"
   ]
  },
  {
   "cell_type": "markdown",
   "metadata": {},
   "source": [
    "### Fitting the GLM\n",
    "\n",
    "### glm_model = smf.glm(\"cancelled ~ C(Tot_Non_Fault_Accident_Claims) + C( YearsOwned) + C(Saga_Years_with_Broker) + C(Main_Driver_Age) + C(Vehicle_Age*Age_Difference)\", data = Saga_NB_dropped_unnecessary_scaled_df, family = sm.families.Binomial()).fit() \n",
    "\n",
    "--------------------------------------------------------------------------------------------------------------------------------"
   ]
  },
  {
   "cell_type": "markdown",
   "metadata": {},
   "source": [
    "### Summarising the model and predictions \n",
    "\n",
    "To view the results of the model fit use the summary method. \n",
    "\n",
    "### glm_model.summary( ) \n",
    "\n",
    "This table provides the main information on the model fit such as, model description, statistics and estimated parameters. \n",
    "\n",
    "To view the predictions of the model the test data should be specified which should contain all the variables included in the final model. Earlier in this notebook the training data was specified in X_train and y_train then the testing data split into  X_test and y_test. \n",
    "\n",
    "-------------------------------------------------------------------------------------------------------------------------------"
   ]
  },
  {
   "cell_type": "markdown",
   "metadata": {},
   "source": [
    "## Setting explanatory variables representation in GLM formula to C( ) "
   ]
  },
  {
   "cell_type": "code",
   "execution_count": null,
   "metadata": {},
   "outputs": [],
   "source": [
    "overall_formula = \"\"\n",
    "for feature in important_factors:\n",
    "    formula_component = \" C(\"+feature+\") +\"\n",
    "    overall_formula+=formula_component"
   ]
  },
  {
   "cell_type": "code",
   "execution_count": null,
   "metadata": {},
   "outputs": [],
   "source": [
    "overall_formula"
   ]
  },
  {
   "cell_type": "code",
   "execution_count": null,
   "metadata": {},
   "outputs": [],
   "source": [
    "full_formula = \"\"\n",
    "for feature in Saga_NB_dropped_unnecessary_scaled_df.columns:\n",
    "    formula_component = \" C(\"+feature+\") +\"\n",
    "    full_formula+=formula_component\n",
    "print(full_formula)"
   ]
  },
  {
   "cell_type": "markdown",
   "metadata": {},
   "source": [
    "## Converting back to the list to use in VIF"
   ]
  },
  {
   "cell_type": "code",
   "execution_count": null,
   "metadata": {},
   "outputs": [],
   "source": [
    "factors_string = 'C(AgePassedTest) + C(Main_Driver_Age) + C(Annual_Mileage) + C(Vehicle_Age) + C(Vehicle_Value) + C(VehicleAgeatPurchase) + C(YearsOwned) + C(SagaQuoteLag) + C(SagaFactor) + C(SagaCais) + C(Saga_Years_with_Broker) + C(Garaged) + C(Age_Difference) + C(Add_Driver_Age) + C(Main_Occupation) + C(PDR_Code) + C(Class_of_Use) + C(Main_Marital_Status) + C(Latest_Fault_Accident_Claim) + C(NCD_Protected) + C(Main_Employment_Type) + C(NCD_Earned) + C(Main_Full_Time_Employed) + C(Transaction_Type) + C(NCDAllowed)'\n",
    "factors_string.replace(\"+\", \" ,\").replace(\"'\",\"\").replace('C', '').replace('(', '').replace(')','')"
   ]
  },
  {
   "cell_type": "markdown",
   "metadata": {},
   "source": [
    "## Possible Interactions to Include"
   ]
  },
  {
   "cell_type": "code",
   "execution_count": null,
   "metadata": {},
   "outputs": [],
   "source": [
    "highest_chances_of_interactions"
   ]
  },
  {
   "cell_type": "code",
   "execution_count": null,
   "metadata": {},
   "outputs": [],
   "source": [
    "Saga_NB_dropped_unnecessary_scaled_train_df = X_train\n",
    "Saga_NB_dropped_unnecessary_scaled_train_df['cancelled'] = y_train\n",
    "\n",
    "Saga_NB_dropped_unnecessary_scaled_train_df"
   ]
  },
  {
   "cell_type": "markdown",
   "metadata": {},
   "source": [
    "## Ensuring all possible levels are defined for variables included"
   ]
  },
  {
   "cell_type": "code",
   "execution_count": null,
   "metadata": {},
   "outputs": [],
   "source": [
    "#Perform this same union for any factors included.\n",
    "\n",
    "all_AgePassedTest = sorted(set(Saga_NB_dropped_unnecessary_scaled_df[\"AgePassedTest\"]).union(set(Saga_NB_dropped_unnecessary_scaled_test_df[\"AgePassedTest\"])))\n",
    "all_YearsOwned = sorted(set(Saga_NB_dropped_unnecessary_scaled_df[\"YearsOwned\"]).union(set(Saga_NB_dropped_unnecessary_scaled_test_df[\"YearsOwned\"])))\n",
    "all_Class_of_Use = sorted(set(Saga_NB_dropped_unnecessary_scaled_df[\"Class_of_Use\"]).union(set(Saga_NB_dropped_unnecessary_scaled_test_df[\"Class_of_Use\"])))\n",
    "all_Annual_Mileage = sorted(set(Saga_NB_dropped_unnecessary_scaled_df[\"Annual_Mileage\"]).union(set(Saga_NB_dropped_unnecessary_scaled_test_df[\"Annual_Mileage\"])))\n",
    "all_Age_Difference = sorted(set(Saga_NB_dropped_unnecessary_scaled_df[\"Age_Difference\"]).union(set(Saga_NB_dropped_unnecessary_scaled_test_df[\"Age_Difference\"])))\n",
    "all_Add_Driver_Age = sorted(set(Saga_NB_dropped_unnecessary_scaled_df[\"Add_Driver_Age\"]).union(set(Saga_NB_dropped_unnecessary_scaled_test_df[\"Add_Driver_Age\"])))\n",
    "all_Access_to_Other_Vehs = sorted(set(Saga_NB_dropped_unnecessary_scaled_df[\"Access_to_Other_Vehs\"]).union(set(Saga_NB_dropped_unnecessary_scaled_test_df[\"Access_to_Other_Vehs\"])))\n",
    "all_PDR_Code = sorted(set(Saga_NB_dropped_unnecessary_scaled_df[\"PDR_Code\"]).union(set(Saga_NB_dropped_unnecessary_scaled_test_df[\"PDR_Code\"])))\n",
    "all_NCD_Protected = sorted(set(Saga_NB_dropped_unnecessary_scaled_df[\"NCD_Protected\"]).union(set(Saga_NB_dropped_unnecessary_scaled_test_df[\"NCD_Protected\"])))\n",
    "all_NCDAllowed = sorted(set(Saga_NB_dropped_unnecessary_scaled_df[\"NCDAllowed\"]).union(set(Saga_NB_dropped_unnecessary_scaled_test_df[\"NCDAllowed\"])))\n",
    "all_NCD_Earned = sorted(set(Saga_NB_dropped_unnecessary_scaled_df[\"NCD_Earned\"]).union(set(Saga_NB_dropped_unnecessary_scaled_test_df[\"NCD_Earned\"])))\n",
    "all_Main_Full_Time_Employed = sorted(set(Saga_NB_dropped_unnecessary_scaled_df[\"Main_Full_Time_Employed\"]).union(set(Saga_NB_dropped_unnecessary_scaled_test_df[\"Main_Full_Time_Employed\"])))\n",
    "all_Main_Occupation = sorted(set(Saga_NB_dropped_unnecessary_scaled_df[\"Main_Occupation\"]).union(set(Saga_NB_dropped_unnecessary_scaled_test_df[\"Main_Occupation\"])))\n",
    "all_Latest_Fault_Accident_Claim = sorted(set(Saga_NB_dropped_unnecessary_scaled_df[\"Latest_Fault_Accident_Claim\"]).union(set(Saga_NB_dropped_unnecessary_scaled_test_df[\"Latest_Fault_Accident_Claim\"])))\n",
    "all_Tot_Non_Fault_Accident_Claims = sorted(set(Saga_NB_dropped_unnecessary_scaled_df[\"Tot_Non_Fault_Accident_Claims\"]).union(set(Saga_NB_dropped_unnecessary_scaled_test_df[\"Tot_Non_Fault_Accident_Claims\"])))\n",
    "all_Main_Driver_Age = sorted(set(Saga_NB_dropped_unnecessary_scaled_df[\"Main_Driver_Age\"]).union(set(Saga_NB_dropped_unnecessary_scaled_test_df[\"Main_Driver_Age\"])))\n",
    "all_Vehicle_Age = sorted(set(Saga_NB_dropped_unnecessary_scaled_df[\"Vehicle_Age\"]).union(set(Saga_NB_dropped_unnecessary_scaled_test_df[\"Vehicle_Age\"])))\n",
    "all_VehicleAgeatPurchase = sorted(set(Saga_NB_dropped_unnecessary_scaled_df[\"VehicleAgeatPurchase\"]).union(set(Saga_NB_dropped_unnecessary_scaled_test_df[\"VehicleAgeatPurchase\"])))\n",
    "all_Vehicle_Value = sorted(set(Saga_NB_dropped_unnecessary_scaled_df[\"Vehicle_Value\"]).union(set(Saga_NB_dropped_unnecessary_scaled_test_df[\"Vehicle_Value\"])))\n",
    "all_Vehicle_Owner = sorted(set(Saga_NB_dropped_unnecessary_scaled_df[\"Vehicle_Owner\"]).union(set(Saga_NB_dropped_unnecessary_scaled_test_df[\"Vehicle_Owner\"])))\n",
    "all_Saga_Years_with_Broker = sorted(set(Saga_NB_dropped_unnecessary_scaled_df[\"Saga_Years_with_Broker\"]).union(set(Saga_NB_dropped_unnecessary_scaled_test_df[\"Saga_Years_with_Broker\"])))\n",
    "all_SagaCais = sorted(set(Saga_NB_dropped_unnecessary_scaled_df[\"SagaCais\"]).union(set(Saga_NB_dropped_unnecessary_scaled_test_df[\"SagaCais\"])))\n",
    "all_SagaFactor = sorted(set(Saga_NB_dropped_unnecessary_scaled_df[\"SagaFactor\"]).union(set(Saga_NB_dropped_unnecessary_scaled_test_df[\"SagaFactor\"])))\n",
    "all_SagaQuoteLag = sorted(set(Saga_NB_dropped_unnecessary_scaled_df[\"SagaQuoteLag\"]).union(set(Saga_NB_dropped_unnecessary_scaled_test_df[\"SagaQuoteLag\"])))\n",
    "all_Transaction_Type = sorted(set(Saga_NB_dropped_unnecessary_scaled_df[\"Transaction_Type\"]).union(set(Saga_NB_dropped_unnecessary_scaled_test_df[\"Transaction_Type\"])))\n"
   ]
  },
  {
   "cell_type": "markdown",
   "metadata": {},
   "source": [
    "# Buidling the first iteration of the model with solo factors returning from factor importance checks and model/industry knowledge (while monitoring the test Gini).\n",
    "\n",
    "### *Ensuring the prediction remains as a probability not a classifier.*\n",
    "\n",
    "\n",
    "Adding Main_Driver_Age means the output becomes binary... why? Can't have Main_Driver_Age and Add_Driver_Age in the model together...\n",
    "\n",
    "Can't have Main_Driver_Age with Age_Difference in the same model..."
   ]
  },
  {
   "cell_type": "code",
   "execution_count": null,
   "metadata": {},
   "outputs": [],
   "source": [
    "import sklearn\n",
    "\n",
    "mod_solo_factors = smf.glm(formula = \"cancelled ~ (C(Tot_Non_Fault_Accident_Claims, levels = all_Tot_Non_Fault_Accident_Claims) + C(YearsOwned, levels = all_YearsOwned) + C(Saga_Years_with_Broker, levels = all_Saga_Years_with_Broker) + C(Main_Driver_Age, levels = all_Main_Driver_Age) + C(Main_Occupation, levels = all_Main_Occupation) + C(Latest_Fault_Accident_Claim, levels = all_Latest_Fault_Accident_Claim) + C(NCD_Earned, levels = all_NCD_Earned) + C(NCDAllowed, levels = all_NCDAllowed) + C(NCD_Protected, levels = all_NCD_Protected) + C(VehicleAgeatPurchase, levels = all_VehicleAgeatPurchase) + C(SagaQuoteLag, levels = all_SagaQuoteLag) + C(SagaCais, levels = all_SagaCais) + C(PDR_Code, levels = all_PDR_Code) +  C(Vehicle_Age, levels = all_Vehicle_Age) + C(Class_of_Use, levels = all_Class_of_Use) + C(Main_Full_Time_Employed, levels = all_Main_Full_Time_Employed) + C(Annual_Mileage, levels = all_Annual_Mileage) + C(Vehicle_Value, levels = all_Vehicle_Value) + C(Transaction_Type, levels = all_Transaction_Type) + C(Vehicle_Owner, levels = all_Vehicle_Owner))\", data = Saga_NB_dropped_unnecessary_scaled_df, family=sm.families.Binomial()).fit()\n",
    "y_predict_solo_factors = mod_solo_factors.predict(X_test)\n",
    "\n",
    "auc_Saga_NB = sklearn.metrics.roc_auc_score(y_test, y_predict_solo_factors)\n",
    "gini_Saga_NB = (2*auc_Saga_NB)-1\n",
    "print('Gini value: ',gini_Saga_NB)\n",
    "\n",
    "mse = sklearn.metrics.mean_squared_error(y_predict_solo_factors, y_test)\n",
    "#model_accuracy = (len(y_test) - len(y_test[y_predict_solo_factors_model_accuracy!=y_test]))/len(y_test)\n",
    "print('MSE: '+ str(float(mse)))"
   ]
  },
  {
   "cell_type": "code",
   "execution_count": null,
   "metadata": {},
   "outputs": [],
   "source": [
    "y_predict_solo_factors"
   ]
  },
  {
   "cell_type": "markdown",
   "metadata": {},
   "source": [
    "## Best initial performance\n",
    "\n",
    "Can check each itertion against this."
   ]
  },
  {
   "cell_type": "markdown",
   "metadata": {},
   "source": [
    "Max Gini: **0.4592546267408144**\n",
    "\n",
    "Min MSE: **0.10264240720900086**"
   ]
  },
  {
   "cell_type": "markdown",
   "metadata": {},
   "source": [
    "## Evaluating the model\n",
    "\n",
    "To evaluate the model performance we must test the fitted model on the out-sample (test) set of data to see how it performs-we must call the predict function on this 'X_test' data to give the 'y_predict' values."
   ]
  },
  {
   "cell_type": "code",
   "execution_count": null,
   "metadata": {},
   "outputs": [],
   "source": [
    "from sklearn import metrics\n",
    "\n",
    "y_predict_solo_factors = mod_solo_factors.predict(X_test)"
   ]
  },
  {
   "cell_type": "markdown",
   "metadata": {},
   "source": [
    "# Calculating the Gini coefficient"
   ]
  },
  {
   "cell_type": "markdown",
   "metadata": {},
   "source": [
    "# Using AUC and performing a numerical operation to retrieve the Gini Coefficient."
   ]
  },
  {
   "cell_type": "code",
   "execution_count": null,
   "metadata": {},
   "outputs": [],
   "source": [
    "from sklearn import metrics\n",
    "auc_Saga_NB = metrics.roc_auc_score(y_test, y_predict_solo_factors)\n",
    "gini_Saga_NB = (2*auc_Saga_NB)-1\n",
    "print(gini_Saga_NB)"
   ]
  },
  {
   "cell_type": "markdown",
   "metadata": {},
   "source": [
    "## Add interactions and perform predictions and scoring each time/iteratively to test model performance.\n",
    "\n",
    "Try out the ones ranked by Chi squared values that seem logical."
   ]
  },
  {
   "cell_type": "code",
   "execution_count": null,
   "metadata": {},
   "outputs": [],
   "source": [
    "highest_chances_of_interactions"
   ]
  },
  {
   "cell_type": "markdown",
   "metadata": {},
   "source": [
    "## Test any other factors that are likely to interact for this model type (from the list of important factors or any others)"
   ]
  },
  {
   "cell_type": "code",
   "execution_count": null,
   "metadata": {},
   "outputs": [],
   "source": [
    "important_factors"
   ]
  },
  {
   "cell_type": "markdown",
   "metadata": {},
   "source": [
    "## A large benefit from building the GLMs in Python, other than the much quicker rate of build, is the fact that you can produce metrics for model performance on the testing data instantly-don't have to import and plug into Radar to retrieve this.\n",
    "\n",
    "Meaning that iterations of a model can be built at much faster rates compared to the Emblem/Radar architecture. This instant metric calculation is shown below where the Gini score of the model on the test data set is retrieved instantly after fitting the model."
   ]
  },
  {
   "cell_type": "markdown",
   "metadata": {},
   "source": [
    "Max Gini without interaction: **0.4592546267408144**\n",
    "\n",
    "Min MSE without interaction: **0.10264240720900086**"
   ]
  },
  {
   "cell_type": "code",
   "execution_count": null,
   "metadata": {},
   "outputs": [],
   "source": [
    "import sklearn\n",
    "\n",
    "mod_banded_interactions = smf.glm(formula = \"cancelled ~ (C(Vehicle_Age*Age_Difference) + C(Tot_Non_Fault_Accident_Claims) + C(YearsOwned, levels = all_YearsOwned) + C(Saga_Years_with_Broker, levels = all_Saga_Years_with_Broker) + C(Main_Driver_Age, levels = all_Main_Driver_Age) + C(Main_Occupation, levels = all_Main_Occupation) + C(Latest_Fault_Accident_Claim, levels = all_Latest_Fault_Accident_Claim) + C(NCD_Earned, levels = all_NCD_Earned) + C(NCDAllowed, levels = all_NCDAllowed) + C(NCD_Protected, levels = all_NCD_Protected) + C(VehicleAgeatPurchase, levels = all_VehicleAgeatPurchase) + C(SagaQuoteLag, levels = all_SagaQuoteLag) + C(SagaCais, levels = all_SagaCais) + C(PDR_Code, levels = all_PDR_Code) +  C(Vehicle_Age, levels = all_Vehicle_Age) + C(Class_of_Use, levels = all_Class_of_Use) + C(Main_Full_Time_Employed, levels = all_Main_Full_Time_Employed) + C(Annual_Mileage, levels = all_Annual_Mileage) + C(Vehicle_Value, levels = all_Vehicle_Value) + C(Transaction_Type, levels = all_Transaction_Type) + C(Vehicle_Owner, levels = all_Vehicle_Owner))\", data = Saga_NB_dropped_unnecessary_scaled_df, family=sm.families.Binomial()).fit()\n",
    "y_predict_interactions = mod_banded_interactions.predict(X_test)\n",
    "\n",
    "auc_Saga_NB = sklearn.metrics.roc_auc_score(y_test, y_predict_interactions)\n",
    "gini_Saga_NB = (2*auc_Saga_NB)-1\n",
    "print('Gini value: ',gini_Saga_NB)\n",
    "\n",
    "mse = sklearn.metrics.mean_squared_error(y_predict_interactions, y_test)\n",
    "#model_accuracy = (len(y_test) - len(y_test[y_predict_solo_factors_model_accuracy!=y_test]))/len(y_test)\n",
    "print('MSE: '+ str(float(mse)))"
   ]
  },
  {
   "cell_type": "code",
   "execution_count": null,
   "metadata": {},
   "outputs": [],
   "source": [
    "y_predict_interactions"
   ]
  },
  {
   "cell_type": "markdown",
   "metadata": {},
   "source": [
    "Max Gini with interaction: **0.460361049419165**\n",
    "\n",
    "Min MSE with interaction: **0.1019506607904331**"
   ]
  },
  {
   "cell_type": "markdown",
   "metadata": {},
   "source": [
    "\n",
    "#### Could try:\n",
    "\n",
    "Age_Difference*NCD_Protected: Lowered test Gini.\n",
    "\n",
    "**Main_Marital_Status\\*NCD_Protected and Main_Full_Time_Employed\\*NCD_Protected together: Increased test Gini. (0.2336)**\n",
    "\n",
    "Main_Full_Time_Employed*Main_Marital_Status: Lowered test Gini.\n",
    "\n",
    "**SagaCais*Age_Difference: Increased Test Gini**\n",
    "\n",
    "**NCD_Protected*PDR_Code: Increase Test Gini**\n",
    "\n",
    "Main_Marital_Status\\*Transaction_Type: Lowered Test Gini\n",
    "\n",
    "NCD_Protected\\*Transaction_Type: Lowered Test Gini\n",
    "\n",
    "Main_Full_Time_Employed*Main_Marital_Status:\n",
    "\n",
    "Main_Full_Time_Employed\\*Transaction_Type:\n",
    "\n",
    "SagaQuoteLag\\*Age_Difference: Lowered Test Gini\n",
    "\n",
    "SagaFactor*Age_Difference: Lowered Test Gini\n",
    "\n",
    "Main_Full_Time_Employed\\*Main_Driver_Age: Lowered Test Gini.\n",
    "\n",
    "Vehicle_Age\\*Main_Driver_Age: Lowered Test Gini.\n",
    "\n",
    "Vehicle_Age\\*Age_Difference: Lowered Test Gini (only slightly)\n",
    "\n",
    "SagaCais\\*AgePassedTest: \n",
    "\n",
    "SagaQuoteLag\\*Main_Driver_Age:\n"
   ]
  },
  {
   "cell_type": "markdown",
   "metadata": {},
   "source": [
    "## Are there any Solo factors not picked up by feature imporance but from experience are worth checking/testing:\n",
    "\n",
    "Access_to_Other_Vehs: Lowered Test Gini.\n",
    "\n",
    "Add_Other_Vehs_Owned: Lowered Test Gini\n",
    "\n",
    "Latest_Conviction: Lowered Test Gini.\n",
    "\n",
    "Latest_Non_Fault_Accident_Claim: Lowered Test Gini\n",
    "\n",
    "**Tot_Non_Fault_Accident_Claims: Increased Test Gini a lot! (0.3048)**\n",
    "\n",
    "Vehicle_Owner: Lowered test Gini \n"
   ]
  },
  {
   "cell_type": "code",
   "execution_count": null,
   "metadata": {},
   "outputs": [],
   "source": [
    "Access_to_Other_Vehs, \n",
    "\n",
    "Add_Other_Vehs_Owned,\n",
    "\n",
    "Latest_Conviction,\n",
    "\n",
    "Latest_Non_Fault_Accident_Claim,\n",
    "\n",
    "Tot_Non_Fault_Accident_Claims,\n",
    "\n",
    "Vehicle_Owner\n"
   ]
  },
  {
   "cell_type": "code",
   "execution_count": null,
   "metadata": {},
   "outputs": [],
   "source": [
    "y_predict_interactions"
   ]
  },
  {
   "cell_type": "markdown",
   "metadata": {},
   "source": [
    "C(YearsOwned, levels = all_YearsOwned)*C(Vehicle_Age, levels = all_Vehicle_Age) "
   ]
  },
  {
   "cell_type": "code",
   "execution_count": null,
   "metadata": {},
   "outputs": [],
   "source": [
    "Saga_NB_dropped_unnecessary_scaled_df\n"
   ]
  },
  {
   "cell_type": "markdown",
   "metadata": {},
   "source": [
    "## Plotting the ROC curve"
   ]
  },
  {
   "cell_type": "code",
   "execution_count": null,
   "metadata": {},
   "outputs": [],
   "source": [
    "y_proba = mod_banded_interactions.predict_prob(X_test)\n",
    "\n",
    "from sklearn.metrics import roc_curve\n",
    "from sklearn.metrics import RocCurveDisplay\n",
    "def plot_sklearn_roc_curve(y_test, y_predict_interactions):\n",
    "    fpr, tpr, _ = roc_curve(y_test, y_predict_interactions)\n",
    "    roc_display = RocCurveDisplay(fpr=fpr, tpr=tpr).plot()\n",
    "    roc_display.figure_.set_size_inches(5,5)\n",
    "    plt.plot([0, 1], [0, 1], color = 'g')\n",
    "# Plots the ROC curve using the sklearn methods - Good plot\n",
    "plot_sklearn_roc_curve(y_test, y_proba[:, 1])\n",
    "# Plots the ROC curve using the sklearn methods - Bad plot\n",
    "plot_sklearn_roc_curve(y_test, y_predict_interactions)"
   ]
  },
  {
   "cell_type": "code",
   "execution_count": null,
   "metadata": {},
   "outputs": [],
   "source": [
    "mse = sklearn.metrics.mean_squared_error(y_predict_interactions, y_test)\n",
    "model_accuracy = (len(y_test) - len(y_test[y_predict_interactions!=y_test]))/len(y_test)\n",
    "print('MSE: '+ str(float(mse)), '   Model Accuracy score:',model_accuracy)"
   ]
  },
  {
   "cell_type": "markdown",
   "metadata": {},
   "source": [
    "# Highest Gini: 0.3048, Highest Model accuracy: 0.787, Best MSE: 0.213\n",
    "\n",
    "# Emblem Highest Gini: 0.4 (which value do we use?), Highest Model accuracy: 0.873, best MSE: 0.12.."
   ]
  },
  {
   "cell_type": "markdown",
   "metadata": {},
   "source": [
    "## Iterating over VIF values"
   ]
  },
  {
   "cell_type": "code",
   "execution_count": null,
   "metadata": {},
   "outputs": [],
   "source": [
    "print(important_factors)"
   ]
  },
  {
   "cell_type": "code",
   "execution_count": null,
   "metadata": {},
   "outputs": [],
   "source": [
    "from statsmodels.stats.outliers_influence import variance_inflation_factor\n",
    "X =  Saga_NB_dropped_unnecessary_scaled_df[['Tot_Non_Fault_Accident_Claims',  'AgePassedTest', 'Main_Driver_Age', 'Annual_Mileage', 'Vehicle_Value', 'VehicleAgeatPurchase', 'YearsOwned', 'SagaQuoteLag', 'SagaFactor', 'SagaCais', 'Saga_Years_with_Broker', 'Garaged', 'Age_Difference', 'Add_Driver_Age', 'Main_Occupation', 'PDR_Code', 'Class_of_Use', 'Main_Marital_Status', 'Latest_Fault_Accident_Claim', 'NCD_Protected', 'Main_Employment_Type', 'NCD_Earned', 'Main_Full_Time_Employed', 'Transaction_Type', 'NCDAllowed']]\n",
    "X['Intercept'] = 1\n",
    "\n",
    "vif = pd.DataFrame()\n",
    "vif['Features'] = X.columns\n",
    "vif['VIF'] = [variance_inflation_factor(X.values, i) for i in range (X.shape[1])]\n",
    "vif.sort_values(by=\"VIF\", ascending=False) "
   ]
  },
  {
   "cell_type": "markdown",
   "metadata": {},
   "source": [
    "## Remove high VIF scoring factors and re-test model performance"
   ]
  },
  {
   "cell_type": "markdown",
   "metadata": {},
   "source": [
    "Removing Vehicle_Age: Decreases Test Gini score.\n",
    "\n",
    "Removing YearsOwned: Decreased Test Gini Score.\n",
    "\n",
    "Removing VehicleAgeatPurchase: Decreased Test Gini Score\n",
    "\n",
    "Removing Main_Full_Time_Employed: Decreased Test Gini Score\n",
    "\n",
    "Removing Main_Employment_Type: Decreased Test Gini Score\n",
    "\n",
    "Removing NCD_Earned: Decreased Test Gini Score\n",
    "\n",
    "Removing Add_Driver_Age: Decreased Test Gini Score"
   ]
  },
  {
   "cell_type": "code",
   "execution_count": null,
   "metadata": {},
   "outputs": [],
   "source": [
    "\n",
    "mod_banded_VIF_check = smf.glm(formula = \"cancelled ~ C(Tot_Non_Fault_Accident_Claims) + C(NCD_Protected*PDR_Code) + C(SagaCais*Age_Difference) + (Main_Full_Time_Employed*NCD_Protected) + C(Main_Marital_Status*NCD_Protected) + C(AgePassedTest, levels = all_AgePassedTest) +C(Main_Driver_Age, levels = all_Main_Driver_Age) + C(Annual_Mileage) + C(Vehicle_Age) + C(Vehicle_Value) + C(VehicleAgeatPurchase) + C(YearsOwned) + C(SagaQuoteLag) + C(SagaFactor) + C(SagaCais) + C(Saga_Years_with_Broker) + C(Garaged) + C(Age_Difference) + C(Add_Driver_Age) + C(Main_Occupation) + C(PDR_Code) + C(Class_of_Use) + C(Main_Marital_Status) + C(Latest_Fault_Accident_Claim) + C(NCD_Protected) + C(Main_Employment_Type) + C(NCD_Earned) + C(Main_Full_Time_Employed) + C(Transaction_Type) + C(NCDAllowed)\", data = Saga_NB_dropped_unnecessary_scaled_df , family=sm.families.Binomial() ).fit()\n",
    "\n",
    "y_predict_VIF_check = mod_banded_VIF_check.predict(X_test)\n",
    "\n",
    "from sklearn import metrics\n",
    "auc_Saga_NB = metrics.roc_auc_score(y_test, y_predict_VIF_check)\n",
    "gini_Saga_NB = (2*auc_Saga_NB)-1\n",
    "print(gini_Saga_NB)\n"
   ]
  },
  {
   "cell_type": "markdown",
   "metadata": {},
   "source": [
    "## Producing Emblem like plots for important/included factors"
   ]
  },
  {
   "cell_type": "code",
   "execution_count": null,
   "metadata": {},
   "outputs": [],
   "source": [
    "sn.lineplot(X_test['Main_Driver_Age'], y_test)\n",
    "\n",
    "sn.lineplot(X_test['Main_Driver_Age'], y_predict_interactions)"
   ]
  },
  {
   "cell_type": "code",
   "execution_count": null,
   "metadata": {},
   "outputs": [],
   "source": [
    "sn.lineplot(X_test['SagaFactor'], y_test)\n",
    "\n",
    "sn.lineplot(X_test['SagaFactor'], y_predict_interactions)"
   ]
  },
  {
   "cell_type": "markdown",
   "metadata": {},
   "source": [
    "## Checking the cancellation rate is the same here and on Radar\n",
    "\n",
    "It is! Correct datasets.\n",
    "\n",
    "**Important-is the Radar Gini Scaled already???**"
   ]
  },
  {
   "cell_type": "code",
   "execution_count": null,
   "metadata": {},
   "outputs": [],
   "source": [
    "np.mean(np.array(Saga_NB_dropped_unnecessary_scaled_test_df['cancelled']))"
   ]
  },
  {
   "cell_type": "code",
   "execution_count": null,
   "metadata": {},
   "outputs": [],
   "source": [
    "Saga_NB_dropped_unnecessary_scaled_df['cancelled'] = Saga_NB_dropped_unnecessary_scaled_df['cancelled'].astype(int)"
   ]
  },
  {
   "cell_type": "code",
   "execution_count": null,
   "metadata": {},
   "outputs": [],
   "source": [
    "Saga_NB_dropped_unnecessary_scaled_df"
   ]
  },
  {
   "cell_type": "markdown",
   "metadata": {},
   "source": [
    "## Orla's model?"
   ]
  },
  {
   "cell_type": "code",
   "execution_count": null,
   "metadata": {},
   "outputs": [],
   "source": [
    "y_predict_orla"
   ]
  },
  {
   "cell_type": "code",
   "execution_count": null,
   "metadata": {},
   "outputs": [],
   "source": [
    "auc_Saga_NB = metrics.roc_auc_score(y_test, y_predict_orla)\n",
    "gini_Saga_NB = (2*auc_Saga_NB)-1\n",
    "print(gini_Saga_NB)\n",
    "\n",
    "\n",
    "mse = sklearn.metrics.mean_squared_error(y_predict_orla, y_test)\n",
    "model_accuracy = (len(y_test) - len(y_test[y_predict_orla!=y_test]))/len(y_test)\n",
    "print('MSE: '+ str(float(mse)), '   Model Accuracy score:',model_accuracy)\n"
   ]
  },
  {
   "cell_type": "code",
   "execution_count": null,
   "metadata": {},
   "outputs": [],
   "source": [
    "mod_banded_interactions.predict()"
   ]
  },
  {
   "cell_type": "code",
   "execution_count": null,
   "metadata": {},
   "outputs": [],
   "source": [
    "testing_predictions = mod_banded_interactions.predict(X_test)\n",
    "print(testing_predictions)"
   ]
  },
  {
   "cell_type": "markdown",
   "metadata": {},
   "source": [
    "## Factors present in the Emblem model\n"
   ]
  },
  {
   "cell_type": "code",
   "execution_count": null,
   "metadata": {},
   "outputs": [],
   "source": [
    "mod_emblem_copy = smf.glm(formula = \"cancelled ~ C(AgePassedTest, levels=all_AgePassedTest) + C(YearsOwned, levels=all_YearsOwned) + C(Class_of_Use, levels=all_Class_of_Use) + C(Annual_Mileage, levels=all_Annual_Mileage) +  C(Age_Difference, levels=all_Age_Difference) + C(Access_to_Other_Vehs, levels=all_Access_to_Other_Vehs) + C(PDR_Code, levels=all_PDR_Code) + C(NCD_Protected, levels=all_NCD_Protected) + C(Main_Full_Time_Employed, levels=all_Main_Full_Time_Employed) + C(Latest_Fault_Accident_Claim, levels=all_Latest_Fault_Accident_Claim) +  C(Main_Driver_Age, levels=all_Main_Driver_Age) + C(Vehicle_Age, levels=all_Vehicle_Age) +  C(Vehicle_Value, levels=all_Vehicle_Value) + C(Saga_Years_with_Broker, levels=all_Saga_Years_with_Broker) +  C(SagaCais, levels=all_SagaCais) +  C(SagaFactor, levels=all_SagaFactor)\", data = Saga_NB_dropped_unnecessary_scaled_df , family=sm.families.Binomial()).fit()\n",
    "\n",
    "y_predict_emblem_copy = mod_emblem_copy.predict(X_test)\n",
    "from sklearn import metrics\n",
    "auc_Saga_NB = metrics.roc_auc_score(y_test, y_predict_emblem_copy)\n",
    "gini_Saga_NB = (2*auc_Saga_NB)-1\n",
    "print(gini_Saga_NB)\n",
    "\n"
   ]
  },
  {
   "cell_type": "code",
   "execution_count": null,
   "metadata": {},
   "outputs": [],
   "source": [
    "y_predict_emblem_copy"
   ]
  },
  {
   "cell_type": "code",
   "execution_count": null,
   "metadata": {},
   "outputs": [],
   "source": [
    "y_predict_emblem_copy"
   ]
  },
  {
   "cell_type": "code",
   "execution_count": null,
   "metadata": {},
   "outputs": [],
   "source": []
  }
 ],
 "metadata": {
  "language_info": {
   "name": "python",
   "pygments_lexer": "ipython3"
  }
 },
 "nbformat": 4,
 "nbformat_minor": 2
}
