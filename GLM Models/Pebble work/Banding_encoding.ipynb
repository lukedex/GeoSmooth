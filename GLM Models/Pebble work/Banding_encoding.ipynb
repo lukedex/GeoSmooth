{
 "cells": [
  {
   "cell_type": "code",
   "execution_count": null,
   "metadata": {},
   "outputs": [],
   "source": [
    "import pandas as pd\n",
    "import numpy as np\n",
    "import sklearn\n",
    "from sklearn.preprocessing import OrdinalEncoder\n",
    "from sklearn.preprocessing import OneHotEncoder\n",
    "\n",
    "from sklearn.model_selection import train_test_split\n",
    "pd.set_option('display.max_columns', None)\n",
    "\n",
    "import statsmodels.api as sm"
   ]
  },
  {
   "cell_type": "code",
   "execution_count": null,
   "metadata": {},
   "outputs": [],
   "source": [
    "Saga_NB_banded_df = pd.read_csv(r\"R:\\Pricing & Actuarial\\Pricing\\Personal Lines Pricing - Motor\\Technical\\8. Optimisation\\6. CDL\\1. Jan22\\2. Modelling\\Python\\Cancellation_NB_Saga_Nov19-Nov21_train.csv\")"
   ]
  },
  {
   "cell_type": "code",
   "execution_count": null,
   "metadata": {},
   "outputs": [],
   "source": [
    "Saga_NB_banded_df.head()"
   ]
  },
  {
   "attachments": {},
   "cell_type": "markdown",
   "metadata": {},
   "source": [
    "## Ordinal Encoding"
   ]
  },
  {
   "cell_type": "code",
   "execution_count": null,
   "metadata": {},
   "outputs": [],
   "source": [
    "ordinal_encoder = OrdinalEncoder(categories=[['Under 1000', '1000 - 1999', '2000 - 2999', '3000 - 3999', '4000 - 4999', '5000 - 5999', '6000 - 6999', '7000 - 7999', '8000 - 8999', '9000 - 9999', '10000 - 10999', '11000 - 11999', '12000 - 12999', '13000 - 13999', '14000 - 14999', '15000 - 15999', '16000 - 16999', '17000 - 17999', '18000 - 18999', '19000 - 19999', '20000-20999', '21000-21999', '22000-22999', '23000-23999', '24000-24999', '25000-25999', '26000-26999', '27000-27999', '28000-28999', '29000-29999', '30000-30999', '31000-31999', '32000-32999', '33000-33999', '34000-34999', '35000-35999', '36000-36999', '37000-37999', '38000-38999', '39000-39999', '40000-40999', '41000-41999', '42000-42999', '43000-43999', '44000-44999', '45000-45999', '46000-46999', '47000-47999', '48000-48999', '49000-49999', '50000+'], ['0-74', '75-84','85-94', '95-104', '105-114', '115-124', '125-134', '135-144', '145+', 'Default']])\n",
    "vehicle_value_encoded = ordinal_encoder.fit(Saga_NB_banded_df[['Vehicle_Value', 'SagaFactor']])"
   ]
  },
  {
   "cell_type": "code",
   "execution_count": null,
   "metadata": {},
   "outputs": [],
   "source": [
    "vehicle_value_encoded.categories_"
   ]
  },
  {
   "cell_type": "code",
   "execution_count": null,
   "metadata": {},
   "outputs": [],
   "source": [
    "Saga_NB_banded_df[['Vehicle_Value', 'SagaFactor']] = ordinal_encoder.fit_transform(Saga_NB_banded_df[['Vehicle_Value', 'SagaFactor']])"
   ]
  },
  {
   "cell_type": "code",
   "execution_count": null,
   "metadata": {},
   "outputs": [],
   "source": [
    "import statsmodels.formula.api as smf\n",
    "test_model = smf.glm(formula = \"cancelled ~  SagaFactor + Vehicle_Value\", data = Saga_NB_banded_df, family=sm.families.Binomial()).fit()\n",
    "test_model.summary()"
   ]
  },
  {
   "attachments": {},
   "cell_type": "markdown",
   "metadata": {},
   "source": [
    "## One hot encoding"
   ]
  },
  {
   "cell_type": "code",
   "execution_count": null,
   "metadata": {},
   "outputs": [],
   "source": [
    "encoder = OneHotEncoder(handle_unknown='ignore')\n",
    "encoder_df = encoder.fit_transform(Saga_NB_banded_df[['Vehicle_Value', 'SagaFactor']])\n",
    "encoder.get_feature_names_out()"
   ]
  },
  {
   "cell_type": "code",
   "execution_count": null,
   "metadata": {},
   "outputs": [],
   "source": [
    "from sklearn import preprocessing\n",
    "\n",
    "ohe = preprocessing.OneHotEncoder()\n",
    "\n",
    "OneHotEncoded = ohe.fit_transform(X[['Vehicle_Keeper', 'Vehicle_Owner', 'Main_Marital_Status', 'Cover', 'Main_Licence_Type', 'Main_Occupation', 'Main_Full_Time_Employed', 'Main_Employment_Type', 'Main_Employer_Business', 'Garaged', 'Class_of_Use', 'PDR_Code', 'NCD_Protected', 'Transaction_Type', 'Annual_Mileage', 'Age_Difference', 'Add_Driving_Experience', 'Add_Other_Vehs_Owned', 'Add_Driver_Age', 'Add_Access_to_Other_Vehs', 'Latest_Conviction', 'Most_Severe_Conviction', 'Latest_Fault_Accident_Claim', 'Latest_Non_Fault_Accident_Claim', 'Latest_Windscreen_Claim', 'Tot_Windscreen_Claims', 'Tot_Vandalism_Claims', 'Tot_Theft_Claims', 'Tot_Non_Fault_Accident_Claims', 'Tot_Fire_Claims', 'Tot_Fault_Accident_Claims', 'Vehicle_Value', 'SagaCais', 'SagaFactor', 'SagaQuoteLag', 'Saga_Years_with_Broker']], y)\n",
    "\n",
    "print(ohe.categories_)\n",
    "\n",
    "Saga_NB_encoded_df = pd.DataFrame(OneHotEncoded.toarray())\n"
   ]
  },
  {
   "cell_type": "code",
   "execution_count": null,
   "metadata": {},
   "outputs": [],
   "source": [
    "X = Saga_NB_banded_df[['Vehicle_Value', 'SagaFactor']]"
   ]
  },
  {
   "cell_type": "code",
   "execution_count": null,
   "metadata": {},
   "outputs": [],
   "source": [
    "X[['Vehicle_Value', 'SagaFactor']] = ordinal_encoder.fit_transform(Saga_NB_banded_df[['Vehicle_Value', 'SagaFactor']])\n",
    "\n",
    "#X[['Vehicle_Value', 'SagaFactor']] = encoder.fit_transform(Saga_NB_banded_df[['Vehicle_Value', 'SagaFactor']])"
   ]
  },
  {
   "cell_type": "code",
   "execution_count": null,
   "metadata": {},
   "outputs": [],
   "source": [
    "X"
   ]
  },
  {
   "cell_type": "code",
   "execution_count": null,
   "metadata": {},
   "outputs": [],
   "source": [
    "Saga_NB_banded_df"
   ]
  },
  {
   "cell_type": "code",
   "execution_count": null,
   "metadata": {},
   "outputs": [],
   "source": [
    "y = Saga_NB_banded_df['cancelled']"
   ]
  },
  {
   "cell_type": "code",
   "execution_count": null,
   "metadata": {},
   "outputs": [],
   "source": [
    "X_train, X_test, y_train, y_test = train_test_split(X, y, test_size = 0.2, random_state = 0)"
   ]
  },
  {
   "cell_type": "code",
   "execution_count": null,
   "metadata": {},
   "outputs": [],
   "source": [
    "Saga_NB_banded_GLM = sm.GLM(endog = np.array(y_train), exog = np.array(X_train.fillna(0)), family = sm.families.Binomial(link = sm.families.links.logit), data = Saga_NB_banded_df)"
   ]
  },
  {
   "cell_type": "code",
   "execution_count": null,
   "metadata": {},
   "outputs": [],
   "source": [
    "result_Saga_NB_banded = Saga_NB_banded_GLM.fit()"
   ]
  },
  {
   "cell_type": "code",
   "execution_count": null,
   "metadata": {},
   "outputs": [],
   "source": [
    "result_Saga_NB_banded.summary()"
   ]
  },
  {
   "cell_type": "code",
   "execution_count": null,
   "metadata": {},
   "outputs": [],
   "source": []
  }
 ],
 "metadata": {
  "language_info": {
   "name": "python",
   "pygments_lexer": "ipython3"
  }
 },
 "nbformat": 4,
 "nbformat_minor": 2
}
